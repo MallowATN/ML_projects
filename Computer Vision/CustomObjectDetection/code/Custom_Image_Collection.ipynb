{
 "cells": [
  {
   "cell_type": "markdown",
   "metadata": {},
   "source": [
    "# 1. Import Dependencies"
   ]
  },
  {
   "cell_type": "code",
   "execution_count": 1,
   "metadata": {},
   "outputs": [
    {
     "data": {
      "text/plain": [
       "'c:\\\\Users\\\\antho\\\\Desktop\\\\VSC\\\\TFOD\\\\code'"
      ]
     },
     "execution_count": 1,
     "metadata": {},
     "output_type": "execute_result"
    }
   ],
   "source": [
    "pwd"
   ]
  },
  {
   "cell_type": "code",
   "execution_count": 2,
   "metadata": {},
   "outputs": [
    {
     "name": "stdout",
     "output_type": "stream",
     "text": [
      "c:\\Users\\antho\\Desktop\\VSC\n"
     ]
    }
   ],
   "source": [
    "cd ../.."
   ]
  },
  {
   "cell_type": "code",
   "execution_count": 3,
   "metadata": {},
   "outputs": [
    {
     "name": "stdout",
     "output_type": "stream",
     "text": [
      "Collecting opencv-python\n",
      "  Using cached opencv_python-4.6.0.66-cp36-abi3-win_amd64.whl (35.6 MB)\n",
      "Collecting numpy>=1.19.3\n",
      "  Using cached numpy-1.23.2-cp310-cp310-win_amd64.whl (14.6 MB)\n",
      "Installing collected packages: numpy, opencv-python\n",
      "Successfully installed numpy-1.23.2 opencv-python-4.6.0.66\n"
     ]
    },
    {
     "name": "stderr",
     "output_type": "stream",
     "text": [
      "\n",
      "[notice] A new release of pip available: 22.2.1 -> 22.2.2\n",
      "[notice] To update, run: python.exe -m pip install --upgrade pip\n"
     ]
    }
   ],
   "source": [
    "!pip install opencv-python"
   ]
  },
  {
   "cell_type": "code",
   "execution_count": 4,
   "metadata": {},
   "outputs": [],
   "source": [
    "import cv2 \n",
    "import uuid\n",
    "import os\n",
    "import time"
   ]
  },
  {
   "cell_type": "markdown",
   "metadata": {},
   "source": [
    "# 2. Define Images to Collect"
   ]
  },
  {
   "cell_type": "code",
   "execution_count": 8,
   "metadata": {},
   "outputs": [],
   "source": [
    "labels = ['tennis_racquet', 'book', 'person', 'soccer_ball']\n",
    "number_imgs = 30"
   ]
  },
  {
   "cell_type": "markdown",
   "metadata": {},
   "source": [
    "# 3. Setup Folders "
   ]
  },
  {
   "cell_type": "code",
   "execution_count": 9,
   "metadata": {},
   "outputs": [],
   "source": [
    "IMAGES_PATH = os.path.join('TFOD','Tensorflow', 'workspace', 'images', 'collectedimages')"
   ]
  },
  {
   "cell_type": "code",
   "execution_count": 11,
   "metadata": {},
   "outputs": [],
   "source": [
    "if not os.path.exists(IMAGES_PATH):\n",
    "    if os.name == 'posix':\n",
    "        !mkdir -p {IMAGES_PATH}\n",
    "    if os.name == 'nt':\n",
    "         !mkdir {IMAGES_PATH}\n",
    "for label in labels:\n",
    "    path = os.path.join(IMAGES_PATH, label)\n",
    "    if not os.path.exists(path):\n",
    "        !mkdir {path}"
   ]
  },
  {
   "cell_type": "markdown",
   "metadata": {},
   "source": [
    "# 4. Capture Images (For custom images)"
   ]
  },
  {
   "cell_type": "code",
   "execution_count": 18,
   "metadata": {},
   "outputs": [
    {
     "name": "stdout",
     "output_type": "stream",
     "text": [
      "Collecting images for thumbsup\n",
      "Collecting image 0\n",
      "Collecting image 1\n",
      "Collecting image 2\n",
      "Collecting image 3\n",
      "Collecting image 4\n"
     ]
    }
   ],
   "source": [
    "for label in labels:\n",
    "    cap = cv2.VideoCapture(1)\n",
    "    print('Collecting images for {}'.format(label))\n",
    "    time.sleep(5)\n",
    "    for imgnum in range(number_imgs):\n",
    "        print('Collecting image {}'.format(imgnum))\n",
    "        ret, frame = cap.read()\n",
    "        imgname = os.path.join(IMAGES_PATH,label,label+'.'+'{}.jpg'.format(str(uuid.uuid1())))\n",
    "        cv2.imwrite(imgname, frame)\n",
    "        cv2.imshow('frame', frame)\n",
    "        time.sleep(2)\n",
    "\n",
    "        if cv2.waitKey(1) & 0xFF == ord('q'):\n",
    "            break\n",
    "cap.release()\n",
    "cv2.destroyAllWindows()"
   ]
  },
  {
   "cell_type": "markdown",
   "metadata": {},
   "source": [
    "# 5. Image Labelling"
   ]
  },
  {
   "cell_type": "code",
   "execution_count": 12,
   "metadata": {},
   "outputs": [
    {
     "name": "stdout",
     "output_type": "stream",
     "text": [
      "Collecting pyqt5\n",
      "  Using cached PyQt5-5.15.7-cp37-abi3-win_amd64.whl (6.8 MB)\n",
      "Collecting lxml\n",
      "  Using cached lxml-4.9.1-cp310-cp310-win_amd64.whl (3.6 MB)\n",
      "Collecting PyQt5-Qt5>=5.15.0\n",
      "  Using cached PyQt5_Qt5-5.15.2-py3-none-win_amd64.whl (50.1 MB)\n",
      "Collecting PyQt5-sip<13,>=12.11\n",
      "  Using cached PyQt5_sip-12.11.0-cp310-cp310-win_amd64.whl (78 kB)\n",
      "Installing collected packages: PyQt5-Qt5, PyQt5-sip, lxml, pyqt5\n",
      "Successfully installed PyQt5-Qt5-5.15.2 PyQt5-sip-12.11.0 lxml-4.9.1 pyqt5-5.15.7\n"
     ]
    },
    {
     "name": "stderr",
     "output_type": "stream",
     "text": [
      "\n",
      "[notice] A new release of pip available: 22.2.1 -> 22.2.2\n",
      "[notice] To update, run: python.exe -m pip install --upgrade pip\n"
     ]
    }
   ],
   "source": [
    "!pip install --upgrade pyqt5 lxml"
   ]
  },
  {
   "cell_type": "code",
   "execution_count": 13,
   "metadata": {},
   "outputs": [],
   "source": [
    "LABELIMG_PATH = os.path.join('TFOD','Tensorflow', 'labelimg')"
   ]
  },
  {
   "cell_type": "code",
   "execution_count": 14,
   "metadata": {},
   "outputs": [],
   "source": [
    "if not os.path.exists(LABELIMG_PATH):\n",
    "    !mkdir {LABELIMG_PATH}\n",
    "    !git clone https://github.com/tzutalin/labelImg {LABELIMG_PATH}"
   ]
  },
  {
   "cell_type": "code",
   "execution_count": 15,
   "metadata": {},
   "outputs": [],
   "source": [
    "if os.name == 'posix':\n",
    "    !make qt5py3\n",
    "if os.name =='nt':\n",
    "    !cd {LABELIMG_PATH} && pyrcc5 -o libs/resources.py resources.qrc"
   ]
  },
  {
   "cell_type": "code",
   "execution_count": 17,
   "metadata": {},
   "outputs": [
    {
     "name": "stdout",
     "output_type": "stream",
     "text": [
      "Image:C:\\Users\\antho\\Desktop\\VSC\\TFOD\\Tensorflow\\workspace\\images\\collectedimages\\book\\book1.png -> Annotation:C:/Users/antho/Desktop/VSC/TFOD/Tensorflow/workspace/images/collectedimages/book\\book1.xml\n",
      "Image:C:\\Users\\antho\\Desktop\\VSC\\TFOD\\Tensorflow\\workspace\\images\\collectedimages\\book\\book2.png -> Annotation:C:/Users/antho/Desktop/VSC/TFOD/Tensorflow/workspace/images/collectedimages/book\\book2.xml\n",
      "Image:C:\\Users\\antho\\Desktop\\VSC\\TFOD\\Tensorflow\\workspace\\images\\collectedimages\\book\\book3.jpg -> Annotation:C:/Users/antho/Desktop/VSC/TFOD/Tensorflow/workspace/images/collectedimages/book\\book3.xml\n",
      "Image:C:\\Users\\antho\\Desktop\\VSC\\TFOD\\Tensorflow\\workspace\\images\\collectedimages\\book\\book4.png -> Annotation:C:/Users/antho/Desktop/VSC/TFOD/Tensorflow/workspace/images/collectedimages/book\\book4.xml\n",
      "Image:C:\\Users\\antho\\Desktop\\VSC\\TFOD\\Tensorflow\\workspace\\images\\collectedimages\\book\\book5.png -> Annotation:C:/Users/antho/Desktop/VSC/TFOD/Tensorflow/workspace/images/collectedimages/book\\book5.xml\n",
      "Image:C:\\Users\\antho\\Desktop\\VSC\\TFOD\\Tensorflow\\workspace\\images\\collectedimages\\book\\book6.png -> Annotation:C:/Users/antho/Desktop/VSC/TFOD/Tensorflow/workspace/images/collectedimages/book\\book6.xml\n",
      "Image:C:\\Users\\antho\\Desktop\\VSC\\TFOD\\Tensorflow\\workspace\\images\\collectedimages\\book\\book7.png -> Annotation:C:/Users/antho/Desktop/VSC/TFOD/Tensorflow/workspace/images/collectedimages/book\\book7.xml\n",
      "Image:C:\\Users\\antho\\Desktop\\VSC\\TFOD\\Tensorflow\\workspace\\images\\collectedimages\\book\\book8.png -> Annotation:C:/Users/antho/Desktop/VSC/TFOD/Tensorflow/workspace/images/collectedimages/book\\book8.xml\n",
      "Image:C:\\Users\\antho\\Desktop\\VSC\\TFOD\\Tensorflow\\workspace\\images\\collectedimages\\book\\book9.jpg -> Annotation:C:/Users/antho/Desktop/VSC/TFOD/Tensorflow/workspace/images/collectedimages/book\\book9.xml\n",
      "Image:C:\\Users\\antho\\Desktop\\VSC\\TFOD\\Tensorflow\\workspace\\images\\collectedimages\\book\\book10.jpeg -> Annotation:C:/Users/antho/Desktop/VSC/TFOD/Tensorflow/workspace/images/collectedimages/book\\book10.xml\n",
      "Image:C:\\Users\\antho\\Desktop\\VSC\\TFOD\\Tensorflow\\workspace\\images\\collectedimages\\book\\book11.png -> Annotation:C:/Users/antho/Desktop/VSC/TFOD/Tensorflow/workspace/images/collectedimages/book\\book11.xml\n",
      "Image:C:\\Users\\antho\\Desktop\\VSC\\TFOD\\Tensorflow\\workspace\\images\\collectedimages\\book\\book12.jpg -> Annotation:C:/Users/antho/Desktop/VSC/TFOD/Tensorflow/workspace/images/collectedimages/book\\book12.xml\n",
      "Image:C:\\Users\\antho\\Desktop\\VSC\\TFOD\\Tensorflow\\workspace\\images\\collectedimages\\book\\book13.jpg -> Annotation:C:/Users/antho/Desktop/VSC/TFOD/Tensorflow/workspace/images/collectedimages/book\\book13.xml\n",
      "Image:C:\\Users\\antho\\Desktop\\VSC\\TFOD\\Tensorflow\\workspace\\images\\collectedimages\\book\\book14.jpg -> Annotation:C:/Users/antho/Desktop/VSC/TFOD/Tensorflow/workspace/images/collectedimages/book\\book14.xml\n",
      "Image:C:\\Users\\antho\\Desktop\\VSC\\TFOD\\Tensorflow\\workspace\\images\\collectedimages\\book\\book15.jpg -> Annotation:C:/Users/antho/Desktop/VSC/TFOD/Tensorflow/workspace/images/collectedimages/book\\book15.xml\n",
      "Image:C:\\Users\\antho\\Desktop\\VSC\\TFOD\\Tensorflow\\workspace\\images\\collectedimages\\book\\book16.jpg -> Annotation:C:/Users/antho/Desktop/VSC/TFOD/Tensorflow/workspace/images/collectedimages/book\\book16.xml\n",
      "Image:C:\\Users\\antho\\Desktop\\VSC\\TFOD\\Tensorflow\\workspace\\images\\collectedimages\\book\\book17.jpg -> Annotation:C:/Users/antho/Desktop/VSC/TFOD/Tensorflow/workspace/images/collectedimages/book\\book17.xml\n",
      "Image:C:\\Users\\antho\\Desktop\\VSC\\TFOD\\Tensorflow\\workspace\\images\\collectedimages\\book\\book18.png -> Annotation:C:/Users/antho/Desktop/VSC/TFOD/Tensorflow/workspace/images/collectedimages/book\\book18.xml\n",
      "Image:C:\\Users\\antho\\Desktop\\VSC\\TFOD\\Tensorflow\\workspace\\images\\collectedimages\\book\\book19.jpg -> Annotation:C:/Users/antho/Desktop/VSC/TFOD/Tensorflow/workspace/images/collectedimages/book\\book19.xml\n",
      "Image:C:\\Users\\antho\\Desktop\\VSC\\TFOD\\Tensorflow\\workspace\\images\\collectedimages\\book\\book20.jpg -> Annotation:C:/Users/antho/Desktop/VSC/TFOD/Tensorflow/workspace/images/collectedimages/book\\book20.xml\n",
      "Image:C:\\Users\\antho\\Desktop\\VSC\\TFOD\\Tensorflow\\workspace\\images\\collectedimages\\book\\book21.png -> Annotation:C:/Users/antho/Desktop/VSC/TFOD/Tensorflow/workspace/images/collectedimages/book\\book21.xml\n",
      "Image:C:\\Users\\antho\\Desktop\\VSC\\TFOD\\Tensorflow\\workspace\\images\\collectedimages\\book\\book22.jpg -> Annotation:C:/Users/antho/Desktop/VSC/TFOD/Tensorflow/workspace/images/collectedimages/book\\book22.xml\n",
      "Image:C:\\Users\\antho\\Desktop\\VSC\\TFOD\\Tensorflow\\workspace\\images\\collectedimages\\book\\book23.jpg -> Annotation:C:/Users/antho/Desktop/VSC/TFOD/Tensorflow/workspace/images/collectedimages/book\\book23.xml\n",
      "Image:C:\\Users\\antho\\Desktop\\VSC\\TFOD\\Tensorflow\\workspace\\images\\collectedimages\\book\\book24.jpg -> Annotation:C:/Users/antho/Desktop/VSC/TFOD/Tensorflow/workspace/images/collectedimages/book\\book24.xml\n",
      "Image:C:\\Users\\antho\\Desktop\\VSC\\TFOD\\Tensorflow\\workspace\\images\\collectedimages\\book\\book25.jpg -> Annotation:C:/Users/antho/Desktop/VSC/TFOD/Tensorflow/workspace/images/collectedimages/book\\book25.xml\n",
      "Image:C:\\Users\\antho\\Desktop\\VSC\\TFOD\\Tensorflow\\workspace\\images\\collectedimages\\book\\book26.jpg -> Annotation:C:/Users/antho/Desktop/VSC/TFOD/Tensorflow/workspace/images/collectedimages/book\\book26.xml\n",
      "Image:C:\\Users\\antho\\Desktop\\VSC\\TFOD\\Tensorflow\\workspace\\images\\collectedimages\\book\\book27.jpg -> Annotation:C:/Users/antho/Desktop/VSC/TFOD/Tensorflow/workspace/images/collectedimages/book\\book27.xml\n",
      "Image:C:\\Users\\antho\\Desktop\\VSC\\TFOD\\Tensorflow\\workspace\\images\\collectedimages\\book\\book28.jpg -> Annotation:C:/Users/antho/Desktop/VSC/TFOD/Tensorflow/workspace/images/collectedimages/book\\book28.xml\n",
      "Image:C:\\Users\\antho\\Desktop\\VSC\\TFOD\\Tensorflow\\workspace\\images\\collectedimages\\book\\book29.jpg -> Annotation:C:/Users/antho/Desktop/VSC/TFOD/Tensorflow/workspace/images/collectedimages/book\\book29.xml\n",
      "Image:C:\\Users\\antho\\Desktop\\VSC\\TFOD\\Tensorflow\\workspace\\images\\collectedimages\\book\\book30.jpg -> Annotation:C:/Users/antho/Desktop/VSC/TFOD/Tensorflow/workspace/images/collectedimages/book\\book30.xml\n",
      "Image:C:\\Users\\antho\\Desktop\\VSC\\TFOD\\Tensorflow\\workspace\\images\\collectedimages\\book\\book31.jpg -> Annotation:C:/Users/antho/Desktop/VSC/TFOD/Tensorflow/workspace/images/collectedimages/book\\book31.xml\n",
      "Image:C:\\Users\\antho\\Desktop\\VSC\\TFOD\\Tensorflow\\workspace\\images\\collectedimages\\book\\book32.jpg -> Annotation:C:/Users/antho/Desktop/VSC/TFOD/Tensorflow/workspace/images/collectedimages/book\\book32.xml\n",
      "Image:C:\\Users\\antho\\Desktop\\VSC\\TFOD\\Tensorflow\\workspace\\images\\collectedimages\\book\\book33.jpg -> Annotation:C:/Users/antho/Desktop/VSC/TFOD/Tensorflow/workspace/images/collectedimages/book\\book33.xml\n",
      "Image:C:\\Users\\antho\\Desktop\\VSC\\TFOD\\Tensorflow\\workspace\\images\\collectedimages\\book\\book34.jpg -> Annotation:C:/Users/antho/Desktop/VSC/TFOD/Tensorflow/workspace/images/collectedimages/book\\book34.xml\n",
      "Cancel creation.\n",
      "Image:C:\\Users\\antho\\Desktop\\VSC\\TFOD\\Tensorflow\\workspace\\images\\collectedimages\\book\\book35.png -> Annotation:C:/Users/antho/Desktop/VSC/TFOD/Tensorflow/workspace/images/collectedimages/book\\book35.xml\n",
      "Image:C:\\Users\\antho\\Desktop\\VSC\\TFOD\\Tensorflow\\workspace\\images\\collectedimages\\book\\book36.jpg -> Annotation:C:/Users/antho/Desktop/VSC/TFOD/Tensorflow/workspace/images/collectedimages/book\\book36.xml\n",
      "Image:C:\\Users\\antho\\Desktop\\VSC\\TFOD\\Tensorflow\\workspace\\images\\collectedimages\\book\\book37.png -> Annotation:C:/Users/antho/Desktop/VSC/TFOD/Tensorflow/workspace/images/collectedimages/book\\book37.xml\n",
      "Image:C:\\Users\\antho\\Desktop\\VSC\\TFOD\\Tensorflow\\workspace\\images\\collectedimages\\book\\book38.jpeg -> Annotation:C:/Users/antho/Desktop/VSC/TFOD/Tensorflow/workspace/images/collectedimages/book\\book38.xml\n",
      "Image:C:\\Users\\antho\\Desktop\\VSC\\TFOD\\Tensorflow\\workspace\\images\\collectedimages\\book\\book39.jpg -> Annotation:C:/Users/antho/Desktop/VSC/TFOD/Tensorflow/workspace/images/collectedimages/book\\book39.xml\n",
      "Image:C:\\Users\\antho\\Desktop\\VSC\\TFOD\\Tensorflow\\workspace\\images\\collectedimages\\book\\book40.png -> Annotation:C:/Users/antho/Desktop/VSC/TFOD/Tensorflow/workspace/images/collectedimages/book\\book40.xml\n",
      "Image:C:\\Users\\antho\\Desktop\\VSC\\TFOD\\Tensorflow\\workspace\\images\\collectedimages\\person\\person1.jpg -> Annotation:C:/Users/antho/Desktop/VSC/TFOD/Tensorflow/workspace/images/collectedimages/person\\person1.xml\n",
      "Image:C:\\Users\\antho\\Desktop\\VSC\\TFOD\\Tensorflow\\workspace\\images\\collectedimages\\person\\person2.jpg -> Annotation:C:/Users/antho/Desktop/VSC/TFOD/Tensorflow/workspace/images/collectedimages/person\\person2.xml\n",
      "Image:C:\\Users\\antho\\Desktop\\VSC\\TFOD\\Tensorflow\\workspace\\images\\collectedimages\\person\\person3.jpg -> Annotation:C:/Users/antho/Desktop/VSC/TFOD/Tensorflow/workspace/images/collectedimages/person\\person3.xml\n",
      "Image:C:\\Users\\antho\\Desktop\\VSC\\TFOD\\Tensorflow\\workspace\\images\\collectedimages\\person\\person4.jpg -> Annotation:C:/Users/antho/Desktop/VSC/TFOD/Tensorflow/workspace/images/collectedimages/person\\person4.xml\n",
      "Image:C:\\Users\\antho\\Desktop\\VSC\\TFOD\\Tensorflow\\workspace\\images\\collectedimages\\person\\person5.jpg -> Annotation:C:/Users/antho/Desktop/VSC/TFOD/Tensorflow/workspace/images/collectedimages/person\\person5.xml\n",
      "Image:C:\\Users\\antho\\Desktop\\VSC\\TFOD\\Tensorflow\\workspace\\images\\collectedimages\\person\\person6.jpg -> Annotation:C:/Users/antho/Desktop/VSC/TFOD/Tensorflow/workspace/images/collectedimages/person\\person6.xml\n",
      "Image:C:\\Users\\antho\\Desktop\\VSC\\TFOD\\Tensorflow\\workspace\\images\\collectedimages\\person\\person7.jpg -> Annotation:C:/Users/antho/Desktop/VSC/TFOD/Tensorflow/workspace/images/collectedimages/person\\person7.xml\n",
      "Image:C:\\Users\\antho\\Desktop\\VSC\\TFOD\\Tensorflow\\workspace\\images\\collectedimages\\person\\person8.jpg -> Annotation:C:/Users/antho/Desktop/VSC/TFOD/Tensorflow/workspace/images/collectedimages/person\\person8.xml\n",
      "Image:C:\\Users\\antho\\Desktop\\VSC\\TFOD\\Tensorflow\\workspace\\images\\collectedimages\\person\\person9.jpg -> Annotation:C:/Users/antho/Desktop/VSC/TFOD/Tensorflow/workspace/images/collectedimages/person\\person9.xml\n",
      "Image:C:\\Users\\antho\\Desktop\\VSC\\TFOD\\Tensorflow\\workspace\\images\\collectedimages\\person\\person10.jpg -> Annotation:C:/Users/antho/Desktop/VSC/TFOD/Tensorflow/workspace/images/collectedimages/person\\person10.xml\n",
      "Image:C:\\Users\\antho\\Desktop\\VSC\\TFOD\\Tensorflow\\workspace\\images\\collectedimages\\person\\person11.jpg -> Annotation:C:/Users/antho/Desktop/VSC/TFOD/Tensorflow/workspace/images/collectedimages/person\\person11.xml\n",
      "Image:C:\\Users\\antho\\Desktop\\VSC\\TFOD\\Tensorflow\\workspace\\images\\collectedimages\\person\\person12.jpg -> Annotation:C:/Users/antho/Desktop/VSC/TFOD/Tensorflow/workspace/images/collectedimages/person\\person12.xml\n",
      "Image:C:\\Users\\antho\\Desktop\\VSC\\TFOD\\Tensorflow\\workspace\\images\\collectedimages\\person\\person13.jpg -> Annotation:C:/Users/antho/Desktop/VSC/TFOD/Tensorflow/workspace/images/collectedimages/person\\person13.xml\n",
      "Image:C:\\Users\\antho\\Desktop\\VSC\\TFOD\\Tensorflow\\workspace\\images\\collectedimages\\person\\person14.jpg -> Annotation:C:/Users/antho/Desktop/VSC/TFOD/Tensorflow/workspace/images/collectedimages/person\\person14.xml\n",
      "Image:C:\\Users\\antho\\Desktop\\VSC\\TFOD\\Tensorflow\\workspace\\images\\collectedimages\\person\\person15.jpg -> Annotation:C:/Users/antho/Desktop/VSC/TFOD/Tensorflow/workspace/images/collectedimages/person\\person15.xml\n",
      "Image:C:\\Users\\antho\\Desktop\\VSC\\TFOD\\Tensorflow\\workspace\\images\\collectedimages\\person\\person16.jpg -> Annotation:C:/Users/antho/Desktop/VSC/TFOD/Tensorflow/workspace/images/collectedimages/person\\person16.xml\n",
      "Image:C:\\Users\\antho\\Desktop\\VSC\\TFOD\\Tensorflow\\workspace\\images\\collectedimages\\person\\person17.jpg -> Annotation:C:/Users/antho/Desktop/VSC/TFOD/Tensorflow/workspace/images/collectedimages/person\\person17.xml\n",
      "Image:C:\\Users\\antho\\Desktop\\VSC\\TFOD\\Tensorflow\\workspace\\images\\collectedimages\\person\\person18.jpg -> Annotation:C:/Users/antho/Desktop/VSC/TFOD/Tensorflow/workspace/images/collectedimages/person\\person18.xml\n",
      "Image:C:\\Users\\antho\\Desktop\\VSC\\TFOD\\Tensorflow\\workspace\\images\\collectedimages\\person\\person19.jpg -> Annotation:C:/Users/antho/Desktop/VSC/TFOD/Tensorflow/workspace/images/collectedimages/person\\person19.xml\n",
      "Image:C:\\Users\\antho\\Desktop\\VSC\\TFOD\\Tensorflow\\workspace\\images\\collectedimages\\person\\person20.jpg -> Annotation:C:/Users/antho/Desktop/VSC/TFOD/Tensorflow/workspace/images/collectedimages/person\\person20.xml\n",
      "Image:C:\\Users\\antho\\Desktop\\VSC\\TFOD\\Tensorflow\\workspace\\images\\collectedimages\\person\\person21.jpg -> Annotation:C:/Users/antho/Desktop/VSC/TFOD/Tensorflow/workspace/images/collectedimages/person\\person21.xml\n",
      "Image:C:\\Users\\antho\\Desktop\\VSC\\TFOD\\Tensorflow\\workspace\\images\\collectedimages\\person\\person22.jpg -> Annotation:C:/Users/antho/Desktop/VSC/TFOD/Tensorflow/workspace/images/collectedimages/person\\person22.xml\n",
      "Image:C:\\Users\\antho\\Desktop\\VSC\\TFOD\\Tensorflow\\workspace\\images\\collectedimages\\person\\person23.jpg -> Annotation:C:/Users/antho/Desktop/VSC/TFOD/Tensorflow/workspace/images/collectedimages/person\\person23.xml\n",
      "Image:C:\\Users\\antho\\Desktop\\VSC\\TFOD\\Tensorflow\\workspace\\images\\collectedimages\\person\\person24.jpg -> Annotation:C:/Users/antho/Desktop/VSC/TFOD/Tensorflow/workspace/images/collectedimages/person\\person24.xml\n",
      "Image:C:\\Users\\antho\\Desktop\\VSC\\TFOD\\Tensorflow\\workspace\\images\\collectedimages\\person\\person25.jpg -> Annotation:C:/Users/antho/Desktop/VSC/TFOD/Tensorflow/workspace/images/collectedimages/person\\person25.xml\n",
      "Image:C:\\Users\\antho\\Desktop\\VSC\\TFOD\\Tensorflow\\workspace\\images\\collectedimages\\person\\person26.jpg -> Annotation:C:/Users/antho/Desktop/VSC/TFOD/Tensorflow/workspace/images/collectedimages/person\\person26.xml\n",
      "Image:C:\\Users\\antho\\Desktop\\VSC\\TFOD\\Tensorflow\\workspace\\images\\collectedimages\\person\\person27.jpg -> Annotation:C:/Users/antho/Desktop/VSC/TFOD/Tensorflow/workspace/images/collectedimages/person\\person27.xml\n",
      "Image:C:\\Users\\antho\\Desktop\\VSC\\TFOD\\Tensorflow\\workspace\\images\\collectedimages\\person\\person28.png -> Annotation:C:/Users/antho/Desktop/VSC/TFOD/Tensorflow/workspace/images/collectedimages/person\\person28.xml\n",
      "Image:C:\\Users\\antho\\Desktop\\VSC\\TFOD\\Tensorflow\\workspace\\images\\collectedimages\\person\\person29.jpg -> Annotation:C:/Users/antho/Desktop/VSC/TFOD/Tensorflow/workspace/images/collectedimages/person\\person29.xml\n",
      "Image:C:\\Users\\antho\\Desktop\\VSC\\TFOD\\Tensorflow\\workspace\\images\\collectedimages\\person\\person30.jpg -> Annotation:C:/Users/antho/Desktop/VSC/TFOD/Tensorflow/workspace/images/collectedimages/person\\person30.xml\n",
      "Cancel creation.\n",
      "Cancel creation.\n",
      "Image:C:\\Users\\antho\\Desktop\\VSC\\TFOD\\Tensorflow\\workspace\\images\\collectedimages\\person\\person31.jpg -> Annotation:C:/Users/antho/Desktop/VSC/TFOD/Tensorflow/workspace/images/collectedimages/person\\person31.xml\n",
      "Image:C:\\Users\\antho\\Desktop\\VSC\\TFOD\\Tensorflow\\workspace\\images\\collectedimages\\person\\person32.jpg -> Annotation:C:/Users/antho/Desktop/VSC/TFOD/Tensorflow/workspace/images/collectedimages/person\\person32.xml\n",
      "Image:C:\\Users\\antho\\Desktop\\VSC\\TFOD\\Tensorflow\\workspace\\images\\collectedimages\\person\\person33.jpg -> Annotation:C:/Users/antho/Desktop/VSC/TFOD/Tensorflow/workspace/images/collectedimages/person\\person33.xml\n",
      "Image:C:\\Users\\antho\\Desktop\\VSC\\TFOD\\Tensorflow\\workspace\\images\\collectedimages\\person\\person34.jpg -> Annotation:C:/Users/antho/Desktop/VSC/TFOD/Tensorflow/workspace/images/collectedimages/person\\person34.xml\n",
      "Image:C:\\Users\\antho\\Desktop\\VSC\\TFOD\\Tensorflow\\workspace\\images\\collectedimages\\person\\person35.jpg -> Annotation:C:/Users/antho/Desktop/VSC/TFOD/Tensorflow/workspace/images/collectedimages/person\\person35.xml\n",
      "Image:C:\\Users\\antho\\Desktop\\VSC\\TFOD\\Tensorflow\\workspace\\images\\collectedimages\\person\\person36.jpg -> Annotation:C:/Users/antho/Desktop/VSC/TFOD/Tensorflow/workspace/images/collectedimages/person\\person36.xml\n",
      "Image:C:\\Users\\antho\\Desktop\\VSC\\TFOD\\Tensorflow\\workspace\\images\\collectedimages\\person\\person37.jpg -> Annotation:C:/Users/antho/Desktop/VSC/TFOD/Tensorflow/workspace/images/collectedimages/person\\person37.xml\n",
      "Image:C:\\Users\\antho\\Desktop\\VSC\\TFOD\\Tensorflow\\workspace\\images\\collectedimages\\person\\person38.jpg -> Annotation:C:/Users/antho/Desktop/VSC/TFOD/Tensorflow/workspace/images/collectedimages/person\\person38.xml\n",
      "Image:C:\\Users\\antho\\Desktop\\VSC\\TFOD\\Tensorflow\\workspace\\images\\collectedimages\\person\\person39.jpg -> Annotation:C:/Users/antho/Desktop/VSC/TFOD/Tensorflow/workspace/images/collectedimages/person\\person39.xml\n",
      "Image:C:\\Users\\antho\\Desktop\\VSC\\TFOD\\Tensorflow\\workspace\\images\\collectedimages\\person\\person40.jpg -> Annotation:C:/Users/antho/Desktop/VSC/TFOD/Tensorflow/workspace/images/collectedimages/person\\person40.xml\n",
      "Image:C:\\Users\\antho\\Desktop\\VSC\\TFOD\\Tensorflow\\workspace\\images\\collectedimages\\soccer_ball\\soccerball1.jpg -> Annotation:C:/Users/antho/Desktop/VSC/TFOD/Tensorflow/workspace/images/collectedimages/soccer_ball\\soccerball1.xml\n",
      "Image:C:\\Users\\antho\\Desktop\\VSC\\TFOD\\Tensorflow\\workspace\\images\\collectedimages\\soccer_ball\\soccerball2.jpg -> Annotation:C:/Users/antho/Desktop/VSC/TFOD/Tensorflow/workspace/images/collectedimages/soccer_ball\\soccerball2.xml\n",
      "Image:C:\\Users\\antho\\Desktop\\VSC\\TFOD\\Tensorflow\\workspace\\images\\collectedimages\\soccer_ball\\soccerball2.jpg -> Annotation:C:/Users/antho/Desktop/VSC/TFOD/Tensorflow/workspace/images/collectedimages/soccer_ball\\soccerball2.xml\n",
      "Image:C:\\Users\\antho\\Desktop\\VSC\\TFOD\\Tensorflow\\workspace\\images\\collectedimages\\soccer_ball\\soccer_ball1.jpg -> Annotation:C:/Users/antho/Desktop/VSC/TFOD/Tensorflow/workspace/images/collectedimages/soccer_ball\\soccer_ball1.xml\n",
      "Image:C:\\Users\\antho\\Desktop\\VSC\\TFOD\\Tensorflow\\workspace\\images\\collectedimages\\soccer_ball\\soccer_ball2.jpg -> Annotation:C:/Users/antho/Desktop/VSC/TFOD/Tensorflow/workspace/images/collectedimages/soccer_ball\\soccer_ball2.xml\n",
      "Image:C:\\Users\\antho\\Desktop\\VSC\\TFOD\\Tensorflow\\workspace\\images\\collectedimages\\soccer_ball\\soccer_ball3.jpg -> Annotation:C:/Users/antho/Desktop/VSC/TFOD/Tensorflow/workspace/images/collectedimages/soccer_ball\\soccer_ball3.xml\n",
      "Image:C:\\Users\\antho\\Desktop\\VSC\\TFOD\\Tensorflow\\workspace\\images\\collectedimages\\soccer_ball\\soccer_ball4.jpg -> Annotation:C:/Users/antho/Desktop/VSC/TFOD/Tensorflow/workspace/images/collectedimages/soccer_ball\\soccer_ball4.xml\n",
      "Image:C:\\Users\\antho\\Desktop\\VSC\\TFOD\\Tensorflow\\workspace\\images\\collectedimages\\soccer_ball\\soccer_ball5.jpg -> Annotation:C:/Users/antho/Desktop/VSC/TFOD/Tensorflow/workspace/images/collectedimages/soccer_ball\\soccer_ball5.xml\n",
      "Image:C:\\Users\\antho\\Desktop\\VSC\\TFOD\\Tensorflow\\workspace\\images\\collectedimages\\soccer_ball\\soccer_ball6.png -> Annotation:C:/Users/antho/Desktop/VSC/TFOD/Tensorflow/workspace/images/collectedimages/soccer_ball\\soccer_ball6.xml\n",
      "Image:C:\\Users\\antho\\Desktop\\VSC\\TFOD\\Tensorflow\\workspace\\images\\collectedimages\\soccer_ball\\soccer_ball7.jpg -> Annotation:C:/Users/antho/Desktop/VSC/TFOD/Tensorflow/workspace/images/collectedimages/soccer_ball\\soccer_ball7.xml\n",
      "Image:C:\\Users\\antho\\Desktop\\VSC\\TFOD\\Tensorflow\\workspace\\images\\collectedimages\\soccer_ball\\soccer_ball8.jpg -> Annotation:C:/Users/antho/Desktop/VSC/TFOD/Tensorflow/workspace/images/collectedimages/soccer_ball\\soccer_ball8.xml\n",
      "Image:C:\\Users\\antho\\Desktop\\VSC\\TFOD\\Tensorflow\\workspace\\images\\collectedimages\\soccer_ball\\soccer_ball9.jpg -> Annotation:C:/Users/antho/Desktop/VSC/TFOD/Tensorflow/workspace/images/collectedimages/soccer_ball\\soccer_ball9.xml\n",
      "Image:C:\\Users\\antho\\Desktop\\VSC\\TFOD\\Tensorflow\\workspace\\images\\collectedimages\\soccer_ball\\soccer_ball10.jpg -> Annotation:C:/Users/antho/Desktop/VSC/TFOD/Tensorflow/workspace/images/collectedimages/soccer_ball\\soccer_ball10.xml\n",
      "Image:C:\\Users\\antho\\Desktop\\VSC\\TFOD\\Tensorflow\\workspace\\images\\collectedimages\\soccer_ball\\soccer_ball11.jpg -> Annotation:C:/Users/antho/Desktop/VSC/TFOD/Tensorflow/workspace/images/collectedimages/soccer_ball\\soccer_ball11.xml\n",
      "Image:C:\\Users\\antho\\Desktop\\VSC\\TFOD\\Tensorflow\\workspace\\images\\collectedimages\\soccer_ball\\soccer_ball12.jpg -> Annotation:C:/Users/antho/Desktop/VSC/TFOD/Tensorflow/workspace/images/collectedimages/soccer_ball\\soccer_ball12.xml\n",
      "Image:C:\\Users\\antho\\Desktop\\VSC\\TFOD\\Tensorflow\\workspace\\images\\collectedimages\\soccer_ball\\soccer_ball13.jpg -> Annotation:C:/Users/antho/Desktop/VSC/TFOD/Tensorflow/workspace/images/collectedimages/soccer_ball\\soccer_ball13.xml\n",
      "Image:C:\\Users\\antho\\Desktop\\VSC\\TFOD\\Tensorflow\\workspace\\images\\collectedimages\\soccer_ball\\soccer_ball14.jpg -> Annotation:C:/Users/antho/Desktop/VSC/TFOD/Tensorflow/workspace/images/collectedimages/soccer_ball\\soccer_ball14.xml\n",
      "Image:C:\\Users\\antho\\Desktop\\VSC\\TFOD\\Tensorflow\\workspace\\images\\collectedimages\\soccer_ball\\soccer_ball15.jpg -> Annotation:C:/Users/antho/Desktop/VSC/TFOD/Tensorflow/workspace/images/collectedimages/soccer_ball\\soccer_ball15.xml\n",
      "Image:C:\\Users\\antho\\Desktop\\VSC\\TFOD\\Tensorflow\\workspace\\images\\collectedimages\\soccer_ball\\soccer_ball16.jpg -> Annotation:C:/Users/antho/Desktop/VSC/TFOD/Tensorflow/workspace/images/collectedimages/soccer_ball\\soccer_ball16.xml\n",
      "Image:C:\\Users\\antho\\Desktop\\VSC\\TFOD\\Tensorflow\\workspace\\images\\collectedimages\\soccer_ball\\soccer_ball17.jpg -> Annotation:C:/Users/antho/Desktop/VSC/TFOD/Tensorflow/workspace/images/collectedimages/soccer_ball\\soccer_ball17.xml\n",
      "Image:C:\\Users\\antho\\Desktop\\VSC\\TFOD\\Tensorflow\\workspace\\images\\collectedimages\\soccer_ball\\soccer_ball18.jpg -> Annotation:C:/Users/antho/Desktop/VSC/TFOD/Tensorflow/workspace/images/collectedimages/soccer_ball\\soccer_ball18.xml\n",
      "Image:C:\\Users\\antho\\Desktop\\VSC\\TFOD\\Tensorflow\\workspace\\images\\collectedimages\\soccer_ball\\soccer_ball19.jpg -> Annotation:C:/Users/antho/Desktop/VSC/TFOD/Tensorflow/workspace/images/collectedimages/soccer_ball\\soccer_ball19.xml\n",
      "Image:C:\\Users\\antho\\Desktop\\VSC\\TFOD\\Tensorflow\\workspace\\images\\collectedimages\\soccer_ball\\soccer_ball20.jpg -> Annotation:C:/Users/antho/Desktop/VSC/TFOD/Tensorflow/workspace/images/collectedimages/soccer_ball\\soccer_ball20.xml\n",
      "Image:C:\\Users\\antho\\Desktop\\VSC\\TFOD\\Tensorflow\\workspace\\images\\collectedimages\\soccer_ball\\soccer_ball21.jpg -> Annotation:C:/Users/antho/Desktop/VSC/TFOD/Tensorflow/workspace/images/collectedimages/soccer_ball\\soccer_ball21.xml\n",
      "Image:C:\\Users\\antho\\Desktop\\VSC\\TFOD\\Tensorflow\\workspace\\images\\collectedimages\\soccer_ball\\soccer_ball22.jpg -> Annotation:C:/Users/antho/Desktop/VSC/TFOD/Tensorflow/workspace/images/collectedimages/soccer_ball\\soccer_ball22.xml\n",
      "Image:C:\\Users\\antho\\Desktop\\VSC\\TFOD\\Tensorflow\\workspace\\images\\collectedimages\\soccer_ball\\soccer_ball23.jpg -> Annotation:C:/Users/antho/Desktop/VSC/TFOD/Tensorflow/workspace/images/collectedimages/soccer_ball\\soccer_ball23.xml\n",
      "Image:C:\\Users\\antho\\Desktop\\VSC\\TFOD\\Tensorflow\\workspace\\images\\collectedimages\\soccer_ball\\soccer_ball24.jpg -> Annotation:C:/Users/antho/Desktop/VSC/TFOD/Tensorflow/workspace/images/collectedimages/soccer_ball\\soccer_ball24.xml\n",
      "Image:C:\\Users\\antho\\Desktop\\VSC\\TFOD\\Tensorflow\\workspace\\images\\collectedimages\\soccer_ball\\soccer_ball25.jpg -> Annotation:C:/Users/antho/Desktop/VSC/TFOD/Tensorflow/workspace/images/collectedimages/soccer_ball\\soccer_ball25.xml\n",
      "Image:C:\\Users\\antho\\Desktop\\VSC\\TFOD\\Tensorflow\\workspace\\images\\collectedimages\\soccer_ball\\soccer_ball26.jpg -> Annotation:C:/Users/antho/Desktop/VSC/TFOD/Tensorflow/workspace/images/collectedimages/soccer_ball\\soccer_ball26.xml\n",
      "Image:C:\\Users\\antho\\Desktop\\VSC\\TFOD\\Tensorflow\\workspace\\images\\collectedimages\\soccer_ball\\soccer_ball27.jpg -> Annotation:C:/Users/antho/Desktop/VSC/TFOD/Tensorflow/workspace/images/collectedimages/soccer_ball\\soccer_ball27.xml\n",
      "Image:C:\\Users\\antho\\Desktop\\VSC\\TFOD\\Tensorflow\\workspace\\images\\collectedimages\\soccer_ball\\soccer_ball28.jpg -> Annotation:C:/Users/antho/Desktop/VSC/TFOD/Tensorflow/workspace/images/collectedimages/soccer_ball\\soccer_ball28.xml\n",
      "Image:C:\\Users\\antho\\Desktop\\VSC\\TFOD\\Tensorflow\\workspace\\images\\collectedimages\\soccer_ball\\soccer_ball29.jpg -> Annotation:C:/Users/antho/Desktop/VSC/TFOD/Tensorflow/workspace/images/collectedimages/soccer_ball\\soccer_ball29.xml\n",
      "Image:C:\\Users\\antho\\Desktop\\VSC\\TFOD\\Tensorflow\\workspace\\images\\collectedimages\\soccer_ball\\soccer_ball30.jpg -> Annotation:C:/Users/antho/Desktop/VSC/TFOD/Tensorflow/workspace/images/collectedimages/soccer_ball\\soccer_ball30.xml\n",
      "Image:C:\\Users\\antho\\Desktop\\VSC\\TFOD\\Tensorflow\\workspace\\images\\collectedimages\\soccer_ball\\soccer_ball31.jpg -> Annotation:C:/Users/antho/Desktop/VSC/TFOD/Tensorflow/workspace/images/collectedimages/soccer_ball\\soccer_ball31.xml\n",
      "Image:C:\\Users\\antho\\Desktop\\VSC\\TFOD\\Tensorflow\\workspace\\images\\collectedimages\\soccer_ball\\soccer_ball32.jpg -> Annotation:C:/Users/antho/Desktop/VSC/TFOD/Tensorflow/workspace/images/collectedimages/soccer_ball\\soccer_ball32.xml\n",
      "Image:C:\\Users\\antho\\Desktop\\VSC\\TFOD\\Tensorflow\\workspace\\images\\collectedimages\\soccer_ball\\soccer_ball33.jpg -> Annotation:C:/Users/antho/Desktop/VSC/TFOD/Tensorflow/workspace/images/collectedimages/soccer_ball\\soccer_ball33.xml\n",
      "Image:C:\\Users\\antho\\Desktop\\VSC\\TFOD\\Tensorflow\\workspace\\images\\collectedimages\\soccer_ball\\soccer_ball34.jpg -> Annotation:C:/Users/antho/Desktop/VSC/TFOD/Tensorflow/workspace/images/collectedimages/soccer_ball\\soccer_ball34.xml\n",
      "Image:C:\\Users\\antho\\Desktop\\VSC\\TFOD\\Tensorflow\\workspace\\images\\collectedimages\\soccer_ball\\soccer_ball35.jpg -> Annotation:C:/Users/antho/Desktop/VSC/TFOD/Tensorflow/workspace/images/collectedimages/soccer_ball\\soccer_ball35.xml\n",
      "Image:C:\\Users\\antho\\Desktop\\VSC\\TFOD\\Tensorflow\\workspace\\images\\collectedimages\\soccer_ball\\soccer_ball36.jpg -> Annotation:C:/Users/antho/Desktop/VSC/TFOD/Tensorflow/workspace/images/collectedimages/soccer_ball\\soccer_ball36.xml\n",
      "Image:C:\\Users\\antho\\Desktop\\VSC\\TFOD\\Tensorflow\\workspace\\images\\collectedimages\\soccer_ball\\soccer_ball37.jpg -> Annotation:C:/Users/antho/Desktop/VSC/TFOD/Tensorflow/workspace/images/collectedimages/soccer_ball\\soccer_ball37.xml\n",
      "Image:C:\\Users\\antho\\Desktop\\VSC\\TFOD\\Tensorflow\\workspace\\images\\collectedimages\\soccer_ball\\soccer_ball38.jpg -> Annotation:C:/Users/antho/Desktop/VSC/TFOD/Tensorflow/workspace/images/collectedimages/soccer_ball\\soccer_ball38.xml\n",
      "Image:C:\\Users\\antho\\Desktop\\VSC\\TFOD\\Tensorflow\\workspace\\images\\collectedimages\\soccer_ball\\soccer_ball39.jpg -> Annotation:C:/Users/antho/Desktop/VSC/TFOD/Tensorflow/workspace/images/collectedimages/soccer_ball\\soccer_ball39.xml\n",
      "Image:C:\\Users\\antho\\Desktop\\VSC\\TFOD\\Tensorflow\\workspace\\images\\collectedimages\\soccer_ball\\soccer_ball40.jpg -> Annotation:C:/Users/antho/Desktop/VSC/TFOD/Tensorflow/workspace/images/collectedimages/soccer_ball\\soccer_ball40.xml\n"
     ]
    }
   ],
   "source": [
    "!cd {LABELIMG_PATH} && python labelImg.py"
   ]
  },
  {
   "cell_type": "markdown",
   "metadata": {},
   "source": [
    "# 6. Training/Testing partitions -> Go to Training_and_Detection.ipynb"
   ]
  }
 ],
 "metadata": {
  "kernelspec": {
   "display_name": "Python 3.10.6 ('TFOD': venv)",
   "language": "python",
   "name": "python3"
  },
  "language_info": {
   "codemirror_mode": {
    "name": "ipython",
    "version": 3
   },
   "file_extension": ".py",
   "mimetype": "text/x-python",
   "name": "python",
   "nbconvert_exporter": "python",
   "pygments_lexer": "ipython3",
   "version": "3.10.6"
  },
  "vscode": {
   "interpreter": {
    "hash": "6b27ba2cd3f02a17572d4cda798396e46e225c3920c47113be6abb3422196217"
   }
  }
 },
 "nbformat": 4,
 "nbformat_minor": 2
}
