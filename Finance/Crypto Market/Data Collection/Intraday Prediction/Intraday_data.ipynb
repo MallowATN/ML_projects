{
 "cells": [
  {
   "cell_type": "code",
   "execution_count": 1,
   "id": "fba64c79",
   "metadata": {},
   "outputs": [],
   "source": [
    "import pandas as pd\n",
    "import ta\n",
    "from binance import Client\n",
    "import numpy as np"
   ]
  },
  {
   "cell_type": "code",
   "execution_count": 2,
   "id": "f0f7afbe",
   "metadata": {},
   "outputs": [],
   "source": [
    "client = Client()"
   ]
  },
  {
   "cell_type": "code",
   "execution_count": 3,
   "id": "9e577a93",
   "metadata": {},
   "outputs": [],
   "source": [
    "def getdata(symbol):\n",
    "    frame = pd.DataFrame(client.get_historical_klines(symbol,\n",
    "                                                     '15m',\n",
    "                                                     '1000 hours ago UTC'))\n",
    "    frame = frame.iloc[:,0:6]\n",
    "    frame.columns = ['Time','Open','High','Low','Close','Volume']\n",
    "    frame.set_index('Time',inplace=True)\n",
    "    frame.index = pd.to_datetime(frame.index, unit='ms')\n",
    "    frame = frame.astype(float)\n",
    "    return frame"
   ]
  },
  {
   "cell_type": "code",
   "execution_count": 4,
   "id": "e0e59de2",
   "metadata": {},
   "outputs": [],
   "source": [
    "df = getdata('ETHUSDT')"
   ]
  },
  {
   "cell_type": "code",
   "execution_count": 5,
   "id": "ddf60a19",
   "metadata": {},
   "outputs": [
    {
     "data": {
      "text/html": [
       "<div>\n",
       "<style scoped>\n",
       "    .dataframe tbody tr th:only-of-type {\n",
       "        vertical-align: middle;\n",
       "    }\n",
       "\n",
       "    .dataframe tbody tr th {\n",
       "        vertical-align: top;\n",
       "    }\n",
       "\n",
       "    .dataframe thead th {\n",
       "        text-align: right;\n",
       "    }\n",
       "</style>\n",
       "<table border=\"1\" class=\"dataframe\">\n",
       "  <thead>\n",
       "    <tr style=\"text-align: right;\">\n",
       "      <th></th>\n",
       "      <th>Open</th>\n",
       "      <th>High</th>\n",
       "      <th>Low</th>\n",
       "      <th>Close</th>\n",
       "      <th>Volume</th>\n",
       "    </tr>\n",
       "    <tr>\n",
       "      <th>Time</th>\n",
       "      <th></th>\n",
       "      <th></th>\n",
       "      <th></th>\n",
       "      <th></th>\n",
       "      <th></th>\n",
       "    </tr>\n",
       "  </thead>\n",
       "  <tbody>\n",
       "    <tr>\n",
       "      <th>2022-03-15 09:00:00</th>\n",
       "      <td>2516.63</td>\n",
       "      <td>2520.31</td>\n",
       "      <td>2510.37</td>\n",
       "      <td>2520.11</td>\n",
       "      <td>3479.1802</td>\n",
       "    </tr>\n",
       "    <tr>\n",
       "      <th>2022-03-15 09:15:00</th>\n",
       "      <td>2520.12</td>\n",
       "      <td>2535.77</td>\n",
       "      <td>2520.11</td>\n",
       "      <td>2529.52</td>\n",
       "      <td>3894.2497</td>\n",
       "    </tr>\n",
       "    <tr>\n",
       "      <th>2022-03-15 09:30:00</th>\n",
       "      <td>2529.52</td>\n",
       "      <td>2534.70</td>\n",
       "      <td>2525.30</td>\n",
       "      <td>2532.45</td>\n",
       "      <td>1841.1285</td>\n",
       "    </tr>\n",
       "    <tr>\n",
       "      <th>2022-03-15 09:45:00</th>\n",
       "      <td>2532.44</td>\n",
       "      <td>2534.96</td>\n",
       "      <td>2527.25</td>\n",
       "      <td>2529.63</td>\n",
       "      <td>1420.6660</td>\n",
       "    </tr>\n",
       "    <tr>\n",
       "      <th>2022-03-15 10:00:00</th>\n",
       "      <td>2529.63</td>\n",
       "      <td>2537.22</td>\n",
       "      <td>2527.73</td>\n",
       "      <td>2534.53</td>\n",
       "      <td>1974.3831</td>\n",
       "    </tr>\n",
       "    <tr>\n",
       "      <th>...</th>\n",
       "      <td>...</td>\n",
       "      <td>...</td>\n",
       "      <td>...</td>\n",
       "      <td>...</td>\n",
       "      <td>...</td>\n",
       "    </tr>\n",
       "    <tr>\n",
       "      <th>2022-04-25 23:45:00</th>\n",
       "      <td>3010.45</td>\n",
       "      <td>3013.09</td>\n",
       "      <td>3003.17</td>\n",
       "      <td>3006.62</td>\n",
       "      <td>3656.1121</td>\n",
       "    </tr>\n",
       "    <tr>\n",
       "      <th>2022-04-26 00:00:00</th>\n",
       "      <td>3006.63</td>\n",
       "      <td>3016.99</td>\n",
       "      <td>3005.63</td>\n",
       "      <td>3011.19</td>\n",
       "      <td>5822.9953</td>\n",
       "    </tr>\n",
       "    <tr>\n",
       "      <th>2022-04-26 00:15:00</th>\n",
       "      <td>3011.19</td>\n",
       "      <td>3019.56</td>\n",
       "      <td>3006.80</td>\n",
       "      <td>3018.00</td>\n",
       "      <td>4682.3703</td>\n",
       "    </tr>\n",
       "    <tr>\n",
       "      <th>2022-04-26 00:30:00</th>\n",
       "      <td>3018.01</td>\n",
       "      <td>3039.54</td>\n",
       "      <td>3014.00</td>\n",
       "      <td>3020.91</td>\n",
       "      <td>6529.6601</td>\n",
       "    </tr>\n",
       "    <tr>\n",
       "      <th>2022-04-26 00:45:00</th>\n",
       "      <td>3020.92</td>\n",
       "      <td>3023.89</td>\n",
       "      <td>3013.16</td>\n",
       "      <td>3013.21</td>\n",
       "      <td>2158.7548</td>\n",
       "    </tr>\n",
       "  </tbody>\n",
       "</table>\n",
       "<p>4000 rows × 5 columns</p>\n",
       "</div>"
      ],
      "text/plain": [
       "                        Open     High      Low    Close     Volume\n",
       "Time                                                              \n",
       "2022-03-15 09:00:00  2516.63  2520.31  2510.37  2520.11  3479.1802\n",
       "2022-03-15 09:15:00  2520.12  2535.77  2520.11  2529.52  3894.2497\n",
       "2022-03-15 09:30:00  2529.52  2534.70  2525.30  2532.45  1841.1285\n",
       "2022-03-15 09:45:00  2532.44  2534.96  2527.25  2529.63  1420.6660\n",
       "2022-03-15 10:00:00  2529.63  2537.22  2527.73  2534.53  1974.3831\n",
       "...                      ...      ...      ...      ...        ...\n",
       "2022-04-25 23:45:00  3010.45  3013.09  3003.17  3006.62  3656.1121\n",
       "2022-04-26 00:00:00  3006.63  3016.99  3005.63  3011.19  5822.9953\n",
       "2022-04-26 00:15:00  3011.19  3019.56  3006.80  3018.00  4682.3703\n",
       "2022-04-26 00:30:00  3018.01  3039.54  3014.00  3020.91  6529.6601\n",
       "2022-04-26 00:45:00  3020.92  3023.89  3013.16  3013.21  2158.7548\n",
       "\n",
       "[4000 rows x 5 columns]"
      ]
     },
     "execution_count": 5,
     "metadata": {},
     "output_type": "execute_result"
    }
   ],
   "source": [
    "df"
   ]
  },
  {
   "cell_type": "code",
   "execution_count": 6,
   "id": "b859cd10",
   "metadata": {},
   "outputs": [],
   "source": [
    "def applytechnicals(df):\n",
    "    for i in range(2,10,2):\n",
    "        df['rsi_'+str(i)] = ta.momentum.rsi(df.Close, window=i)\n",
    "        df['SMA_'+str(i*10)] = df.Close.rolling(i*10).mean()\n",
    "    df['macd'] = ta.trend.macd_diff(df.Close)\n",
    "    df.dropna(inplace=True)"
   ]
  },
  {
   "cell_type": "code",
   "execution_count": 7,
   "id": "4a52074e",
   "metadata": {},
   "outputs": [],
   "source": [
    "applytechnicals(df)"
   ]
  },
  {
   "cell_type": "code",
   "execution_count": 8,
   "id": "fb2b2a50",
   "metadata": {},
   "outputs": [
    {
     "data": {
      "text/html": [
       "<div>\n",
       "<style scoped>\n",
       "    .dataframe tbody tr th:only-of-type {\n",
       "        vertical-align: middle;\n",
       "    }\n",
       "\n",
       "    .dataframe tbody tr th {\n",
       "        vertical-align: top;\n",
       "    }\n",
       "\n",
       "    .dataframe thead th {\n",
       "        text-align: right;\n",
       "    }\n",
       "</style>\n",
       "<table border=\"1\" class=\"dataframe\">\n",
       "  <thead>\n",
       "    <tr style=\"text-align: right;\">\n",
       "      <th></th>\n",
       "      <th>Open</th>\n",
       "      <th>High</th>\n",
       "      <th>Low</th>\n",
       "      <th>Close</th>\n",
       "      <th>Volume</th>\n",
       "      <th>rsi_2</th>\n",
       "      <th>SMA_20</th>\n",
       "      <th>rsi_4</th>\n",
       "      <th>SMA_40</th>\n",
       "      <th>rsi_6</th>\n",
       "      <th>SMA_60</th>\n",
       "      <th>rsi_8</th>\n",
       "      <th>SMA_80</th>\n",
       "      <th>macd</th>\n",
       "    </tr>\n",
       "    <tr>\n",
       "      <th>Time</th>\n",
       "      <th></th>\n",
       "      <th></th>\n",
       "      <th></th>\n",
       "      <th></th>\n",
       "      <th></th>\n",
       "      <th></th>\n",
       "      <th></th>\n",
       "      <th></th>\n",
       "      <th></th>\n",
       "      <th></th>\n",
       "      <th></th>\n",
       "      <th></th>\n",
       "      <th></th>\n",
       "      <th></th>\n",
       "    </tr>\n",
       "  </thead>\n",
       "  <tbody>\n",
       "    <tr>\n",
       "      <th>2022-03-16 04:45:00</th>\n",
       "      <td>2616.29</td>\n",
       "      <td>2623.90</td>\n",
       "      <td>2616.28</td>\n",
       "      <td>2618.92</td>\n",
       "      <td>1673.6290</td>\n",
       "      <td>48.607285</td>\n",
       "      <td>2638.9985</td>\n",
       "      <td>34.455900</td>\n",
       "      <td>2635.17775</td>\n",
       "      <td>37.929917</td>\n",
       "      <td>2617.925500</td>\n",
       "      <td>40.760218</td>\n",
       "      <td>2597.193625</td>\n",
       "      <td>-6.105040</td>\n",
       "    </tr>\n",
       "    <tr>\n",
       "      <th>2022-03-16 05:00:00</th>\n",
       "      <td>2618.92</td>\n",
       "      <td>2623.19</td>\n",
       "      <td>2613.49</td>\n",
       "      <td>2622.56</td>\n",
       "      <td>2398.8614</td>\n",
       "      <td>74.952976</td>\n",
       "      <td>2638.9815</td>\n",
       "      <td>43.194713</td>\n",
       "      <td>2634.52275</td>\n",
       "      <td>41.980204</td>\n",
       "      <td>2619.314333</td>\n",
       "      <td>43.335204</td>\n",
       "      <td>2598.474250</td>\n",
       "      <td>-5.466375</td>\n",
       "    </tr>\n",
       "    <tr>\n",
       "      <th>2022-03-16 05:15:00</th>\n",
       "      <td>2622.55</td>\n",
       "      <td>2624.45</td>\n",
       "      <td>2611.96</td>\n",
       "      <td>2617.40</td>\n",
       "      <td>2759.5541</td>\n",
       "      <td>30.550605</td>\n",
       "      <td>2639.0080</td>\n",
       "      <td>34.500484</td>\n",
       "      <td>2633.68550</td>\n",
       "      <td>37.785875</td>\n",
       "      <td>2620.361500</td>\n",
       "      <td>40.484265</td>\n",
       "      <td>2599.572750</td>\n",
       "      <td>-5.146156</td>\n",
       "    </tr>\n",
       "    <tr>\n",
       "      <th>2022-03-16 05:30:00</th>\n",
       "      <td>2617.39</td>\n",
       "      <td>2632.92</td>\n",
       "      <td>2613.88</td>\n",
       "      <td>2628.50</td>\n",
       "      <td>3873.7127</td>\n",
       "      <td>80.429683</td>\n",
       "      <td>2639.7185</td>\n",
       "      <td>58.474030</td>\n",
       "      <td>2633.04800</td>\n",
       "      <td>50.541773</td>\n",
       "      <td>2621.480000</td>\n",
       "      <td>48.770093</td>\n",
       "      <td>2600.773375</td>\n",
       "      <td>-3.992913</td>\n",
       "    </tr>\n",
       "    <tr>\n",
       "      <th>2022-03-16 05:45:00</th>\n",
       "      <td>2628.50</td>\n",
       "      <td>2631.81</td>\n",
       "      <td>2624.25</td>\n",
       "      <td>2628.30</td>\n",
       "      <td>1576.8734</td>\n",
       "      <td>78.400570</td>\n",
       "      <td>2640.5765</td>\n",
       "      <td>57.964346</td>\n",
       "      <td>2632.26950</td>\n",
       "      <td>50.318703</td>\n",
       "      <td>2622.656833</td>\n",
       "      <td>48.630676</td>\n",
       "      <td>2602.006750</td>\n",
       "      <td>-3.090043</td>\n",
       "    </tr>\n",
       "    <tr>\n",
       "      <th>...</th>\n",
       "      <td>...</td>\n",
       "      <td>...</td>\n",
       "      <td>...</td>\n",
       "      <td>...</td>\n",
       "      <td>...</td>\n",
       "      <td>...</td>\n",
       "      <td>...</td>\n",
       "      <td>...</td>\n",
       "      <td>...</td>\n",
       "      <td>...</td>\n",
       "      <td>...</td>\n",
       "      <td>...</td>\n",
       "      <td>...</td>\n",
       "      <td>...</td>\n",
       "    </tr>\n",
       "    <tr>\n",
       "      <th>2022-04-25 23:45:00</th>\n",
       "      <td>3010.45</td>\n",
       "      <td>3013.09</td>\n",
       "      <td>3003.17</td>\n",
       "      <td>3006.62</td>\n",
       "      <td>3656.1121</td>\n",
       "      <td>13.794436</td>\n",
       "      <td>3003.7135</td>\n",
       "      <td>36.987097</td>\n",
       "      <td>2955.01800</td>\n",
       "      <td>50.928003</td>\n",
       "      <td>2917.327667</td>\n",
       "      <td>58.654142</td>\n",
       "      <td>2897.334125</td>\n",
       "      <td>-4.173234</td>\n",
       "    </tr>\n",
       "    <tr>\n",
       "      <th>2022-04-26 00:00:00</th>\n",
       "      <td>3006.63</td>\n",
       "      <td>3016.99</td>\n",
       "      <td>3005.63</td>\n",
       "      <td>3011.19</td>\n",
       "      <td>5822.9953</td>\n",
       "      <td>65.460441</td>\n",
       "      <td>3006.4215</td>\n",
       "      <td>58.528486</td>\n",
       "      <td>2958.91575</td>\n",
       "      <td>61.077612</td>\n",
       "      <td>2920.714333</td>\n",
       "      <td>64.296486</td>\n",
       "      <td>2899.119750</td>\n",
       "      <td>-4.210673</td>\n",
       "    </tr>\n",
       "    <tr>\n",
       "      <th>2022-04-26 00:15:00</th>\n",
       "      <td>3011.19</td>\n",
       "      <td>3019.56</td>\n",
       "      <td>3006.80</td>\n",
       "      <td>3018.00</td>\n",
       "      <td>4682.3703</td>\n",
       "      <td>87.603353</td>\n",
       "      <td>3007.9795</td>\n",
       "      <td>75.303187</td>\n",
       "      <td>2962.64425</td>\n",
       "      <td>71.586424</td>\n",
       "      <td>2924.178833</td>\n",
       "      <td>71.029460</td>\n",
       "      <td>2901.024125</td>\n",
       "      <td>-3.799371</td>\n",
       "    </tr>\n",
       "    <tr>\n",
       "      <th>2022-04-26 00:30:00</th>\n",
       "      <td>3018.01</td>\n",
       "      <td>3039.54</td>\n",
       "      <td>3014.00</td>\n",
       "      <td>3020.91</td>\n",
       "      <td>6529.6601</td>\n",
       "      <td>91.991264</td>\n",
       "      <td>3008.4885</td>\n",
       "      <td>79.928744</td>\n",
       "      <td>2966.15825</td>\n",
       "      <td>75.041795</td>\n",
       "      <td>2927.350833</td>\n",
       "      <td>73.472498</td>\n",
       "      <td>2902.955875</td>\n",
       "      <td>-3.368597</td>\n",
       "    </tr>\n",
       "    <tr>\n",
       "      <th>2022-04-26 00:45:00</th>\n",
       "      <td>3020.92</td>\n",
       "      <td>3023.89</td>\n",
       "      <td>3013.16</td>\n",
       "      <td>3013.21</td>\n",
       "      <td>2158.7548</td>\n",
       "      <td>32.017144</td>\n",
       "      <td>3008.5285</td>\n",
       "      <td>48.127112</td>\n",
       "      <td>2969.70850</td>\n",
       "      <td>54.137139</td>\n",
       "      <td>2930.450167</td>\n",
       "      <td>58.543190</td>\n",
       "      <td>2904.808625</td>\n",
       "      <td>-3.617629</td>\n",
       "    </tr>\n",
       "  </tbody>\n",
       "</table>\n",
       "<p>3921 rows × 14 columns</p>\n",
       "</div>"
      ],
      "text/plain": [
       "                        Open     High      Low    Close     Volume      rsi_2  \\\n",
       "Time                                                                            \n",
       "2022-03-16 04:45:00  2616.29  2623.90  2616.28  2618.92  1673.6290  48.607285   \n",
       "2022-03-16 05:00:00  2618.92  2623.19  2613.49  2622.56  2398.8614  74.952976   \n",
       "2022-03-16 05:15:00  2622.55  2624.45  2611.96  2617.40  2759.5541  30.550605   \n",
       "2022-03-16 05:30:00  2617.39  2632.92  2613.88  2628.50  3873.7127  80.429683   \n",
       "2022-03-16 05:45:00  2628.50  2631.81  2624.25  2628.30  1576.8734  78.400570   \n",
       "...                      ...      ...      ...      ...        ...        ...   \n",
       "2022-04-25 23:45:00  3010.45  3013.09  3003.17  3006.62  3656.1121  13.794436   \n",
       "2022-04-26 00:00:00  3006.63  3016.99  3005.63  3011.19  5822.9953  65.460441   \n",
       "2022-04-26 00:15:00  3011.19  3019.56  3006.80  3018.00  4682.3703  87.603353   \n",
       "2022-04-26 00:30:00  3018.01  3039.54  3014.00  3020.91  6529.6601  91.991264   \n",
       "2022-04-26 00:45:00  3020.92  3023.89  3013.16  3013.21  2158.7548  32.017144   \n",
       "\n",
       "                        SMA_20      rsi_4      SMA_40      rsi_6       SMA_60  \\\n",
       "Time                                                                            \n",
       "2022-03-16 04:45:00  2638.9985  34.455900  2635.17775  37.929917  2617.925500   \n",
       "2022-03-16 05:00:00  2638.9815  43.194713  2634.52275  41.980204  2619.314333   \n",
       "2022-03-16 05:15:00  2639.0080  34.500484  2633.68550  37.785875  2620.361500   \n",
       "2022-03-16 05:30:00  2639.7185  58.474030  2633.04800  50.541773  2621.480000   \n",
       "2022-03-16 05:45:00  2640.5765  57.964346  2632.26950  50.318703  2622.656833   \n",
       "...                        ...        ...         ...        ...          ...   \n",
       "2022-04-25 23:45:00  3003.7135  36.987097  2955.01800  50.928003  2917.327667   \n",
       "2022-04-26 00:00:00  3006.4215  58.528486  2958.91575  61.077612  2920.714333   \n",
       "2022-04-26 00:15:00  3007.9795  75.303187  2962.64425  71.586424  2924.178833   \n",
       "2022-04-26 00:30:00  3008.4885  79.928744  2966.15825  75.041795  2927.350833   \n",
       "2022-04-26 00:45:00  3008.5285  48.127112  2969.70850  54.137139  2930.450167   \n",
       "\n",
       "                         rsi_8       SMA_80      macd  \n",
       "Time                                                   \n",
       "2022-03-16 04:45:00  40.760218  2597.193625 -6.105040  \n",
       "2022-03-16 05:00:00  43.335204  2598.474250 -5.466375  \n",
       "2022-03-16 05:15:00  40.484265  2599.572750 -5.146156  \n",
       "2022-03-16 05:30:00  48.770093  2600.773375 -3.992913  \n",
       "2022-03-16 05:45:00  48.630676  2602.006750 -3.090043  \n",
       "...                        ...          ...       ...  \n",
       "2022-04-25 23:45:00  58.654142  2897.334125 -4.173234  \n",
       "2022-04-26 00:00:00  64.296486  2899.119750 -4.210673  \n",
       "2022-04-26 00:15:00  71.029460  2901.024125 -3.799371  \n",
       "2022-04-26 00:30:00  73.472498  2902.955875 -3.368597  \n",
       "2022-04-26 00:45:00  58.543190  2904.808625 -3.617629  \n",
       "\n",
       "[3921 rows x 14 columns]"
      ]
     },
     "execution_count": 8,
     "metadata": {},
     "output_type": "execute_result"
    }
   ],
   "source": [
    "df"
   ]
  },
  {
   "cell_type": "code",
   "execution_count": null,
   "id": "ec4bdef6",
   "metadata": {},
   "outputs": [],
   "source": [
    "# df.Close"
   ]
  },
  {
   "cell_type": "code",
   "execution_count": null,
   "id": "53e894e1",
   "metadata": {},
   "outputs": [],
   "source": [
    "# df.Close.shift(-1) - df.Close"
   ]
  },
  {
   "cell_type": "code",
   "execution_count": 9,
   "id": "75247cbb",
   "metadata": {},
   "outputs": [],
   "source": [
    "def x_y(df, period):\n",
    "    y = df.Close.shift(-period) - df.Close\n",
    "    y = y[:-period]\n",
    "    x = df[:-period]\n",
    "    y = np.where(y>0,1,0)\n",
    "    return x,y"
   ]
  },
  {
   "cell_type": "code",
   "execution_count": 10,
   "id": "4b1d479e",
   "metadata": {},
   "outputs": [],
   "source": [
    "x,y = x_y(df,1)"
   ]
  },
  {
   "cell_type": "code",
   "execution_count": 11,
   "id": "ba8e3272",
   "metadata": {},
   "outputs": [
    {
     "data": {
      "text/plain": [
       "array([1, 0, 1, ..., 1, 1, 0])"
      ]
     },
     "execution_count": 11,
     "metadata": {},
     "output_type": "execute_result"
    }
   ],
   "source": [
    "y"
   ]
  },
  {
   "cell_type": "code",
   "execution_count": 12,
   "id": "245ea880",
   "metadata": {},
   "outputs": [],
   "source": [
    "from sklearn.model_selection import train_test_split"
   ]
  },
  {
   "cell_type": "code",
   "execution_count": 16,
   "id": "e6e249d7",
   "metadata": {},
   "outputs": [],
   "source": [
    "x_train, x_test, y_train, y_test = train_test_split(x,y,test_size=0.3,\n",
    "                                                    random_state=1,\n",
    "                                                    shuffle=False)"
   ]
  },
  {
   "cell_type": "code",
   "execution_count": 17,
   "id": "01d5c24f",
   "metadata": {},
   "outputs": [],
   "source": [
    "from sklearn.ensemble import RandomForestClassifier"
   ]
  },
  {
   "cell_type": "code",
   "execution_count": 18,
   "id": "e18f883b",
   "metadata": {},
   "outputs": [],
   "source": [
    "clf = RandomForestClassifier(random_state=1)"
   ]
  },
  {
   "cell_type": "code",
   "execution_count": 20,
   "id": "e900071d",
   "metadata": {},
   "outputs": [
    {
     "data": {
      "text/plain": [
       "RandomForestClassifier(random_state=1)"
      ]
     },
     "execution_count": 20,
     "metadata": {},
     "output_type": "execute_result"
    }
   ],
   "source": [
    "clf.fit(x_train, y_train)"
   ]
  },
  {
   "cell_type": "code",
   "execution_count": 21,
   "id": "fd5dffc8",
   "metadata": {},
   "outputs": [],
   "source": [
    "pred = clf.predict(x_test)"
   ]
  },
  {
   "cell_type": "code",
   "execution_count": 22,
   "id": "f68ee5af",
   "metadata": {},
   "outputs": [
    {
     "data": {
      "text/plain": [
       "array([1, 1, 0, ..., 1, 1, 1])"
      ]
     },
     "execution_count": 22,
     "metadata": {},
     "output_type": "execute_result"
    }
   ],
   "source": [
    "pred"
   ]
  },
  {
   "cell_type": "code",
   "execution_count": 27,
   "id": "69a32042",
   "metadata": {},
   "outputs": [],
   "source": [
    "from sklearn.metrics import accuracy_score, precision_score, confusion_matrix"
   ]
  },
  {
   "cell_type": "code",
   "execution_count": 24,
   "id": "86eb45aa",
   "metadata": {},
   "outputs": [
    {
     "data": {
      "text/plain": [
       "array([[293, 304],\n",
       "       [245, 334]], dtype=int64)"
      ]
     },
     "execution_count": 24,
     "metadata": {},
     "output_type": "execute_result"
    }
   ],
   "source": [
    "confusion_matrix(y_test, pred)"
   ]
  },
  {
   "cell_type": "code",
   "execution_count": 25,
   "id": "102cf444",
   "metadata": {},
   "outputs": [],
   "source": [
    "tn, fp, fn, tp = confusion_matrix(y_test, pred).ravel()"
   ]
  },
  {
   "cell_type": "code",
   "execution_count": 26,
   "id": "2de64c15",
   "metadata": {},
   "outputs": [
    {
     "data": {
      "text/plain": [
       "293"
      ]
     },
     "execution_count": 26,
     "metadata": {},
     "output_type": "execute_result"
    }
   ],
   "source": [
    "tn"
   ]
  },
  {
   "cell_type": "code",
   "execution_count": 28,
   "id": "b1c0b345",
   "metadata": {},
   "outputs": [
    {
     "data": {
      "text/plain": [
       "0.5331632653061225"
      ]
     },
     "execution_count": 28,
     "metadata": {},
     "output_type": "execute_result"
    }
   ],
   "source": [
    "accuracy_score(y_test, pred)"
   ]
  },
  {
   "cell_type": "code",
   "execution_count": 29,
   "id": "8e6df4f5",
   "metadata": {},
   "outputs": [
    {
     "data": {
      "text/plain": [
       "0.5235109717868338"
      ]
     },
     "execution_count": 29,
     "metadata": {},
     "output_type": "execute_result"
    }
   ],
   "source": [
    "precision_score(y_test, pred)"
   ]
  }
 ],
 "metadata": {
  "kernelspec": {
   "display_name": "Python 3 (ipykernel)",
   "language": "python",
   "name": "python3"
  },
  "language_info": {
   "codemirror_mode": {
    "name": "ipython",
    "version": 3
   },
   "file_extension": ".py",
   "mimetype": "text/x-python",
   "name": "python",
   "nbconvert_exporter": "python",
   "pygments_lexer": "ipython3",
   "version": "3.10.4"
  }
 },
 "nbformat": 4,
 "nbformat_minor": 5
}
