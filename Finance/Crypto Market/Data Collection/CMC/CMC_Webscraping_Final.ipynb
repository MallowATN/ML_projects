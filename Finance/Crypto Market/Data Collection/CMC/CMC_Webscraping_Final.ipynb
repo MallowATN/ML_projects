{
 "cells": [
  {
   "cell_type": "code",
   "execution_count": 1,
   "id": "80557dd4",
   "metadata": {},
   "outputs": [],
   "source": [
    "import os\n",
    "import time\n",
    "from datetime import datetime\n",
    "import selenium.webdriver as webdriver\n",
    "import chromedriver_binary\n",
    "from selenium.webdriver.support.ui import WebDriverWait, Select\n",
    "from selenium.webdriver.support import expected_conditions as EC\n",
    "from selenium.webdriver.firefox.options import Options\n",
    "from selenium.webdriver.firefox.service import Service\n",
    "from selenium.webdriver.common.by import By\n",
    "from selenium.webdriver.common.action_chains import ActionChains\n",
    "from selenium.webdriver.common.keys import Keys\n",
    "from selenium.common.exceptions import TimeoutException, NoSuchElementException, ElementNotInteractableException\n",
    "import bs4\n",
    "import pandas as pd\n",
    "import requests\n",
    "import csv"
   ]
  },
  {
   "cell_type": "code",
   "execution_count": 2,
   "id": "34d5d3c4",
   "metadata": {},
   "outputs": [],
   "source": [
    "def xpath_element(xpath):\n",
    "    try:\n",
    "        element = driver.find_element(By.XPATH, xpath)\n",
    "    except NoSuchElementException:\n",
    "        element = []\n",
    "    return element"
   ]
  },
  {
   "cell_type": "code",
   "execution_count": 3,
   "id": "481d3b73",
   "metadata": {},
   "outputs": [
    {
     "name": "stdout",
     "output_type": "stream",
     "text": [
      "Enter the full name of the crypto ticker. (i.e; ethereum, bitcoin, etc.)\n",
      "ethereum\n"
     ]
    }
   ],
   "source": [
    "symbol = ''\n",
    "print('Enter the full name of the crypto ticker. (i.e; ethereum, bitcoin, etc.)')\n",
    "symbol = input().lower()"
   ]
  },
  {
   "cell_type": "code",
   "execution_count": 5,
   "id": "838feb95",
   "metadata": {},
   "outputs": [],
   "source": [
    "url = 'https://coinmarketcap.com/currencies/' + symbol + '/historical-data/'\n",
    "user_agent = 'Mozilla/5.0 (Windows NT 10.0; Win64; x64; rv:100.0) Gecko/20100101 Firefox/100.0'\n",
    "PATH = 'C:\\Program Files\\Mozilla Firefox'\n",
    "s=Service('C:\\Program Files\\Mozilla Firefox\\geckodriver.exe')\n",
    "driver = webdriver.Firefox(service=s)\n",
    "driver.implicitly_wait(5)\n",
    "driver.get(url)\n",
    "\n",
    "# IF POPUP MESSAGE SHOWS ON SCREEN, USE THE CODE BELOW...........................................\n",
    "# WebDriverWait(driver, 20).until(EC.presence_of_all_elements_located((By.XPATH,\n",
    "# \"//button[contains(@class,'_hj-wTnOw__SurveyInvitation__noThanksButton _hj-3OscV__styles__clearButton')]\")))\n",
    "# xpath = '/html/body/div[3]/div/div/div[2]/div/button'\n",
    "# no_thanks = xpath_element(xpath)\n",
    "# driver.execute_script('arguments[0].click();', no_thanks)\n",
    "\n",
    "count = 0\n",
    "while True:\n",
    "    try:\n",
    "#         xpath = '//*[@id=\"__next\"]/div[1]/div[1]/div[2]/div/div[3]/div[2]/div/p[1]/button'\n",
    "        xpath=\"/html/body/div[1]/div[1]/div[1]/div[2]/div/div[3]/div/div/div[1]/p[1]/button\"\n",
    "        load_more = xpath_element(xpath)\n",
    "        driver.execute_script(\"arguments[0].click();\", load_more)\n",
    "        time.sleep(1)\n",
    "        count += 1\n",
    "        if count < 120:\n",
    "            continue\n",
    "        else:\n",
    "            break\n",
    "    except ElementNotInteractableException:\n",
    "        False"
   ]
  },
  {
   "cell_type": "code",
   "execution_count": null,
   "id": "29ca99e4",
   "metadata": {},
   "outputs": [],
   "source": [
    "df = pd.read_html(driver.page_source)[0]"
   ]
  },
  {
   "cell_type": "code",
   "execution_count": null,
   "id": "39ae2f7e",
   "metadata": {},
   "outputs": [],
   "source": [
    "df['Date'] = pd.to_datetime(df['Date'], errors='coerce')\n",
    "df.to_csv(symbol + '_CMC.csv',mode='a')"
   ]
  },
  {
   "cell_type": "code",
   "execution_count": null,
   "id": "11b7533d",
   "metadata": {},
   "outputs": [],
   "source": [
    "driver.close()"
   ]
  }
 ],
 "metadata": {
  "kernelspec": {
   "display_name": "Python 3 (ipykernel)",
   "language": "python",
   "name": "python3"
  },
  "language_info": {
   "codemirror_mode": {
    "name": "ipython",
    "version": 3
   },
   "file_extension": ".py",
   "mimetype": "text/x-python",
   "name": "python",
   "nbconvert_exporter": "python",
   "pygments_lexer": "ipython3",
   "version": "3.10.4"
  }
 },
 "nbformat": 4,
 "nbformat_minor": 5
}
