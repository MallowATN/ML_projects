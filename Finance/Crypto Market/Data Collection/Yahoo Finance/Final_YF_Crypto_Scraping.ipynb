{
 "cells": [
  {
   "cell_type": "code",
   "execution_count": 9,
   "id": "74a55df7",
   "metadata": {},
   "outputs": [],
   "source": [
    "import os\n",
    "import time\n",
    "import datetime\n",
    "import selenium.webdriver as webdriver\n",
    "import chromedriver_binary\n",
    "from selenium.webdriver.support.ui import WebDriverWait, Select\n",
    "from selenium.webdriver.support import expected_conditions as EC\n",
    "from selenium.webdriver.chrome.options import Options\n",
    "from selenium.webdriver.firefox.options import Options\n",
    "from selenium.webdriver.chrome.service import Service\n",
    "from selenium.webdriver.common.by import By\n",
    "from selenium.webdriver.common.action_chains import ActionChains\n",
    "from selenium.webdriver.common.keys import Keys\n",
    "from selenium.common.exceptions import TimeoutException, NoSuchElementException, ElementNotInteractableException\n",
    "from webdriver_manager.chrome import ChromeDriverManager\n",
    "from bs4 import BeautifulSoup\n",
    "import pandas as pd"
   ]
  },
  {
   "cell_type": "code",
   "execution_count": 10,
   "id": "8a256721",
   "metadata": {},
   "outputs": [],
   "source": [
    "user_agent = 'Mozilla/5.0 (Windows NT 10.0; Win64; x64; rv:100.0) Gecko/20100101 Firefox/100.0'\n",
    "PATH = 'C:\\Program Files\\Mozilla Firefox'\n",
    "s=Service('C:\\Program Files\\Mozilla Firefox\\geckodriver.exe')\n",
    "driver = webdriver.Firefox(service=s)"
   ]
  },
  {
   "cell_type": "code",
   "execution_count": 11,
   "id": "7549d14b",
   "metadata": {},
   "outputs": [
    {
     "name": "stdout",
     "output_type": "stream",
     "text": [
      "Enter the crypto ticker:\n",
      "eth\n"
     ]
    }
   ],
   "source": [
    "symbol = ''\n",
    "print('Enter the crypto ticker:')\n",
    "symbol = input().upper()"
   ]
  },
  {
   "cell_type": "code",
   "execution_count": 12,
   "id": "760b123a",
   "metadata": {},
   "outputs": [],
   "source": [
    "def xpath_element(xpath):\n",
    "    try:\n",
    "        element = driver.find_element(By.XPATH, xpath)\n",
    "    except NoSuchElementException:\n",
    "        element = []\n",
    "    return element"
   ]
  },
  {
   "cell_type": "code",
   "execution_count": 13,
   "id": "65130ac1",
   "metadata": {},
   "outputs": [],
   "source": [
    "def real_time_price(stock_code=symbol):\n",
    "    url  = 'https://finance.yahoo.com/quote/'+stock_code+'?p='+stock_code+'&.tsrc=fin-srch'\n",
    "    driver.get(url)\n",
    "    ########## PRICE AND CHANGES ###########\n",
    "    xpath = '//*[@id=\"quote-header-info\"]/div[3]/div[1]/div[1]'\n",
    "    stock_price_info = xpath_element(xpath)\n",
    "#     print(stock_price_info.text.split()[0], stock_price_info.text.split()[1])\n",
    "    if stock_price_info != []:\n",
    "        stock_price_temp = stock_price_info.text.split()[0]\n",
    "        if stock_price_temp.find('+') != -1:\n",
    "            price = stock_price_temp.split('+')[0]\n",
    "            try:\n",
    "                change = '+' + stock_price_temp.split('+')[1] + ' ' + stock_price_info.text.split()[1]\n",
    "            except IndexError:\n",
    "                change = []\n",
    "        elif stock_price_temp.find('-') != -1:\n",
    "            price = stock_price_temp.split('-')[0]\n",
    "            try:\n",
    "                change = '-' + stock_price_temp.split('-')[1] + ' ' + stock_price_info.text.split()[1]\n",
    "            except IndexError:\n",
    "                change = []\n",
    "        else:\n",
    "            price,change = [],[]\n",
    "    else:\n",
    "        price, change = [],[]\n",
    "    ########## Volume ###########\n",
    "    xpath = '//*[@id=\"quote-summary\"]/div[2]/table'\n",
    "    volume_temp = xpath_element(xpath)\n",
    "#     print(volume_temp.text.split()[-9])\n",
    "    if volume_temp != []:\n",
    "#         volume = volume_temp.text.split()[-9]\n",
    "        for i, text in enumerate(volume_temp.text.split()):\n",
    "            if text == 'Volume':\n",
    "                volume = volume_temp.text.split()[i+1]\n",
    "                break\n",
    "            else:\n",
    "                volume = []\n",
    "    return [price, change, volume]"
   ]
  },
  {
   "cell_type": "code",
   "execution_count": 14,
   "id": "54f37fa3",
   "metadata": {},
   "outputs": [],
   "source": [
    "crypto_stonk = [symbol]"
   ]
  },
  {
   "cell_type": "code",
   "execution_count": 15,
   "id": "4598b90a",
   "metadata": {},
   "outputs": [],
   "source": [
    "stonks = []\n",
    "for i in (crypto_stonk):\n",
    "    stonks.append(str(i) + '-USD')"
   ]
  },
  {
   "cell_type": "code",
   "execution_count": 16,
   "id": "57c7ce57",
   "metadata": {},
   "outputs": [
    {
     "name": "stdout",
     "output_type": "stream",
     "text": [
      "                      Price            Change          Volume\n",
      "Time                                                         \n",
      "22-05-07 22:51:42  2,540.47  -134.99 (-5.05%)  16,492,146,688\n",
      "                      Price            Change          Volume\n",
      "Time                                                         \n",
      "22-05-07 22:52:38  2,540.47  -134.99 (-5.05%)  16,492,146,688\n",
      "                      Price            Change          Volume\n",
      "Time                                                         \n",
      "22-05-07 22:53:36  2,540.79  -134.32 (-5.02%)  16,499,248,128\n",
      "                      Price            Change          Volume\n",
      "Time                                                         \n",
      "22-05-07 22:54:31  2,543.26  -132.01 (-4.93%)  16,537,401,344\n",
      "                      Price            Change          Volume\n",
      "Time                                                         \n",
      "22-05-07 22:55:27  2,543.58  -131.59 (-4.92%)  16,549,725,184\n"
     ]
    },
    {
     "ename": "KeyboardInterrupt",
     "evalue": "",
     "output_type": "error",
     "traceback": [
      "\u001b[1;31m---------------------------------------------------------------------------\u001b[0m",
      "\u001b[1;31mKeyboardInterrupt\u001b[0m                         Traceback (most recent call last)",
      "Input \u001b[1;32mIn [16]\u001b[0m, in \u001b[0;36m<cell line: 1>\u001b[1;34m()\u001b[0m\n\u001b[0;32m     16\u001b[0m     df\u001b[38;5;241m.\u001b[39mto_csv(symbol \u001b[38;5;241m+\u001b[39m \u001b[38;5;124m'\u001b[39m\u001b[38;5;124m_\u001b[39m\u001b[38;5;124m'\u001b[39m \u001b[38;5;241m+\u001b[39m\u001b[38;5;28mstr\u001b[39m(time_stamp[\u001b[38;5;241m0\u001b[39m:\u001b[38;5;241m5\u001b[39m]) \u001b[38;5;241m+\u001b[39m \u001b[38;5;124m'\u001b[39m\u001b[38;5;124mcryptodata.csv\u001b[39m\u001b[38;5;124m'\u001b[39m,mode\u001b[38;5;241m=\u001b[39m\u001b[38;5;124m'\u001b[39m\u001b[38;5;124ma\u001b[39m\u001b[38;5;124m'\u001b[39m, header\u001b[38;5;241m=\u001b[39m\u001b[38;5;28;01mFalse\u001b[39;00m)\n\u001b[0;32m     17\u001b[0m     \u001b[38;5;28mprint\u001b[39m(df)\n\u001b[1;32m---> 18\u001b[0m     \u001b[43mtime\u001b[49m\u001b[38;5;241;43m.\u001b[39;49m\u001b[43msleep\u001b[49m\u001b[43m(\u001b[49m\u001b[38;5;241;43m50\u001b[39;49m\u001b[43m)\u001b[49m\n\u001b[0;32m     19\u001b[0m driver\u001b[38;5;241m.\u001b[39mclose()\n",
      "\u001b[1;31mKeyboardInterrupt\u001b[0m: "
     ]
    }
   ],
   "source": [
    "while True:\n",
    "    time_stamp = datetime.datetime.now()\n",
    "    time_stamp = time_stamp.strftime('%y-%m-%d %H:%M:%S')\n",
    "    testing = []\n",
    "    for i in stonks:\n",
    "        price, change, volume = real_time_price(i)\n",
    "        for j in real_time_price(i):\n",
    "            testing.append(j)\n",
    "            trial = list(map(list,zip(*([iter(testing)]*3))))\n",
    "            for k in trial:\n",
    "                k.append(time_stamp)\n",
    "    #         change the number if more parameters added\n",
    "    df = pd.DataFrame(trial, columns=['Price','Change','Volume','Time'])\n",
    "    df = df[['Time','Price','Change','Volume']]\n",
    "    df = df.set_index('Time')\n",
    "    df.to_csv(symbol + '_' +str(time_stamp[0:5]) + 'cryptodata.csv',mode='a', header=False)\n",
    "    print(df)\n",
    "    time.sleep(50)\n",
    "driver.close()\n"
   ]
  },
  {
   "cell_type": "code",
   "execution_count": null,
   "id": "e1327b15",
   "metadata": {},
   "outputs": [],
   "source": [
    "# Future: Work on custom loop to set at every minute intervals in CST. \n",
    "# Future: Work on looping through different tickers \n",
    "# Future: Work on making these different tickers inside their individual excel_sheet\n",
    "# Future: Inputs will be from most common gains from scraping Reddit's WSB"
   ]
  }
 ],
 "metadata": {
  "kernelspec": {
   "display_name": "Python 3 (ipykernel)",
   "language": "python",
   "name": "python3"
  },
  "language_info": {
   "codemirror_mode": {
    "name": "ipython",
    "version": 3
   },
   "file_extension": ".py",
   "mimetype": "text/x-python",
   "name": "python",
   "nbconvert_exporter": "python",
   "pygments_lexer": "ipython3",
   "version": "3.10.4"
  }
 },
 "nbformat": 4,
 "nbformat_minor": 5
}
