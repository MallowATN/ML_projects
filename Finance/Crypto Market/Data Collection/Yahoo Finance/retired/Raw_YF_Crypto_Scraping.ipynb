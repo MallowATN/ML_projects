{
 "cells": [
  {
   "cell_type": "markdown",
   "id": "fc79d3b6",
   "metadata": {},
   "source": [
    "Make sure to download the Mozilla Firefox and the webdriver. \\\n",
    "Pip install everything"
   ]
  },
  {
   "cell_type": "code",
   "execution_count": 130,
   "id": "d7e1c040",
   "metadata": {},
   "outputs": [],
   "source": [
    "import os\n",
    "import time\n",
    "import datetime\n",
    "import selenium.webdriver as webdriver\n",
    "import chromedriver_binary\n",
    "from selenium.webdriver.support.ui import WebDriverWait, Select\n",
    "from selenium.webdriver.support import expected_conditions as EC\n",
    "from selenium.webdriver.chrome.options import Options\n",
    "from selenium.webdriver.firefox.options import Options\n",
    "from selenium.webdriver.chrome.service import Service\n",
    "from selenium.webdriver.common.by import By\n",
    "from selenium.webdriver.common.action_chains import ActionChains\n",
    "from selenium.webdriver.common.keys import Keys\n",
    "from selenium.common.exceptions import TimeoutException, NoSuchElementException, ElementNotInteractableException\n",
    "from webdriver_manager.chrome import ChromeDriverManager\n",
    "from bs4 import BeautifulSoup\n",
    "import pandas as pd"
   ]
  },
  {
   "cell_type": "code",
   "execution_count": 155,
   "id": "9b0bfa78",
   "metadata": {},
   "outputs": [],
   "source": [
    "user_agent = 'Mozilla/5.0 (Windows NT 10.0; Win64; x64; rv:100.0) Gecko/20100101 Firefox/100.0'\n",
    "PATH = 'C:\\Program Files\\Mozilla Firefox'\n",
    "s=Service('C:\\Program Files\\Mozilla Firefox\\geckodriver.exe')\n",
    "driver = webdriver.Firefox(service=s)\n",
    "# url_ETH = 'https://finance.yahoo.com/quote/ETH-USD/'\n",
    "# driver.get(url_ETH)"
   ]
  },
  {
   "cell_type": "code",
   "execution_count": 147,
   "id": "1550ff6a",
   "metadata": {},
   "outputs": [],
   "source": [
    "url_ETH = 'https://finance.yahoo.com/quote/ETH-USD/'"
   ]
  },
  {
   "cell_type": "code",
   "execution_count": 132,
   "id": "b542eaf5",
   "metadata": {},
   "outputs": [],
   "source": [
    "def xpath_element(xpath):\n",
    "    try:\n",
    "        element = driver.find_element(By.XPATH, xpath)\n",
    "    except NoSuchElementException:\n",
    "        element = []\n",
    "    return element"
   ]
  },
  {
   "cell_type": "code",
   "execution_count": 133,
   "id": "be8dbf68",
   "metadata": {},
   "outputs": [],
   "source": [
    "def real_time_price(stock_code):\n",
    "    url  = 'https://finance.yahoo.com/quote/'+stock_code+'?p='+stock_code+'&.tsrc=fin-srch'\n",
    "    driver.get(url)\n",
    "    ########## PRICE AND CHANGES ###########\n",
    "    xpath = '//*[@id=\"quote-header-info\"]/div[3]/div[1]/div[1]'\n",
    "    stock_price_info = xpath_element(xpath)\n",
    "#     print(stock_price_info.text.split()[0], stock_price_info.text.split()[1])\n",
    "    if stock_price_info != []:\n",
    "        stock_price_temp = stock_price_info.text.split()[0]\n",
    "        if stock_price_temp.find('+') != -1:\n",
    "            price = stock_price_temp.split('+')[0]\n",
    "            try:\n",
    "                change = '+' + stock_price_temp.split('+')[1] + ' ' + stock_price_info.text.split()[1]\n",
    "            except IndexError:\n",
    "                change = []\n",
    "        elif stock_price_temp.find('-') != -1:\n",
    "            price = stock_price_temp.split('-')[0]\n",
    "            try:\n",
    "                change = '-' + stock_price_temp.split('-')[1] + ' ' + stock_price_info.text.split()[1]\n",
    "            except IndexError:\n",
    "                change = []\n",
    "        else:\n",
    "            price,change = [],[]\n",
    "    else:\n",
    "        price, change = [],[]\n",
    "    ########## Volume ###########\n",
    "    xpath = '//*[@id=\"quote-summary\"]/div[2]/table'\n",
    "    volume_temp = xpath_element(xpath)\n",
    "#     print(volume_temp.text.split()[-9])\n",
    "    if volume_temp != []:\n",
    "#         volume = volume_temp.text.split()[-9]\n",
    "        for i, text in enumerate(volume_temp.text.split()):\n",
    "            if text == 'Volume':\n",
    "                volume = volume_temp.text.split()[i+1]\n",
    "                break\n",
    "            else:\n",
    "                volume = []\n",
    "    return [price, change, volume]"
   ]
  },
  {
   "cell_type": "markdown",
   "id": "b1c48ee3",
   "metadata": {},
   "source": [
    "<!-- #       latest_pattern, one_year_target = [], []\n",
    "#     return price, change, volume, latest_pattern, one_year_target\n",
    "# If I want to add -->"
   ]
  },
  {
   "cell_type": "markdown",
   "id": "d84ee523",
   "metadata": {},
   "source": [
    "<!-- price, change, volume = real_time_price('ETH-USD') -->"
   ]
  },
  {
   "cell_type": "markdown",
   "id": "53a0217f",
   "metadata": {},
   "source": [
    "<!-- price, change, volume = real_time_price('ETH-USD') -->"
   ]
  },
  {
   "cell_type": "markdown",
   "id": "5b04b243",
   "metadata": {},
   "source": [
    "<!-- print(price) -->"
   ]
  },
  {
   "cell_type": "markdown",
   "id": "c877e25f",
   "metadata": {},
   "source": [
    "<!-- print(change) -->"
   ]
  },
  {
   "cell_type": "markdown",
   "id": "cf9d88c6",
   "metadata": {},
   "source": [
    "<!-- print(volume) -->"
   ]
  },
  {
   "cell_type": "code",
   "execution_count": 134,
   "id": "ae7b27e6",
   "metadata": {},
   "outputs": [],
   "source": [
    "# crypto_stock = ['ETH-USD','BTC-USD','LTC-USD','ADA-USD']\n",
    "# Need to add more future stocks. Some stocks \n",
    "# crypto_stonk = ['XRP', 'DOGE', 'SHIB', 'LINK', 'AXS', 'XLM', 'TRX',\n",
    "#  'RVN', 'ADA', 'AVAX', 'ATOM', 'ALGO', 'DOT', 'XMR', 'ICP', 'ETC', 'MANA',\n",
    "#  'AAVE', 'LUNA', 'SOL', 'BTC', 'LTC', 'ETH', 'APE', 'BNB', 'ONE', 'TEL',\n",
    "# 'ERG', 'RTM']\n",
    "crypto_stonk = ['ETH']"
   ]
  },
  {
   "cell_type": "code",
   "execution_count": 135,
   "id": "af85c016",
   "metadata": {},
   "outputs": [],
   "source": [
    "stonks = []\n",
    "for i in (crypto_stonk):\n",
    "    stonks.append(str(i) + '-USD')"
   ]
  },
  {
   "cell_type": "markdown",
   "id": "e6864ec4",
   "metadata": {},
   "source": [
    "<!-- print(stonks) -->"
   ]
  },
  {
   "cell_type": "code",
   "execution_count": 124,
   "id": "4c866402",
   "metadata": {},
   "outputs": [],
   "source": [
    "# testing = []\n",
    "# def run(condition):\n",
    "#     while datetime.datetime.now().strftime('%y-%m-%d %H:%M:%S')[13:14] not in {0,5}:\n",
    "#         time.sleep(1)\n",
    "#         for i in stonks:\n",
    "#             price, change, volume = real_time_price(i)\n",
    "#             for j in real_time_price(i):\n",
    "#                 testing.append(j)\n",
    "#                 trial = list(map(list,zip(*([iter(testing)]*3))))\n",
    "#                 for k in trial:\n",
    "#                     k.append(datetime.datetime.now().strftime('%y-%m-%d %H:%M:%S'))\n",
    "#         #         change the number if more parameters added\n",
    "#         df = pd.DataFrame(trial, columns=['Price','Change','Volume','Time'])\n",
    "#         df = df[['Time','Price','Change','Volume']]\n",
    "#         df = df.set_index('Time')\n",
    "#         df.to_csv(str(time_stamp[0:9]) + 'cryptodata.csv',mode='a', header=False)\n",
    "#         print(df)\n",
    "    \n",
    "#     while condition == True:\n",
    "#         sleep(60*15)\n",
    "#         for i in stonks:\n",
    "#             price, change, volume = real_time_price(i)\n",
    "#             for j in real_time_price(i):\n",
    "#                 testing.append(j)\n",
    "#                 trial = list(map(list,zip(*([iter(testing)]*3))))\n",
    "#                 for k in trial:\n",
    "#                     k.append(time_stamp)\n",
    "#         #         change the number if more parameters added\n",
    "#         df = pd.DataFrame(trial, columns=['Price','Change','Volume','Time'])\n",
    "#         df = df[['Time','Price','Change','Volume']]\n",
    "#         df = df.set_index('Time')\n",
    "#         df.to_csv(str(time_stamp[0:9]) + 'cryptodata.csv',mode='a', header=False)\n",
    "#         print(df)\n",
    "        "
   ]
  },
  {
   "cell_type": "code",
   "execution_count": 157,
   "id": "bdf87aa2",
   "metadata": {},
   "outputs": [
    {
     "ename": "InvalidSessionIdException",
     "evalue": "Message: Tried to run command without establishing a connection\n",
     "output_type": "error",
     "traceback": [
      "\u001b[1;31m---------------------------------------------------------------------------\u001b[0m",
      "\u001b[1;31mInvalidSessionIdException\u001b[0m                 Traceback (most recent call last)",
      "Input \u001b[1;32mIn [157]\u001b[0m, in \u001b[0;36m<cell line: 1>\u001b[1;34m()\u001b[0m\n\u001b[0;32m      4\u001b[0m testing \u001b[38;5;241m=\u001b[39m []\n\u001b[0;32m      5\u001b[0m \u001b[38;5;28;01mfor\u001b[39;00m i \u001b[38;5;129;01min\u001b[39;00m stonks:\n\u001b[1;32m----> 6\u001b[0m     price, change, volume \u001b[38;5;241m=\u001b[39m \u001b[43mreal_time_price\u001b[49m\u001b[43m(\u001b[49m\u001b[43mi\u001b[49m\u001b[43m)\u001b[49m\n\u001b[0;32m      7\u001b[0m     \u001b[38;5;28;01mfor\u001b[39;00m j \u001b[38;5;129;01min\u001b[39;00m real_time_price(i):\n\u001b[0;32m      8\u001b[0m         testing\u001b[38;5;241m.\u001b[39mappend(j)\n",
      "Input \u001b[1;32mIn [133]\u001b[0m, in \u001b[0;36mreal_time_price\u001b[1;34m(stock_code)\u001b[0m\n\u001b[0;32m      1\u001b[0m \u001b[38;5;28;01mdef\u001b[39;00m \u001b[38;5;21mreal_time_price\u001b[39m(stock_code):\n\u001b[0;32m      2\u001b[0m     url  \u001b[38;5;241m=\u001b[39m \u001b[38;5;124m'\u001b[39m\u001b[38;5;124mhttps://finance.yahoo.com/quote/\u001b[39m\u001b[38;5;124m'\u001b[39m\u001b[38;5;241m+\u001b[39mstock_code\u001b[38;5;241m+\u001b[39m\u001b[38;5;124m'\u001b[39m\u001b[38;5;124m?p=\u001b[39m\u001b[38;5;124m'\u001b[39m\u001b[38;5;241m+\u001b[39mstock_code\u001b[38;5;241m+\u001b[39m\u001b[38;5;124m'\u001b[39m\u001b[38;5;124m&.tsrc=fin-srch\u001b[39m\u001b[38;5;124m'\u001b[39m\n\u001b[1;32m----> 3\u001b[0m     \u001b[43mdriver\u001b[49m\u001b[38;5;241;43m.\u001b[39;49m\u001b[43mget\u001b[49m\u001b[43m(\u001b[49m\u001b[43murl\u001b[49m\u001b[43m)\u001b[49m\n\u001b[0;32m      4\u001b[0m     \u001b[38;5;66;03m########## PRICE AND CHANGES ###########\u001b[39;00m\n\u001b[0;32m      5\u001b[0m     xpath \u001b[38;5;241m=\u001b[39m \u001b[38;5;124m'\u001b[39m\u001b[38;5;124m//*[@id=\u001b[39m\u001b[38;5;124m\"\u001b[39m\u001b[38;5;124mquote-header-info\u001b[39m\u001b[38;5;124m\"\u001b[39m\u001b[38;5;124m]/div[3]/div[1]/div[1]\u001b[39m\u001b[38;5;124m'\u001b[39m\n",
      "File \u001b[1;32m~\\anaconda3\\envs\\mytfenv\\lib\\site-packages\\selenium\\webdriver\\remote\\webdriver.py:437\u001b[0m, in \u001b[0;36mWebDriver.get\u001b[1;34m(self, url)\u001b[0m\n\u001b[0;32m    433\u001b[0m \u001b[38;5;28;01mdef\u001b[39;00m \u001b[38;5;21mget\u001b[39m(\u001b[38;5;28mself\u001b[39m, url: \u001b[38;5;28mstr\u001b[39m) \u001b[38;5;241m-\u001b[39m\u001b[38;5;241m>\u001b[39m \u001b[38;5;28;01mNone\u001b[39;00m:\n\u001b[0;32m    434\u001b[0m     \u001b[38;5;124;03m\"\"\"\u001b[39;00m\n\u001b[0;32m    435\u001b[0m \u001b[38;5;124;03m    Loads a web page in the current browser session.\u001b[39;00m\n\u001b[0;32m    436\u001b[0m \u001b[38;5;124;03m    \"\"\"\u001b[39;00m\n\u001b[1;32m--> 437\u001b[0m     \u001b[38;5;28;43mself\u001b[39;49m\u001b[38;5;241;43m.\u001b[39;49m\u001b[43mexecute\u001b[49m\u001b[43m(\u001b[49m\u001b[43mCommand\u001b[49m\u001b[38;5;241;43m.\u001b[39;49m\u001b[43mGET\u001b[49m\u001b[43m,\u001b[49m\u001b[43m \u001b[49m\u001b[43m{\u001b[49m\u001b[38;5;124;43m'\u001b[39;49m\u001b[38;5;124;43murl\u001b[39;49m\u001b[38;5;124;43m'\u001b[39;49m\u001b[43m:\u001b[49m\u001b[43m \u001b[49m\u001b[43murl\u001b[49m\u001b[43m}\u001b[49m\u001b[43m)\u001b[49m\n",
      "File \u001b[1;32m~\\anaconda3\\envs\\mytfenv\\lib\\site-packages\\selenium\\webdriver\\remote\\webdriver.py:425\u001b[0m, in \u001b[0;36mWebDriver.execute\u001b[1;34m(self, driver_command, params)\u001b[0m\n\u001b[0;32m    423\u001b[0m response \u001b[38;5;241m=\u001b[39m \u001b[38;5;28mself\u001b[39m\u001b[38;5;241m.\u001b[39mcommand_executor\u001b[38;5;241m.\u001b[39mexecute(driver_command, params)\n\u001b[0;32m    424\u001b[0m \u001b[38;5;28;01mif\u001b[39;00m response:\n\u001b[1;32m--> 425\u001b[0m     \u001b[38;5;28;43mself\u001b[39;49m\u001b[38;5;241;43m.\u001b[39;49m\u001b[43merror_handler\u001b[49m\u001b[38;5;241;43m.\u001b[39;49m\u001b[43mcheck_response\u001b[49m\u001b[43m(\u001b[49m\u001b[43mresponse\u001b[49m\u001b[43m)\u001b[49m\n\u001b[0;32m    426\u001b[0m     response[\u001b[38;5;124m'\u001b[39m\u001b[38;5;124mvalue\u001b[39m\u001b[38;5;124m'\u001b[39m] \u001b[38;5;241m=\u001b[39m \u001b[38;5;28mself\u001b[39m\u001b[38;5;241m.\u001b[39m_unwrap_value(\n\u001b[0;32m    427\u001b[0m         response\u001b[38;5;241m.\u001b[39mget(\u001b[38;5;124m'\u001b[39m\u001b[38;5;124mvalue\u001b[39m\u001b[38;5;124m'\u001b[39m, \u001b[38;5;28;01mNone\u001b[39;00m))\n\u001b[0;32m    428\u001b[0m     \u001b[38;5;28;01mreturn\u001b[39;00m response\n",
      "File \u001b[1;32m~\\anaconda3\\envs\\mytfenv\\lib\\site-packages\\selenium\\webdriver\\remote\\errorhandler.py:247\u001b[0m, in \u001b[0;36mErrorHandler.check_response\u001b[1;34m(self, response)\u001b[0m\n\u001b[0;32m    245\u001b[0m         alert_text \u001b[38;5;241m=\u001b[39m value[\u001b[38;5;124m'\u001b[39m\u001b[38;5;124malert\u001b[39m\u001b[38;5;124m'\u001b[39m]\u001b[38;5;241m.\u001b[39mget(\u001b[38;5;124m'\u001b[39m\u001b[38;5;124mtext\u001b[39m\u001b[38;5;124m'\u001b[39m)\n\u001b[0;32m    246\u001b[0m     \u001b[38;5;28;01mraise\u001b[39;00m exception_class(message, screen, stacktrace, alert_text)  \u001b[38;5;66;03m# type: ignore[call-arg]  # mypy is not smart enough here\u001b[39;00m\n\u001b[1;32m--> 247\u001b[0m \u001b[38;5;28;01mraise\u001b[39;00m exception_class(message, screen, stacktrace)\n",
      "\u001b[1;31mInvalidSessionIdException\u001b[0m: Message: Tried to run command without establishing a connection\n"
     ]
    }
   ],
   "source": [
    "while True:\n",
    "    time_stamp = datetime.datetime.now()\n",
    "    time_stamp = time_stamp.strftime('%y-%m-%d %H:%M:%S')\n",
    "    testing = []\n",
    "    for i in stonks:\n",
    "        price, change, volume = real_time_price(i)\n",
    "        for j in real_time_price(i):\n",
    "            testing.append(j)\n",
    "            trial = list(map(list,zip(*([iter(testing)]*3))))\n",
    "            for k in trial:\n",
    "                k.append(time_stamp)\n",
    "    #         change the number if more parameters added\n",
    "    df = pd.DataFrame(trial, columns=['Price','Change','Volume','Time'])\n",
    "    df = df[['Time','Price','Change','Volume']]\n",
    "    df = df.set_index('Time')\n",
    "    df.to_csv(str(time_stamp[0:9]) + 'cryptodata.csv',mode='a', header=False)\n",
    "    print(df)\n",
    "    time.sleep(50)\n",
    "    driver.close()\n",
    "    driver = webdriver.Firefox(service=s)\n",
    "# df\n",
    "# testing\n",
    "# list(map(list,zip(*([iter(testing)]*3))))\n",
    "# print(trial)"
   ]
  },
  {
   "cell_type": "code",
   "execution_count": null,
   "id": "eb61d882",
   "metadata": {},
   "outputs": [],
   "source": [
    "# info = []\n",
    "# time_stamp = datetime.datetime.now()\n",
    "# time_stamp = time_stamp.strftime('%Y-%m-%d %H:%M:%S')\n",
    "    \n",
    "# for i in stonks:\n",
    "#     price, change, volume = real_time_price(i)\n",
    "#     info.append(price)\n",
    "#     info.extend([change])\n",
    "#     info.extend([volume])\n",
    "#     col = [time_stamp]\n",
    "#     col.extend(info)\n",
    "#     df = pd.DataFrame(col)\n",
    "#     df = df.T\n",
    "#     df = df.rename(columns = {0:'time',1:'price',2:'change',3:'volume'})\n",
    "#     with pd.ExcelWriter(str(time_stamp[0:11]) + 'crypto_data.xlsx') as writer:\n",
    "#         for i in stonks:\n",
    "#             i.to_excel(writer, sheet_name=i, index=False)\n",
    "#     output_path =  str(time_stamp[0:11]) + 'crypto_data.xlsx'\n",
    "#     xlwriter = pd.ExcelWriter(output_path)\n",
    "#     for i in df.columns:\n",
    "#         df = df.to_excel(xlwriter, sheet_name={i},startrow=1,\n",
    "#                          startcol=1, header=False, index=False)\n",
    "#     print(df.head(5))\n",
    "#     xlwriter.save()\n",
    "#     print(col)\n",
    "# driver.close()"
   ]
  },
  {
   "cell_type": "code",
   "execution_count": null,
   "id": "29215ecc",
   "metadata": {},
   "outputs": [],
   "source": [
    "# while (True):\n",
    "#     info = []\n",
    "#     time_stamp = datetime.datetime.now()\n",
    "#     time_stamp = time_stamp.strftime('%Y-%m-%d %H:%M:%S')\n",
    "    \n",
    "#     for stock_code in stonks:\n",
    "#         price, change, volume = real_time_price(stock_code)\n",
    "#         info.append(price)\n",
    "#         info.extend([change])\n",
    "#         info.extend([volume])\n",
    "#         col = [time_stamp]\n",
    "#         col.extend(info)\n",
    "#         df = pd.DataFrame(col)\n",
    "#         df = df.T\n",
    "#         df = df.rename(columns = {0:'time',1:'price',2:'change',3:'volume'})\n",
    "#         output_path =  str(time_stamp[0:11]) + 'crypto_data.xlsx'\n",
    "#         xlwriter = pd.ExcelWriter(output_path)\n",
    "#         print(df.head(5))\n",
    "# #         for i in df.columns:\n",
    "# #             df.to_excel(xlwriter, header=False, sheet_name)\n",
    "# #     print(col)\n",
    "#     driver.close()"
   ]
  }
 ],
 "metadata": {
  "kernelspec": {
   "display_name": "Python 3 (ipykernel)",
   "language": "python",
   "name": "python3"
  },
  "language_info": {
   "codemirror_mode": {
    "name": "ipython",
    "version": 3
   },
   "file_extension": ".py",
   "mimetype": "text/x-python",
   "name": "python",
   "nbconvert_exporter": "python",
   "pygments_lexer": "ipython3",
   "version": "3.10.4"
  }
 },
 "nbformat": 4,
 "nbformat_minor": 5
}
