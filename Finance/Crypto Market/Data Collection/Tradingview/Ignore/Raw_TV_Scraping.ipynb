{
 "cells": [
  {
   "cell_type": "code",
   "execution_count": 40,
   "id": "5c8d40da",
   "metadata": {},
   "outputs": [
    {
     "data": {
      "text/plain": [
       "'C:\\\\Users\\\\antho\\\\OneDrive\\\\Documents\\\\ML_Book\\\\Cryptocurrency\\\\Crypto_Trading_Bot\\\\Kucoin\\\\Tradingview'"
      ]
     },
     "execution_count": 40,
     "metadata": {},
     "output_type": "execute_result"
    }
   ],
   "source": [
    "pwd"
   ]
  },
  {
   "cell_type": "code",
   "execution_count": 1,
   "id": "0f1c9362",
   "metadata": {},
   "outputs": [],
   "source": [
    "# pip install chromedriver-py==101.0.4951.41"
   ]
  },
  {
   "cell_type": "code",
   "execution_count": 2,
   "id": "779ac4d3",
   "metadata": {},
   "outputs": [],
   "source": [
    "# pip install selenium webdriver_manager"
   ]
  },
  {
   "cell_type": "code",
   "execution_count": 3,
   "id": "3a495211",
   "metadata": {},
   "outputs": [],
   "source": [
    "# pip install chromedriver_binary"
   ]
  },
  {
   "cell_type": "code",
   "execution_count": 4,
   "id": "73fde8d4",
   "metadata": {},
   "outputs": [],
   "source": [
    "import os\n",
    "import time\n",
    "import selenium.webdriver as webdriver\n",
    "import chromedriver_binary\n",
    "from selenium.webdriver.support.ui import WebDriverWait, Select\n",
    "from selenium.webdriver.support import expected_conditions as EC\n",
    "from selenium.webdriver.chrome.options import Options\n",
    "from selenium.webdriver.firefox.options import Options\n",
    "from selenium.webdriver.chrome.service import Service\n",
    "from selenium.webdriver.common.by import By\n",
    "from selenium.webdriver.common.action_chains import ActionChains\n",
    "from selenium.webdriver.common.keys import Keys\n",
    "from selenium.common.exceptions import TimeoutException, NoSuchElementException, ElementNotInteractableException\n",
    "from webdriver_manager.chrome import ChromeDriverManager\n",
    "from bs4 import BeautifulSoup\n",
    "import pandas as pd"
   ]
  },
  {
   "cell_type": "code",
   "execution_count": 5,
   "id": "2c0407e9",
   "metadata": {},
   "outputs": [],
   "source": [
    "# urls = ['https://www.tradingview.com/markets/cryptocurrencies/prices-all/'\n",
    "#         ,'https://www.tradingview.com/markets/cryptocurrencies/prices-defi/'\n",
    "#        ,'https://www.tradingview.com/markets/cryptocurrencies/prices-gainers/'\n",
    "#        ,'https://www.tradingview.com/markets/cryptocurrencies/prices-losers/']"
   ]
  },
  {
   "cell_type": "code",
   "execution_count": 51,
   "id": "ffeba1a2",
   "metadata": {},
   "outputs": [],
   "source": [
    "url = 'https://www.tradingview.com/markets/cryptocurrencies/prices-all/'"
   ]
  },
  {
   "cell_type": "code",
   "execution_count": 7,
   "id": "6481095b",
   "metadata": {},
   "outputs": [],
   "source": [
    "# Chrome Users... failed due to common error from span not being clickable\n",
    "# driver = webdriver.Chrome(service=Service(ChromeDriverManager('101.0.4951.41').install()))\n",
    "# driver.implicitly_wait(7)\n",
    "# PATH = 'C:\\Program Files (x86)\\Google'\n",
    "# Put that chrome driver in the folder above ^^^\n",
    "# driver.get(url)"
   ]
  },
  {
   "cell_type": "code",
   "execution_count": 52,
   "id": "23d35a30",
   "metadata": {},
   "outputs": [
    {
     "name": "stderr",
     "output_type": "stream",
     "text": [
      "C:\\Users\\antho\\AppData\\Local\\Temp\\ipykernel_17844\\4228080658.py:6: DeprecationWarning: executable_path has been deprecated, please pass in a Service object\n",
      "  driver = webdriver.Firefox(executable_path=r'C:\\Program Files\\Mozilla Firefox\\geckodriver.exe')\n"
     ]
    }
   ],
   "source": [
    "# # Mozilla Users\n",
    "user_agent = 'Mozilla/5.0 (Windows NT 10.0; Win64; x64; rv:100.0) Gecko/20100101 Firefox/100.0'\n",
    "PATH = 'C:\\Program Files\\Mozilla Firefox'\n",
    "# Again, put the driver up there ^^^\n",
    "# https://learndataanalysis.org/download-browser-drivers-selenium-with-python/\n",
    "driver = webdriver.Firefox(executable_path=r'C:\\Program Files\\Mozilla Firefox\\geckodriver.exe')\n",
    "driver.implicitly_wait(7)\n",
    "driver.get(url)"
   ]
  },
  {
   "cell_type": "code",
   "execution_count": 17,
   "id": "d50967d1",
   "metadata": {},
   "outputs": [
    {
     "name": "stderr",
     "output_type": "stream",
     "text": [
      "C:\\Users\\antho\\AppData\\Local\\Temp\\ipykernel_17844\\686409614.py:2: DeprecationWarning: find_element_by_xpath is deprecated. Please use find_element(by=By.XPATH, value=xpath) instead\n",
      "  active_currency = driver.find_element_by_xpath('//span[contains(@class,\"modeTitleActive-bJ0BPoV3\")]')\n"
     ]
    }
   ],
   "source": [
    "currency = 'USD'\n",
    "# active_currency = driver.find_element_by_xpath('//span[contains(@class,\"modeTitleActive-bJ0BPoV3\")]')\n",
    "active_currency = driver.find_element(by=By.XPATH,\n",
    "                                      value='//span[contains(@class,\"modeTitleActive-bJ0BPoV3\")]')\n",
    "if active_currency.text == currency:\n",
    "    pass\n",
    "else:\n",
    "    driver.find_element_by_xpath('//input[@type=\"checkbox\"]').click()"
   ]
  },
  {
   "cell_type": "code",
   "execution_count": 10,
   "id": "1b600271",
   "metadata": {},
   "outputs": [],
   "source": [
    "# pip install openpyxl"
   ]
  },
  {
   "cell_type": "code",
   "execution_count": 42,
   "id": "7b486204",
   "metadata": {},
   "outputs": [],
   "source": [
    "output_path = 'TV_Crypto_Prices.xlsx'"
   ]
  },
  {
   "cell_type": "code",
   "execution_count": 43,
   "id": "9244fb67",
   "metadata": {},
   "outputs": [],
   "source": [
    "xlwriter = pd.ExcelWriter(output_path)\n",
    "\n",
    "# categories = driver.find_elements_by_xpath('//div[starts-with(@class,\"item-1EEezFCx\")]')\n",
    "categories = driver.find_elements(by=By.XPATH, value='//div[starts-with(@class,\"item-1EEezFCx\")]')\n",
    "for category in categories:\n",
    "    try:\n",
    "#         driver.find_element_by_xpath(f'//div[text()=\"{category.text}\"]').click()\n",
    "        driver.find_element(by=By.XPATH, value=f'//div[text()=\"{category.text}\"]').click()\n",
    "        time.sleep(2)\n",
    "    except ElementNotInteractableException:\n",
    "        pass\n",
    "    load_more = True\n",
    "    while load_more:\n",
    "        try:\n",
    "            driver.find_element(by=By.CLASS_NAME, value=\"tv-load-more__btn\").click()\n",
    "            time.sleep(1)\n",
    "        except ElementNotInteractableException:\n",
    "            load_more=False\n",
    "    df = pd.read_html(driver.page_source)[0]\n",
    "    df.to_excel(xlwriter, sheet_name=category.text, index=False)\n",
    "xlwriter.save()\n",
    "driver.close()"
   ]
  },
  {
   "cell_type": "code",
   "execution_count": 47,
   "id": "baa9e67d",
   "metadata": {},
   "outputs": [],
   "source": [
    "user_agent = 'Mozilla/5.0 (Windows NT 10.0; Win64; x64; rv:100.0) Gecko/20100101 Firefox/100.0'\n",
    "PATH = 'C:\\Program Files\\Mozilla Firefox'\n"
   ]
  },
  {
   "cell_type": "code",
   "execution_count": 48,
   "id": "a4474ad6",
   "metadata": {},
   "outputs": [],
   "source": [
    "url = 'https://www.tradingview.com/markets/cryptocurrencies/prices-all/'\n",
    "def main(currency):\n",
    "    driver = webdriver.Firefox(executable_path=r'C:\\Program Files\\Mozilla Firefox\\geckodriver.exe')\n",
    "    driver.implicitly_wait(7)\n",
    "    driver.get(url)\n",
    "\n",
    "    active_currency = driver.find_element(by=By.XPATH,\n",
    "                                          value='//span[contains(@class,\"modeTitleActive-bJ0BPoV3\")]')\n",
    "    if active_currency.text == currency:\n",
    "        pass\n",
    "    else:\n",
    "        driver.find_element_by_xpath('//input[@type=\"checkbox\"]').click()\n",
    "\n",
    "    output_path = 'TV_Crypto_Prices.xlsx'\n",
    "    xlwriter = pd.ExcelWriter(output_path)\n",
    "    # categories = driver.find_elements_by_xpath('//div[starts-with(@class,\"item-1EEezFCx\")]')\n",
    "    categories = driver.find_elements(by=By.XPATH, value='//div[starts-with(@class,\"item-1EEezFCx\")]')\n",
    "    for category in categories:\n",
    "        try:\n",
    "    #         driver.find_element_by_xpath(f'//div[text()=\"{category.text}\"]').click()\n",
    "            driver.find_element(by=By.XPATH, value=f'//div[text()=\"{category.text}\"]').click()\n",
    "            time.sleep(2)\n",
    "        except ElementNotInteractableException:\n",
    "            pass\n",
    "        load_more = True\n",
    "        while load_more:\n",
    "            try:\n",
    "                driver.find_element(by=By.CLASS_NAME, value=\"tv-load-more__btn\").click()\n",
    "                time.sleep(1)\n",
    "            except ElementNotInteractableException:\n",
    "                load_more=False\n",
    "        df = pd.read_html(driver.page_source)[0]\n",
    "        df.to_excel(xlwriter, sheet_name=category.text, index=False)\n",
    "    xlwriter.save()\n",
    "    driver.close()"
   ]
  },
  {
   "cell_type": "code",
   "execution_count": 49,
   "id": "a01e1c35",
   "metadata": {},
   "outputs": [
    {
     "name": "stderr",
     "output_type": "stream",
     "text": [
      "C:\\Users\\antho\\AppData\\Local\\Temp\\ipykernel_17844\\3651037854.py:3: DeprecationWarning: executable_path has been deprecated, please pass in a Service object\n",
      "  driver = webdriver.Firefox(executable_path=r'C:\\Program Files\\Mozilla Firefox\\geckodriver.exe')\n",
      "C:\\Users\\antho\\AppData\\Local\\Temp\\ipykernel_17844\\3651037854.py:12: DeprecationWarning: find_element_by_xpath is deprecated. Please use find_element(by=By.XPATH, value=xpath) instead\n",
      "  driver.find_element_by_xpath('//input[@type=\"checkbox\"]').click()\n"
     ]
    }
   ],
   "source": [
    "if __name__ == '__main__':\n",
    "    currency = 'BTC'\n",
    "    main(currency)"
   ]
  },
  {
   "cell_type": "code",
   "execution_count": 50,
   "id": "194de375",
   "metadata": {},
   "outputs": [
    {
     "data": {
      "text/html": [
       "<div>\n",
       "<style scoped>\n",
       "    .dataframe tbody tr th:only-of-type {\n",
       "        vertical-align: middle;\n",
       "    }\n",
       "\n",
       "    .dataframe tbody tr th {\n",
       "        vertical-align: top;\n",
       "    }\n",
       "\n",
       "    .dataframe thead th {\n",
       "        text-align: right;\n",
       "    }\n",
       "</style>\n",
       "<table border=\"1\" class=\"dataframe\">\n",
       "  <thead>\n",
       "    <tr style=\"text-align: right;\">\n",
       "      <th></th>\n",
       "      <th>Name809 matches</th>\n",
       "      <th>Moving Averages Rating</th>\n",
       "      <th>Last</th>\n",
       "      <th>SMA20</th>\n",
       "      <th>SMA50</th>\n",
       "      <th>SMA200</th>\n",
       "      <th>BB Up</th>\n",
       "      <th>BB Low</th>\n",
       "    </tr>\n",
       "  </thead>\n",
       "  <tbody>\n",
       "  </tbody>\n",
       "</table>\n",
       "</div>"
      ],
      "text/plain": [
       "Empty DataFrame\n",
       "Columns: [Name809 matches, Moving Averages Rating, Last, SMA20, SMA50, SMA200, BB Up, BB Low]\n",
       "Index: []"
      ]
     },
     "execution_count": 50,
     "metadata": {},
     "output_type": "execute_result"
    }
   ],
   "source": [
    "df.head(5)"
   ]
  }
 ],
 "metadata": {
  "kernelspec": {
   "display_name": "Python 3 (ipykernel)",
   "language": "python",
   "name": "python3"
  },
  "language_info": {
   "codemirror_mode": {
    "name": "ipython",
    "version": 3
   },
   "file_extension": ".py",
   "mimetype": "text/x-python",
   "name": "python",
   "nbconvert_exporter": "python",
   "pygments_lexer": "ipython3",
   "version": "3.10.4"
  }
 },
 "nbformat": 4,
 "nbformat_minor": 5
}
