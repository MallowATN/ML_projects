{
 "cells": [
  {
   "cell_type": "code",
   "execution_count": 1,
   "id": "01b9c544",
   "metadata": {},
   "outputs": [],
   "source": [
    "import os\n",
    "import time\n",
    "import selenium.webdriver as webdriver\n",
    "import chromedriver_binary\n",
    "from selenium.webdriver.support.ui import WebDriverWait, Select\n",
    "from selenium.webdriver.support import expected_conditions as EC\n",
    "from selenium.webdriver.chrome.options import Options\n",
    "from selenium.webdriver.firefox.options import Options\n",
    "# from selenium.webdriver.chrome.service import Service\n",
    "from selenium.webdriver.common.by import By\n",
    "from selenium.webdriver.common.action_chains import ActionChains\n",
    "from selenium.webdriver.common.keys import Keys\n",
    "from selenium.common.exceptions import TimeoutException, NoSuchElementException, ElementNotInteractableException\n",
    "from webdriver_manager.chrome import ChromeDriverManager\n",
    "# from bs4 import BeautifulSoup\n",
    "import pandas as pd"
   ]
  },
  {
   "cell_type": "code",
   "execution_count": 2,
   "id": "dbb60f43",
   "metadata": {},
   "outputs": [],
   "source": [
    "url = 'https://www.tradingview.com/markets/cryptocurrencies/prices-all/'\n",
    "def main(currency):\n",
    "    driver = webdriver.Firefox(executable_path=r'C:\\Program Files\\Mozilla Firefox\\geckodriver.exe')\n",
    "    driver.implicitly_wait(7)\n",
    "    driver.get(url)\n",
    "\n",
    "    active_currency = driver.find_element(by=By.XPATH,\n",
    "                                          value='//span[contains(@class,\"modeTitleActive-bJ0BPoV3\")]')\n",
    "    if active_currency.text == currency:\n",
    "        pass\n",
    "    else:\n",
    "#         driver.find_element_by_xpath('//input[@type=\"checkbox\"]').click()\n",
    "        driver.find_element(by=By.XPATH, value='//input[@type=\"checkbox\"]').click()\n",
    "\n",
    "    output_path = 'TV_Crypto_Prices.xlsx'\n",
    "    xlwriter = pd.ExcelWriter(output_path)\n",
    "    # categories = driver.find_elements_by_xpath('//div[starts-with(@class,\"item-1EEezFCx\")]')\n",
    "    categories = driver.find_elements(by=By.XPATH, value='//div[starts-with(@class,\"item-1EEezFCx\")]')\n",
    "    for category in categories:\n",
    "        try:\n",
    "    #         driver.find_element_by_xpath(f'//div[text()=\"{category.text}\"]').click()\n",
    "            driver.find_element(by=By.XPATH, value=f'//div[text()=\"{category.text}\"]').click()\n",
    "            time.sleep(2)\n",
    "        except ElementNotInteractableException:\n",
    "            pass\n",
    "        load_more = True\n",
    "        while load_more:\n",
    "            try:\n",
    "                driver.find_element(by=By.CLASS_NAME, value=\"tv-load-more__btn\").click()\n",
    "                time.sleep(1)\n",
    "            except ElementNotInteractableException:\n",
    "                load_more=False\n",
    "        df = pd.read_html(driver.page_source)[1]\n",
    "        df.to_excel(xlwriter, sheet_name=category.text, index=False)\n",
    "    xlwriter.save()\n",
    "    driver.close()"
   ]
  },
  {
   "cell_type": "code",
   "execution_count": 4,
   "id": "bb313725",
   "metadata": {},
   "outputs": [
    {
     "name": "stderr",
     "output_type": "stream",
     "text": [
      "C:\\Users\\antho\\AppData\\Local\\Temp\\ipykernel_8924\\3835120209.py:3: DeprecationWarning: executable_path has been deprecated, please pass in a Service object\n",
      "  driver = webdriver.Firefox(executable_path=r'C:\\Program Files\\Mozilla Firefox\\geckodriver.exe')\n"
     ]
    }
   ],
   "source": [
    "if __name__ == '__main__':\n",
    "    currency = 'USD'\n",
    "    main(currency)"
   ]
  }
 ],
 "metadata": {
  "kernelspec": {
   "display_name": "Python 3 (ipykernel)",
   "language": "python",
   "name": "python3"
  },
  "language_info": {
   "codemirror_mode": {
    "name": "ipython",
    "version": 3
   },
   "file_extension": ".py",
   "mimetype": "text/x-python",
   "name": "python",
   "nbconvert_exporter": "python",
   "pygments_lexer": "ipython3",
   "version": "3.10.4"
  }
 },
 "nbformat": 4,
 "nbformat_minor": 5
}
