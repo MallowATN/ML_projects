{
 "cells": [
  {
   "cell_type": "code",
   "execution_count": 18,
   "id": "ab54d1e6",
   "metadata": {},
   "outputs": [],
   "source": [
    "from tqdm import tqdm\n",
    "import pandas as pd\n",
    "from binance.client import Client\n",
    "\n",
    "import numpy as np"
   ]
  },
  {
   "cell_type": "code",
   "execution_count": 2,
   "id": "0224a08e",
   "metadata": {},
   "outputs": [],
   "source": [
    "client = Client()"
   ]
  },
  {
   "cell_type": "code",
   "execution_count": 3,
   "id": "67846649",
   "metadata": {},
   "outputs": [],
   "source": [
    "coins = ('BTCUSDT','ETHUSDT','BNBUSDT','SOLUSDT','ADAUSDT','XRPUSDT','DOTUSDT','LUNAUSDT',\n",
    "  'DOGEUSDT','AVAXUSDT','SHIBUSDT','MATICUSDT','LTCUSDT','UNIUSDT','ALGOUSDT','TRXUSDT',\n",
    "         'LINKUSDT','MANAUSDT','ATOMUSDT','VETUSDT')"
   ]
  },
  {
   "cell_type": "code",
   "execution_count": 4,
   "id": "cd6dc3d8",
   "metadata": {},
   "outputs": [],
   "source": [
    "def getminutedata(symbol,lookback):\n",
    "    frame = pd.DataFrame(client.get_historical_klines(symbol,\n",
    "                                                      '1m',\n",
    "                                                     lookback + ' days ago UTC'))\n",
    "    frame = frame.iloc[:,:5]\n",
    "    frame.columns = ['Time','Open','High','Low','Close']\n",
    "    frame[['Open','High','Low','Close']] = frame[['Open','High','Low','Close']].astype(float)\n",
    "    frame.Time = pd.to_datetime(frame.Time, unit='ms')\n",
    "    return frame"
   ]
  },
  {
   "cell_type": "code",
   "execution_count": 5,
   "id": "dbf9dd55",
   "metadata": {},
   "outputs": [],
   "source": [
    "# getminutedata('BTCUSDT','1')"
   ]
  },
  {
   "cell_type": "code",
   "execution_count": 6,
   "id": "e88d4939",
   "metadata": {},
   "outputs": [],
   "source": [
    "from sqlalchemy import create_engine"
   ]
  },
  {
   "cell_type": "code",
   "execution_count": 7,
   "id": "2d484857",
   "metadata": {},
   "outputs": [],
   "source": [
    "engine = create_engine('sqlite:///Cryptoprices.db')"
   ]
  },
  {
   "cell_type": "code",
   "execution_count": 9,
   "id": "8fe7c0b0",
   "metadata": {},
   "outputs": [
    {
     "name": "stderr",
     "output_type": "stream",
     "text": [
      "100%|██████████████████████████████████████████████████████████████████████████████████| 20/20 [08:16<00:00, 24.82s/it]\n"
     ]
    }
   ],
   "source": [
    "for coin in tqdm(coins):\n",
    "    getminutedata(coin, '30').to_sql(coin, engine,if_exists='append', index=False)"
   ]
  },
  {
   "cell_type": "code",
   "execution_count": 20,
   "id": "62a22329",
   "metadata": {},
   "outputs": [],
   "source": [
    "test = pd.read_sql('BTCUSDT',engine).set_index('Time')"
   ]
  },
  {
   "cell_type": "code",
   "execution_count": 19,
   "id": "2cdb24ea",
   "metadata": {},
   "outputs": [
    {
     "data": {
      "text/html": [
       "<div>\n",
       "<style scoped>\n",
       "    .dataframe tbody tr th:only-of-type {\n",
       "        vertical-align: middle;\n",
       "    }\n",
       "\n",
       "    .dataframe tbody tr th {\n",
       "        vertical-align: top;\n",
       "    }\n",
       "\n",
       "    .dataframe thead th {\n",
       "        text-align: right;\n",
       "    }\n",
       "</style>\n",
       "<table border=\"1\" class=\"dataframe\">\n",
       "  <thead>\n",
       "    <tr style=\"text-align: right;\">\n",
       "      <th></th>\n",
       "      <th>Open</th>\n",
       "      <th>High</th>\n",
       "      <th>Low</th>\n",
       "      <th>Close</th>\n",
       "    </tr>\n",
       "    <tr>\n",
       "      <th>Time</th>\n",
       "      <th></th>\n",
       "      <th></th>\n",
       "      <th></th>\n",
       "      <th></th>\n",
       "    </tr>\n",
       "  </thead>\n",
       "  <tbody>\n",
       "    <tr>\n",
       "      <th>2022-03-28 00:25:00</th>\n",
       "      <td>46713.19</td>\n",
       "      <td>46761.28</td>\n",
       "      <td>46711.00</td>\n",
       "      <td>46761.27</td>\n",
       "    </tr>\n",
       "    <tr>\n",
       "      <th>2022-03-28 00:26:00</th>\n",
       "      <td>46761.28</td>\n",
       "      <td>46776.23</td>\n",
       "      <td>46761.27</td>\n",
       "      <td>46773.42</td>\n",
       "    </tr>\n",
       "    <tr>\n",
       "      <th>2022-03-28 00:27:00</th>\n",
       "      <td>46773.43</td>\n",
       "      <td>46777.20</td>\n",
       "      <td>46765.78</td>\n",
       "      <td>46777.19</td>\n",
       "    </tr>\n",
       "    <tr>\n",
       "      <th>2022-03-28 00:28:00</th>\n",
       "      <td>46777.19</td>\n",
       "      <td>46798.99</td>\n",
       "      <td>46777.19</td>\n",
       "      <td>46785.26</td>\n",
       "    </tr>\n",
       "    <tr>\n",
       "      <th>2022-03-28 00:29:00</th>\n",
       "      <td>46785.27</td>\n",
       "      <td>46820.33</td>\n",
       "      <td>46785.26</td>\n",
       "      <td>46817.92</td>\n",
       "    </tr>\n",
       "    <tr>\n",
       "      <th>...</th>\n",
       "      <td>...</td>\n",
       "      <td>...</td>\n",
       "      <td>...</td>\n",
       "      <td>...</td>\n",
       "    </tr>\n",
       "    <tr>\n",
       "      <th>2022-04-27 00:55:00</th>\n",
       "      <td>38170.00</td>\n",
       "      <td>38206.16</td>\n",
       "      <td>38166.17</td>\n",
       "      <td>38166.17</td>\n",
       "    </tr>\n",
       "    <tr>\n",
       "      <th>2022-04-27 00:56:00</th>\n",
       "      <td>38166.18</td>\n",
       "      <td>38178.33</td>\n",
       "      <td>38140.00</td>\n",
       "      <td>38146.38</td>\n",
       "    </tr>\n",
       "    <tr>\n",
       "      <th>2022-04-27 00:57:00</th>\n",
       "      <td>38146.38</td>\n",
       "      <td>38184.67</td>\n",
       "      <td>38115.08</td>\n",
       "      <td>38158.47</td>\n",
       "    </tr>\n",
       "    <tr>\n",
       "      <th>2022-04-27 00:58:00</th>\n",
       "      <td>38158.47</td>\n",
       "      <td>38168.47</td>\n",
       "      <td>38130.25</td>\n",
       "      <td>38168.46</td>\n",
       "    </tr>\n",
       "    <tr>\n",
       "      <th>2022-04-27 00:59:00</th>\n",
       "      <td>38168.47</td>\n",
       "      <td>38170.00</td>\n",
       "      <td>38157.86</td>\n",
       "      <td>38168.04</td>\n",
       "    </tr>\n",
       "  </tbody>\n",
       "</table>\n",
       "<p>86401 rows × 4 columns</p>\n",
       "</div>"
      ],
      "text/plain": [
       "                         Open      High       Low     Close\n",
       "Time                                                       \n",
       "2022-03-28 00:25:00  46713.19  46761.28  46711.00  46761.27\n",
       "2022-03-28 00:26:00  46761.28  46776.23  46761.27  46773.42\n",
       "2022-03-28 00:27:00  46773.43  46777.20  46765.78  46777.19\n",
       "2022-03-28 00:28:00  46777.19  46798.99  46777.19  46785.26\n",
       "2022-03-28 00:29:00  46785.27  46820.33  46785.26  46817.92\n",
       "...                       ...       ...       ...       ...\n",
       "2022-04-27 00:55:00  38170.00  38206.16  38166.17  38166.17\n",
       "2022-04-27 00:56:00  38166.18  38178.33  38140.00  38146.38\n",
       "2022-04-27 00:57:00  38146.38  38184.67  38115.08  38158.47\n",
       "2022-04-27 00:58:00  38158.47  38168.47  38130.25  38168.46\n",
       "2022-04-27 00:59:00  38168.47  38170.00  38157.86  38168.04\n",
       "\n",
       "[86401 rows x 4 columns]"
      ]
     },
     "execution_count": 19,
     "metadata": {},
     "output_type": "execute_result"
    }
   ],
   "source": [
    "# test"
   ]
  },
  {
   "cell_type": "code",
   "execution_count": 45,
   "id": "195c43e3",
   "metadata": {},
   "outputs": [],
   "source": [
    "def technicals(df):\n",
    "    df = df.copy()\n",
    "    df = df.resample('15min').ffill()\n",
    "    df.dropna(inplace=True)\n",
    "    df['return'] = np.log(df.Close.pct_change()+1)\n",
    "    df['SMA_fast'] = df.Close.rolling(7).mean()\n",
    "    df['SMA_slow'] = df.Close.rolling(25).mean()\n",
    "    df['position'] = np.where(df['SMA_fast'] > df['SMA_slow'], 1,0)\n",
    "    df['strategyreturn'] = df['position'].shift(1) * df['return']\n",
    "    df.dropna(inplace=True)\n",
    "    return df"
   ]
  },
  {
   "cell_type": "code",
   "execution_count": 46,
   "id": "d0128ffe",
   "metadata": {},
   "outputs": [
    {
     "ename": "ValueError",
     "evalue": "cannot reindex a non-unique index with a method or limit",
     "output_type": "error",
     "traceback": [
      "\u001b[1;31m---------------------------------------------------------------------------\u001b[0m",
      "\u001b[1;31mValueError\u001b[0m                                Traceback (most recent call last)",
      "Input \u001b[1;32mIn [46]\u001b[0m, in \u001b[0;36m<cell line: 1>\u001b[1;34m()\u001b[0m\n\u001b[1;32m----> 1\u001b[0m \u001b[43mtechnicals\u001b[49m\u001b[43m(\u001b[49m\u001b[43mtest\u001b[49m\u001b[43m)\u001b[49m\n",
      "Input \u001b[1;32mIn [45]\u001b[0m, in \u001b[0;36mtechnicals\u001b[1;34m(df)\u001b[0m\n\u001b[0;32m      1\u001b[0m \u001b[38;5;28;01mdef\u001b[39;00m \u001b[38;5;21mtechnicals\u001b[39m(df):\n\u001b[0;32m      2\u001b[0m     df \u001b[38;5;241m=\u001b[39m df\u001b[38;5;241m.\u001b[39mcopy()\n\u001b[1;32m----> 3\u001b[0m     df \u001b[38;5;241m=\u001b[39m \u001b[43mdf\u001b[49m\u001b[38;5;241;43m.\u001b[39;49m\u001b[43mresample\u001b[49m\u001b[43m(\u001b[49m\u001b[38;5;124;43m'\u001b[39;49m\u001b[38;5;124;43m15min\u001b[39;49m\u001b[38;5;124;43m'\u001b[39;49m\u001b[43m)\u001b[49m\u001b[38;5;241;43m.\u001b[39;49m\u001b[43mffill\u001b[49m\u001b[43m(\u001b[49m\u001b[43m)\u001b[49m\n\u001b[0;32m      4\u001b[0m     df\u001b[38;5;241m.\u001b[39mdropna(inplace\u001b[38;5;241m=\u001b[39m\u001b[38;5;28;01mTrue\u001b[39;00m)\n\u001b[0;32m      5\u001b[0m     df[\u001b[38;5;124m'\u001b[39m\u001b[38;5;124mreturn\u001b[39m\u001b[38;5;124m'\u001b[39m] \u001b[38;5;241m=\u001b[39m np\u001b[38;5;241m.\u001b[39mlog(df\u001b[38;5;241m.\u001b[39mClose\u001b[38;5;241m.\u001b[39mpct_change()\u001b[38;5;241m+\u001b[39m\u001b[38;5;241m1\u001b[39m)\n",
      "File \u001b[1;32m~\\anaconda3\\envs\\mytfenv\\lib\\site-packages\\pandas\\core\\resample.py:532\u001b[0m, in \u001b[0;36mResampler.ffill\u001b[1;34m(self, limit)\u001b[0m\n\u001b[0;32m    514\u001b[0m \u001b[38;5;28;01mdef\u001b[39;00m \u001b[38;5;21mffill\u001b[39m(\u001b[38;5;28mself\u001b[39m, limit\u001b[38;5;241m=\u001b[39m\u001b[38;5;28;01mNone\u001b[39;00m):\n\u001b[0;32m    515\u001b[0m     \u001b[38;5;124;03m\"\"\"\u001b[39;00m\n\u001b[0;32m    516\u001b[0m \u001b[38;5;124;03m    Forward fill the values.\u001b[39;00m\n\u001b[0;32m    517\u001b[0m \n\u001b[1;32m   (...)\u001b[0m\n\u001b[0;32m    530\u001b[0m \u001b[38;5;124;03m    DataFrame.fillna: Fill NA/NaN values using the specified method.\u001b[39;00m\n\u001b[0;32m    531\u001b[0m \u001b[38;5;124;03m    \"\"\"\u001b[39;00m\n\u001b[1;32m--> 532\u001b[0m     \u001b[38;5;28;01mreturn\u001b[39;00m \u001b[38;5;28;43mself\u001b[39;49m\u001b[38;5;241;43m.\u001b[39;49m\u001b[43m_upsample\u001b[49m\u001b[43m(\u001b[49m\u001b[38;5;124;43m\"\u001b[39;49m\u001b[38;5;124;43mffill\u001b[39;49m\u001b[38;5;124;43m\"\u001b[39;49m\u001b[43m,\u001b[49m\u001b[43m \u001b[49m\u001b[43mlimit\u001b[49m\u001b[38;5;241;43m=\u001b[39;49m\u001b[43mlimit\u001b[49m\u001b[43m)\u001b[49m\n",
      "File \u001b[1;32m~\\anaconda3\\envs\\mytfenv\\lib\\site-packages\\pandas\\core\\resample.py:1246\u001b[0m, in \u001b[0;36mDatetimeIndexResampler._upsample\u001b[1;34m(self, method, limit, fill_value)\u001b[0m\n\u001b[0;32m   1244\u001b[0m     result\u001b[38;5;241m.\u001b[39mindex \u001b[38;5;241m=\u001b[39m res_index\n\u001b[0;32m   1245\u001b[0m \u001b[38;5;28;01melse\u001b[39;00m:\n\u001b[1;32m-> 1246\u001b[0m     result \u001b[38;5;241m=\u001b[39m \u001b[43mobj\u001b[49m\u001b[38;5;241;43m.\u001b[39;49m\u001b[43mreindex\u001b[49m\u001b[43m(\u001b[49m\n\u001b[0;32m   1247\u001b[0m \u001b[43m        \u001b[49m\u001b[43mres_index\u001b[49m\u001b[43m,\u001b[49m\u001b[43m \u001b[49m\u001b[43mmethod\u001b[49m\u001b[38;5;241;43m=\u001b[39;49m\u001b[43mmethod\u001b[49m\u001b[43m,\u001b[49m\u001b[43m \u001b[49m\u001b[43mlimit\u001b[49m\u001b[38;5;241;43m=\u001b[39;49m\u001b[43mlimit\u001b[49m\u001b[43m,\u001b[49m\u001b[43m \u001b[49m\u001b[43mfill_value\u001b[49m\u001b[38;5;241;43m=\u001b[39;49m\u001b[43mfill_value\u001b[49m\n\u001b[0;32m   1248\u001b[0m \u001b[43m    \u001b[49m\u001b[43m)\u001b[49m\n\u001b[0;32m   1250\u001b[0m result \u001b[38;5;241m=\u001b[39m \u001b[38;5;28mself\u001b[39m\u001b[38;5;241m.\u001b[39m_apply_loffset(result)\n\u001b[0;32m   1251\u001b[0m \u001b[38;5;28;01mreturn\u001b[39;00m \u001b[38;5;28mself\u001b[39m\u001b[38;5;241m.\u001b[39m_wrap_result(result)\n",
      "File \u001b[1;32m~\\anaconda3\\envs\\mytfenv\\lib\\site-packages\\pandas\\util\\_decorators.py:324\u001b[0m, in \u001b[0;36mrewrite_axis_style_signature.<locals>.decorate.<locals>.wrapper\u001b[1;34m(*args, **kwargs)\u001b[0m\n\u001b[0;32m    322\u001b[0m \u001b[38;5;129m@wraps\u001b[39m(func)\n\u001b[0;32m    323\u001b[0m \u001b[38;5;28;01mdef\u001b[39;00m \u001b[38;5;21mwrapper\u001b[39m(\u001b[38;5;241m*\u001b[39margs, \u001b[38;5;241m*\u001b[39m\u001b[38;5;241m*\u001b[39mkwargs) \u001b[38;5;241m-\u001b[39m\u001b[38;5;241m>\u001b[39m Callable[\u001b[38;5;241m.\u001b[39m\u001b[38;5;241m.\u001b[39m\u001b[38;5;241m.\u001b[39m, Any]:\n\u001b[1;32m--> 324\u001b[0m     \u001b[38;5;28;01mreturn\u001b[39;00m func(\u001b[38;5;241m*\u001b[39margs, \u001b[38;5;241m*\u001b[39m\u001b[38;5;241m*\u001b[39mkwargs)\n",
      "File \u001b[1;32m~\\anaconda3\\envs\\mytfenv\\lib\\site-packages\\pandas\\core\\frame.py:4804\u001b[0m, in \u001b[0;36mDataFrame.reindex\u001b[1;34m(self, *args, **kwargs)\u001b[0m\n\u001b[0;32m   4802\u001b[0m kwargs\u001b[38;5;241m.\u001b[39mpop(\u001b[38;5;124m\"\u001b[39m\u001b[38;5;124maxis\u001b[39m\u001b[38;5;124m\"\u001b[39m, \u001b[38;5;28;01mNone\u001b[39;00m)\n\u001b[0;32m   4803\u001b[0m kwargs\u001b[38;5;241m.\u001b[39mpop(\u001b[38;5;124m\"\u001b[39m\u001b[38;5;124mlabels\u001b[39m\u001b[38;5;124m\"\u001b[39m, \u001b[38;5;28;01mNone\u001b[39;00m)\n\u001b[1;32m-> 4804\u001b[0m \u001b[38;5;28;01mreturn\u001b[39;00m \u001b[38;5;28msuper\u001b[39m()\u001b[38;5;241m.\u001b[39mreindex(\u001b[38;5;241m*\u001b[39m\u001b[38;5;241m*\u001b[39mkwargs)\n",
      "File \u001b[1;32m~\\anaconda3\\envs\\mytfenv\\lib\\site-packages\\pandas\\core\\generic.py:4966\u001b[0m, in \u001b[0;36mNDFrame.reindex\u001b[1;34m(self, *args, **kwargs)\u001b[0m\n\u001b[0;32m   4963\u001b[0m     \u001b[38;5;28;01mreturn\u001b[39;00m \u001b[38;5;28mself\u001b[39m\u001b[38;5;241m.\u001b[39m_reindex_multi(axes, copy, fill_value)\n\u001b[0;32m   4965\u001b[0m \u001b[38;5;66;03m# perform the reindex on the axes\u001b[39;00m\n\u001b[1;32m-> 4966\u001b[0m \u001b[38;5;28;01mreturn\u001b[39;00m \u001b[38;5;28;43mself\u001b[39;49m\u001b[38;5;241;43m.\u001b[39;49m\u001b[43m_reindex_axes\u001b[49m\u001b[43m(\u001b[49m\n\u001b[0;32m   4967\u001b[0m \u001b[43m    \u001b[49m\u001b[43maxes\u001b[49m\u001b[43m,\u001b[49m\u001b[43m \u001b[49m\u001b[43mlevel\u001b[49m\u001b[43m,\u001b[49m\u001b[43m \u001b[49m\u001b[43mlimit\u001b[49m\u001b[43m,\u001b[49m\u001b[43m \u001b[49m\u001b[43mtolerance\u001b[49m\u001b[43m,\u001b[49m\u001b[43m \u001b[49m\u001b[43mmethod\u001b[49m\u001b[43m,\u001b[49m\u001b[43m \u001b[49m\u001b[43mfill_value\u001b[49m\u001b[43m,\u001b[49m\u001b[43m \u001b[49m\u001b[43mcopy\u001b[49m\n\u001b[0;32m   4968\u001b[0m \u001b[43m\u001b[49m\u001b[43m)\u001b[49m\u001b[38;5;241m.\u001b[39m__finalize__(\u001b[38;5;28mself\u001b[39m, method\u001b[38;5;241m=\u001b[39m\u001b[38;5;124m\"\u001b[39m\u001b[38;5;124mreindex\u001b[39m\u001b[38;5;124m\"\u001b[39m)\n",
      "File \u001b[1;32m~\\anaconda3\\envs\\mytfenv\\lib\\site-packages\\pandas\\core\\frame.py:4623\u001b[0m, in \u001b[0;36mDataFrame._reindex_axes\u001b[1;34m(self, axes, level, limit, tolerance, method, fill_value, copy)\u001b[0m\n\u001b[0;32m   4621\u001b[0m index \u001b[38;5;241m=\u001b[39m axes[\u001b[38;5;124m\"\u001b[39m\u001b[38;5;124mindex\u001b[39m\u001b[38;5;124m\"\u001b[39m]\n\u001b[0;32m   4622\u001b[0m \u001b[38;5;28;01mif\u001b[39;00m index \u001b[38;5;129;01mis\u001b[39;00m \u001b[38;5;129;01mnot\u001b[39;00m \u001b[38;5;28;01mNone\u001b[39;00m:\n\u001b[1;32m-> 4623\u001b[0m     frame \u001b[38;5;241m=\u001b[39m \u001b[43mframe\u001b[49m\u001b[38;5;241;43m.\u001b[39;49m\u001b[43m_reindex_index\u001b[49m\u001b[43m(\u001b[49m\n\u001b[0;32m   4624\u001b[0m \u001b[43m        \u001b[49m\u001b[43mindex\u001b[49m\u001b[43m,\u001b[49m\u001b[43m \u001b[49m\u001b[43mmethod\u001b[49m\u001b[43m,\u001b[49m\u001b[43m \u001b[49m\u001b[43mcopy\u001b[49m\u001b[43m,\u001b[49m\u001b[43m \u001b[49m\u001b[43mlevel\u001b[49m\u001b[43m,\u001b[49m\u001b[43m \u001b[49m\u001b[43mfill_value\u001b[49m\u001b[43m,\u001b[49m\u001b[43m \u001b[49m\u001b[43mlimit\u001b[49m\u001b[43m,\u001b[49m\u001b[43m \u001b[49m\u001b[43mtolerance\u001b[49m\n\u001b[0;32m   4625\u001b[0m \u001b[43m    \u001b[49m\u001b[43m)\u001b[49m\n\u001b[0;32m   4627\u001b[0m \u001b[38;5;28;01mreturn\u001b[39;00m frame\n",
      "File \u001b[1;32m~\\anaconda3\\envs\\mytfenv\\lib\\site-packages\\pandas\\core\\frame.py:4639\u001b[0m, in \u001b[0;36mDataFrame._reindex_index\u001b[1;34m(self, new_index, method, copy, level, fill_value, limit, tolerance)\u001b[0m\n\u001b[0;32m   4629\u001b[0m \u001b[38;5;28;01mdef\u001b[39;00m \u001b[38;5;21m_reindex_index\u001b[39m(\n\u001b[0;32m   4630\u001b[0m     \u001b[38;5;28mself\u001b[39m,\n\u001b[0;32m   4631\u001b[0m     new_index,\n\u001b[1;32m   (...)\u001b[0m\n\u001b[0;32m   4637\u001b[0m     tolerance\u001b[38;5;241m=\u001b[39m\u001b[38;5;28;01mNone\u001b[39;00m,\n\u001b[0;32m   4638\u001b[0m ):\n\u001b[1;32m-> 4639\u001b[0m     new_index, indexer \u001b[38;5;241m=\u001b[39m \u001b[38;5;28;43mself\u001b[39;49m\u001b[38;5;241;43m.\u001b[39;49m\u001b[43mindex\u001b[49m\u001b[38;5;241;43m.\u001b[39;49m\u001b[43mreindex\u001b[49m\u001b[43m(\u001b[49m\n\u001b[0;32m   4640\u001b[0m \u001b[43m        \u001b[49m\u001b[43mnew_index\u001b[49m\u001b[43m,\u001b[49m\u001b[43m \u001b[49m\u001b[43mmethod\u001b[49m\u001b[38;5;241;43m=\u001b[39;49m\u001b[43mmethod\u001b[49m\u001b[43m,\u001b[49m\u001b[43m \u001b[49m\u001b[43mlevel\u001b[49m\u001b[38;5;241;43m=\u001b[39;49m\u001b[43mlevel\u001b[49m\u001b[43m,\u001b[49m\u001b[43m \u001b[49m\u001b[43mlimit\u001b[49m\u001b[38;5;241;43m=\u001b[39;49m\u001b[43mlimit\u001b[49m\u001b[43m,\u001b[49m\u001b[43m \u001b[49m\u001b[43mtolerance\u001b[49m\u001b[38;5;241;43m=\u001b[39;49m\u001b[43mtolerance\u001b[49m\n\u001b[0;32m   4641\u001b[0m \u001b[43m    \u001b[49m\u001b[43m)\u001b[49m\n\u001b[0;32m   4642\u001b[0m     \u001b[38;5;28;01mreturn\u001b[39;00m \u001b[38;5;28mself\u001b[39m\u001b[38;5;241m.\u001b[39m_reindex_with_indexers(\n\u001b[0;32m   4643\u001b[0m         {\u001b[38;5;241m0\u001b[39m: [new_index, indexer]},\n\u001b[0;32m   4644\u001b[0m         copy\u001b[38;5;241m=\u001b[39mcopy,\n\u001b[0;32m   4645\u001b[0m         fill_value\u001b[38;5;241m=\u001b[39mfill_value,\n\u001b[0;32m   4646\u001b[0m         allow_dups\u001b[38;5;241m=\u001b[39m\u001b[38;5;28;01mFalse\u001b[39;00m,\n\u001b[0;32m   4647\u001b[0m     )\n",
      "File \u001b[1;32m~\\anaconda3\\envs\\mytfenv\\lib\\site-packages\\pandas\\core\\indexes\\base.py:4208\u001b[0m, in \u001b[0;36mIndex.reindex\u001b[1;34m(self, target, method, level, limit, tolerance)\u001b[0m\n\u001b[0;32m   4206\u001b[0m \u001b[38;5;28;01melse\u001b[39;00m:\n\u001b[0;32m   4207\u001b[0m     \u001b[38;5;28;01mif\u001b[39;00m method \u001b[38;5;129;01mis\u001b[39;00m \u001b[38;5;129;01mnot\u001b[39;00m \u001b[38;5;28;01mNone\u001b[39;00m \u001b[38;5;129;01mor\u001b[39;00m limit \u001b[38;5;129;01mis\u001b[39;00m \u001b[38;5;129;01mnot\u001b[39;00m \u001b[38;5;28;01mNone\u001b[39;00m:\n\u001b[1;32m-> 4208\u001b[0m         \u001b[38;5;28;01mraise\u001b[39;00m \u001b[38;5;167;01mValueError\u001b[39;00m(\n\u001b[0;32m   4209\u001b[0m             \u001b[38;5;124m\"\u001b[39m\u001b[38;5;124mcannot reindex a non-unique index \u001b[39m\u001b[38;5;124m\"\u001b[39m\n\u001b[0;32m   4210\u001b[0m             \u001b[38;5;124m\"\u001b[39m\u001b[38;5;124mwith a method or limit\u001b[39m\u001b[38;5;124m\"\u001b[39m\n\u001b[0;32m   4211\u001b[0m         )\n\u001b[0;32m   4212\u001b[0m     indexer, _ \u001b[38;5;241m=\u001b[39m \u001b[38;5;28mself\u001b[39m\u001b[38;5;241m.\u001b[39mget_indexer_non_unique(target)\n\u001b[0;32m   4214\u001b[0m \u001b[38;5;28;01mif\u001b[39;00m \u001b[38;5;129;01mnot\u001b[39;00m \u001b[38;5;28mself\u001b[39m\u001b[38;5;241m.\u001b[39mis_unique:\n\u001b[0;32m   4215\u001b[0m     \u001b[38;5;66;03m# GH#42568\u001b[39;00m\n",
      "\u001b[1;31mValueError\u001b[0m: cannot reindex a non-unique index with a method or limit"
     ]
    }
   ],
   "source": [
    "technicals(test)"
   ]
  },
  {
   "cell_type": "code",
   "execution_count": 31,
   "id": "6c525e04",
   "metadata": {},
   "outputs": [
    {
     "data": {
      "text/plain": [
       "return           -0.186596\n",
       "strategyreturn   -0.392396\n",
       "dtype: float64"
      ]
     },
     "execution_count": 31,
     "metadata": {},
     "output_type": "execute_result"
    }
   ],
   "source": [
    "np.exp(technicals(test)[['return','strategyreturn']].sum())-1"
   ]
  },
  {
   "cell_type": "code",
   "execution_count": 41,
   "id": "9f049b94",
   "metadata": {},
   "outputs": [
    {
     "name": "stdout",
     "output_type": "stream",
     "text": [
      "BTCUSDT\n",
      "-0.1865963286055452\n",
      "-3.763645984890501\n",
      "ETHUSDT\n",
      "-0.14428817529691906\n",
      "-3.850027285456746\n",
      "BNBUSDT\n",
      "-0.10081490104777935\n",
      "-3.669619475196663\n",
      "SOLUSDT\n",
      "-0.09539535761468687\n",
      "-3.7850103593966247\n",
      "ADAUSDT\n",
      "-0.2965957446808788\n",
      "-4.206713904226542\n",
      "XRPUSDT\n",
      "-0.2507552870090841\n",
      "-3.2347489237129294\n",
      "DOTUSDT\n",
      "-0.25978647686834244\n",
      "-1.8639340941111309\n",
      "LUNAUSDT\n",
      "-0.05058158147477221\n",
      "-1.9196511311840907\n",
      "DOGEUSDT\n",
      "-0.056202878683967006\n",
      "-1.9344422868606\n",
      "AVAXUSDT\n",
      "-0.22766505997086195\n",
      "-1.9215502779971128\n",
      "SHIBUSDT\n",
      "-0.11128165771297416\n",
      "-1.8186956438328623\n",
      "MATICUSDT\n",
      "-0.264028352037742\n",
      "-1.9966757540385336\n",
      "LTCUSDT\n",
      "-0.24036979969181693\n",
      "-2.33712833412761\n",
      "UNIUSDT\n",
      "-0.2921052631578863\n",
      "-2.1588439563240884\n",
      "ALGOUSDT\n",
      "-0.31488070322310324\n",
      "-1.8137205208251\n",
      "TRXUSDT\n",
      "-0.10118702953095038\n",
      "-1.6419430642661816\n",
      "LINKUSDT\n",
      "-0.25746714456388686\n",
      "-1.975605500589886\n",
      "MANAUSDT\n",
      "-0.3313404192500716\n",
      "-2.01938549993744\n",
      "ATOMUSDT\n",
      "-0.3303776683086944\n",
      "-1.9443610139116405\n",
      "VETUSDT\n",
      "-0.3179336972440251\n",
      "-1.6174368567118673\n"
     ]
    }
   ],
   "source": [
    "for coin in coins:\n",
    "    df = pd.read_sql(coin,engine).set_index('Time')\n",
    "    print(coin)\n",
    "    trades = technicals(df).position.diff().value_counts().iloc[1:].sum()\n",
    "    costs = trades * 0.00075\n",
    "    print(np.exp(technicals(df)['return'].sum())-1),\n",
    "    print(np.exp(technicals(df)['strategyreturn'].sum())-1-costs)"
   ]
  },
  {
   "cell_type": "code",
   "execution_count": 34,
   "id": "ce97fa59",
   "metadata": {},
   "outputs": [
    {
     "data": {
      "text/html": [
       "<div>\n",
       "<style scoped>\n",
       "    .dataframe tbody tr th:only-of-type {\n",
       "        vertical-align: middle;\n",
       "    }\n",
       "\n",
       "    .dataframe tbody tr th {\n",
       "        vertical-align: top;\n",
       "    }\n",
       "\n",
       "    .dataframe thead th {\n",
       "        text-align: right;\n",
       "    }\n",
       "</style>\n",
       "<table border=\"1\" class=\"dataframe\">\n",
       "  <thead>\n",
       "    <tr style=\"text-align: right;\">\n",
       "      <th></th>\n",
       "      <th>Open</th>\n",
       "      <th>High</th>\n",
       "      <th>Low</th>\n",
       "      <th>Close</th>\n",
       "      <th>return</th>\n",
       "      <th>SMA_fast</th>\n",
       "      <th>SMA_slow</th>\n",
       "      <th>position</th>\n",
       "      <th>strategyreturn</th>\n",
       "    </tr>\n",
       "    <tr>\n",
       "      <th>Time</th>\n",
       "      <th></th>\n",
       "      <th></th>\n",
       "      <th></th>\n",
       "      <th></th>\n",
       "      <th></th>\n",
       "      <th></th>\n",
       "      <th></th>\n",
       "      <th></th>\n",
       "      <th></th>\n",
       "    </tr>\n",
       "  </thead>\n",
       "  <tbody>\n",
       "    <tr>\n",
       "      <th>2022-04-27 00:55:00</th>\n",
       "      <td>38170.00</td>\n",
       "      <td>38206.16</td>\n",
       "      <td>38166.17</td>\n",
       "      <td>38166.17</td>\n",
       "      <td>-0.000100</td>\n",
       "      <td>38167.751429</td>\n",
       "      <td>38109.7960</td>\n",
       "      <td>1</td>\n",
       "      <td>-0.000100</td>\n",
       "    </tr>\n",
       "    <tr>\n",
       "      <th>2022-04-27 00:56:00</th>\n",
       "      <td>38166.18</td>\n",
       "      <td>38178.33</td>\n",
       "      <td>38140.00</td>\n",
       "      <td>38146.38</td>\n",
       "      <td>-0.000519</td>\n",
       "      <td>38165.952857</td>\n",
       "      <td>38107.5564</td>\n",
       "      <td>1</td>\n",
       "      <td>-0.000519</td>\n",
       "    </tr>\n",
       "    <tr>\n",
       "      <th>2022-04-27 00:57:00</th>\n",
       "      <td>38146.38</td>\n",
       "      <td>38184.67</td>\n",
       "      <td>38115.08</td>\n",
       "      <td>38158.47</td>\n",
       "      <td>0.000317</td>\n",
       "      <td>38158.984286</td>\n",
       "      <td>38106.4188</td>\n",
       "      <td>1</td>\n",
       "      <td>0.000317</td>\n",
       "    </tr>\n",
       "    <tr>\n",
       "      <th>2022-04-27 00:58:00</th>\n",
       "      <td>38158.47</td>\n",
       "      <td>38168.47</td>\n",
       "      <td>38130.25</td>\n",
       "      <td>38168.46</td>\n",
       "      <td>0.000262</td>\n",
       "      <td>38158.310000</td>\n",
       "      <td>38106.2632</td>\n",
       "      <td>1</td>\n",
       "      <td>0.000262</td>\n",
       "    </tr>\n",
       "    <tr>\n",
       "      <th>2022-04-27 00:59:00</th>\n",
       "      <td>38168.47</td>\n",
       "      <td>38170.00</td>\n",
       "      <td>38157.86</td>\n",
       "      <td>38168.04</td>\n",
       "      <td>-0.000011</td>\n",
       "      <td>38158.348571</td>\n",
       "      <td>38106.3536</td>\n",
       "      <td>1</td>\n",
       "      <td>-0.000011</td>\n",
       "    </tr>\n",
       "  </tbody>\n",
       "</table>\n",
       "</div>"
      ],
      "text/plain": [
       "                         Open      High       Low     Close    return  \\\n",
       "Time                                                                    \n",
       "2022-04-27 00:55:00  38170.00  38206.16  38166.17  38166.17 -0.000100   \n",
       "2022-04-27 00:56:00  38166.18  38178.33  38140.00  38146.38 -0.000519   \n",
       "2022-04-27 00:57:00  38146.38  38184.67  38115.08  38158.47  0.000317   \n",
       "2022-04-27 00:58:00  38158.47  38168.47  38130.25  38168.46  0.000262   \n",
       "2022-04-27 00:59:00  38168.47  38170.00  38157.86  38168.04 -0.000011   \n",
       "\n",
       "                         SMA_fast    SMA_slow  position  strategyreturn  \n",
       "Time                                                                     \n",
       "2022-04-27 00:55:00  38167.751429  38109.7960         1       -0.000100  \n",
       "2022-04-27 00:56:00  38165.952857  38107.5564         1       -0.000519  \n",
       "2022-04-27 00:57:00  38158.984286  38106.4188         1        0.000317  \n",
       "2022-04-27 00:58:00  38158.310000  38106.2632         1        0.000262  \n",
       "2022-04-27 00:59:00  38158.348571  38106.3536         1       -0.000011  "
      ]
     },
     "execution_count": 34,
     "metadata": {},
     "output_type": "execute_result"
    }
   ],
   "source": [
    "technicals(test).tail(5)"
   ]
  },
  {
   "cell_type": "code",
   "execution_count": 38,
   "id": "357cc82d",
   "metadata": {},
   "outputs": [
    {
     "data": {
      "text/plain": [
       "3.37125"
      ]
     },
     "execution_count": 38,
     "metadata": {},
     "output_type": "execute_result"
    }
   ],
   "source": [
    "technicals(test).position.diff().value_counts().iloc[1:].sum()*0.00075"
   ]
  },
  {
   "cell_type": "code",
   "execution_count": null,
   "id": "243c1a5e",
   "metadata": {},
   "outputs": [],
   "source": []
  },
  {
   "cell_type": "code",
   "execution_count": null,
   "id": "034a44aa",
   "metadata": {},
   "outputs": [],
   "source": []
  }
 ],
 "metadata": {
  "kernelspec": {
   "display_name": "Python 3 (ipykernel)",
   "language": "python",
   "name": "python3"
  },
  "language_info": {
   "codemirror_mode": {
    "name": "ipython",
    "version": 3
   },
   "file_extension": ".py",
   "mimetype": "text/x-python",
   "name": "python",
   "nbconvert_exporter": "python",
   "pygments_lexer": "ipython3",
   "version": "3.10.4"
  }
 },
 "nbformat": 4,
 "nbformat_minor": 5
}
