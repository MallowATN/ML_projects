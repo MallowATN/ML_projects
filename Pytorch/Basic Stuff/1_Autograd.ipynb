{
 "cells": [
  {
   "cell_type": "code",
   "execution_count": null,
   "id": "5e4016fe",
   "metadata": {},
   "outputs": [],
   "source": [
    "# Autograd - Calculates gradient"
   ]
  },
  {
   "cell_type": "code",
   "execution_count": 1,
   "id": "086bd8e8",
   "metadata": {},
   "outputs": [],
   "source": [
    " import torch"
   ]
  },
  {
   "cell_type": "code",
   "execution_count": 2,
   "id": "5335fab5",
   "metadata": {},
   "outputs": [
    {
     "name": "stdout",
     "output_type": "stream",
     "text": [
      "tensor([-0.8326,  1.2964, -1.8462])\n"
     ]
    }
   ],
   "source": [
    "x = torch.randn(3)\n",
    "print(x)"
   ]
  },
  {
   "cell_type": "code",
   "execution_count": null,
   "id": "ed8f4dbe",
   "metadata": {},
   "outputs": [],
   "source": [
    "# if later we want to calculate the gradients with respect to x: add the argument requires_grad=True"
   ]
  },
  {
   "cell_type": "code",
   "execution_count": 3,
   "id": "2ac2c937",
   "metadata": {},
   "outputs": [
    {
     "name": "stdout",
     "output_type": "stream",
     "text": [
      "tensor([-2.4848, -0.3108, -0.4682], requires_grad=True)\n",
      "tensor([-0.4848,  1.6892,  1.5318], grad_fn=<AddBackward0>)\n"
     ]
    }
   ],
   "source": [
    "x = torch.randn(3, requires_grad=True)\n",
    "print(x)\n",
    "y=x+2\n",
    "print(y)"
   ]
  },
  {
   "cell_type": "code",
   "execution_count": 18,
   "id": "659e0a34",
   "metadata": {},
   "outputs": [
    {
     "name": "stdout",
     "output_type": "stream",
     "text": [
      "tensor(3.6232, grad_fn=<MeanBackward0>)\n"
     ]
    }
   ],
   "source": [
    "z = y*y*2\n",
    "z = z.mean()\n",
    "print(z) # z is a scaler value after the mean"
   ]
  },
  {
   "cell_type": "code",
   "execution_count": 19,
   "id": "7e7eb054",
   "metadata": {},
   "outputs": [
    {
     "name": "stdout",
     "output_type": "stream",
     "text": [
      "tensor([-3.2321, 11.2615, 10.2118])\n"
     ]
    }
   ],
   "source": [
    "z.backward() #dz/dx\n",
    "print(x.grad)"
   ]
  },
  {
   "cell_type": "code",
   "execution_count": null,
   "id": "49e80e02",
   "metadata": {},
   "outputs": [],
   "source": [
    "# One thing we should know is, in the background, this will create a vector jacobian product to get the \n",
    "# gradient... Jacobian matrix with partial derivatives multiplied by gradient vector to get final \n",
    "# gradient... also known as chain rule"
   ]
  },
  {
   "cell_type": "code",
   "execution_count": 21,
   "id": "7aa7deaf",
   "metadata": {},
   "outputs": [
    {
     "name": "stdout",
     "output_type": "stream",
     "text": [
      "tensor([-3.4260, 18.0185, 10.2179])\n"
     ]
    }
   ],
   "source": [
    "z = y*y*2\n",
    "v = torch.tensor([0.1,1.0,0.001],dtype=torch.float32)\n",
    "z.backward(v) #dz/dx\n",
    "print(x.grad)"
   ]
  },
  {
   "cell_type": "markdown",
   "id": "e1cdeba3",
   "metadata": {},
   "source": [
    "Prevent pytorch from tracking history of gradient f of n (fn)... 3 options:"
   ]
  },
  {
   "cell_type": "code",
   "execution_count": null,
   "id": "1dd1df3a",
   "metadata": {},
   "outputs": [],
   "source": [
    "# x.requires_grad_(False)\n",
    "# x.detach() # creates new tensor that doesn't require the gradient\n",
    "# with torch.no_grad():"
   ]
  },
  {
   "cell_type": "code",
   "execution_count": 22,
   "id": "8f2143fd",
   "metadata": {},
   "outputs": [
    {
     "name": "stdout",
     "output_type": "stream",
     "text": [
      "tensor([-2.4848, -0.3108, -0.4682])\n"
     ]
    }
   ],
   "source": [
    "x.requires_grad_(False)\n",
    "print(x) #Doesn't have the requires_grad function"
   ]
  },
  {
   "cell_type": "code",
   "execution_count": 23,
   "id": "06573c9b",
   "metadata": {},
   "outputs": [
    {
     "name": "stdout",
     "output_type": "stream",
     "text": [
      "tensor([-2.4848, -0.3108, -0.4682])\n"
     ]
    }
   ],
   "source": [
    "y = x.detach()\n",
    "print(y) #Again, doesn't have requires_grad"
   ]
  },
  {
   "cell_type": "code",
   "execution_count": 25,
   "id": "3838a1f2",
   "metadata": {},
   "outputs": [
    {
     "name": "stdout",
     "output_type": "stream",
     "text": [
      "tensor([-0.4848,  1.6892,  1.5318])\n"
     ]
    }
   ],
   "source": [
    "with torch.no_grad():\n",
    "    y = x + 2\n",
    "    print(y) #Doesn't have gradient function attribute"
   ]
  },
  {
   "cell_type": "markdown",
   "id": "84dafcc2",
   "metadata": {},
   "source": [
    "One thing to note: Whenever we call the backward function, the gradient of this tensor will be accumulated into the .grad attribute. values will be add up.. BE CAREFUL"
   ]
  },
  {
   "cell_type": "code",
   "execution_count": 29,
   "id": "53c609db",
   "metadata": {},
   "outputs": [
    {
     "name": "stdout",
     "output_type": "stream",
     "text": [
      "tensor([3., 3., 3., 3.])\n",
      "tensor([3., 3., 3., 3.])\n",
      "tensor([3., 3., 3., 3.])\n"
     ]
    }
   ],
   "source": [
    "weights = torch.ones(4,requires_grad=True)\n",
    "for epoch in range(3): #Change the range and you'll see the accumulation\n",
    "    model_output = (weights*3).sum()\n",
    "    model_output.backward()\n",
    "    print(weights.grad)\n",
    "    weights.grad.zero_() # Empty the gradient to fix... Important for training steps"
   ]
  },
  {
   "cell_type": "markdown",
   "id": "39f50f09",
   "metadata": {},
   "source": [
    "Optimizers"
   ]
  },
  {
   "cell_type": "code",
   "execution_count": null,
   "id": "37ec5bba",
   "metadata": {},
   "outputs": [],
   "source": [
    "optimizer = torch.optim.SGD(weights, lr=0.01)\n",
    "optimizer.step()\n",
    "optimizer.zero_grad()"
   ]
  },
  {
   "cell_type": "markdown",
   "id": "55f03379",
   "metadata": {},
   "source": [
    "Important recap:"
   ]
  },
  {
   "cell_type": "code",
   "execution_count": null,
   "id": "466d7db8",
   "metadata": {},
   "outputs": [],
   "source": [
    "weights = torch.ones(4, requires_grad=True)\n",
    "z.backward()\n",
    "weights.grad.zero_()"
   ]
  }
 ],
 "metadata": {
  "kernelspec": {
   "display_name": "Python 3 (ipykernel)",
   "language": "python",
   "name": "python3"
  },
  "language_info": {
   "codemirror_mode": {
    "name": "ipython",
    "version": 3
   },
   "file_extension": ".py",
   "mimetype": "text/x-python",
   "name": "python",
   "nbconvert_exporter": "python",
   "pygments_lexer": "ipython3",
   "version": "3.10.4"
  }
 },
 "nbformat": 4,
 "nbformat_minor": 5
}
