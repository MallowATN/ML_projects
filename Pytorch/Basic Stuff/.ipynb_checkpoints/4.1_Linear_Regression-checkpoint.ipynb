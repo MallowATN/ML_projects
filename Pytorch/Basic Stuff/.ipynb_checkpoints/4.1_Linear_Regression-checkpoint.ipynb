{
 "cells": [
  {
   "cell_type": "markdown",
   "id": "a84824a9",
   "metadata": {},
   "source": [
    "1) Design model (input, output size,forward pass)\\\n",
    "2) Construct loss and optimizer\\\n",
    "3) Training loop\\\n",
    "   ----forward pass: compute prediction\\\n",
    "   ----backward pass: gradients\\\n",
    "   ----update weights... iterate this a couple of times\\\n",
    "4) We replace our forward method with a pytorch module, and we don't need our weights. pytorch knows our parameter"
   ]
  },
  {
   "cell_type": "code",
   "execution_count": 2,
   "id": "0711309f",
   "metadata": {},
   "outputs": [],
   "source": [
    "import torch\n",
    "import torch.nn as nn\n",
    "import numpy as np\n",
    "from sklearn import datasets\n",
    "import matplotlib.pyplot as plt"
   ]
  },
  {
   "cell_type": "code",
   "execution_count": 4,
   "id": "42f3122b",
   "metadata": {},
   "outputs": [
    {
     "name": "stdout",
     "output_type": "stream",
     "text": [
      "epoch: 10, loss = 1686.6405\n",
      "epoch: 20, loss = 1299.7657\n",
      "epoch: 30, loss = 1022.8527\n",
      "epoch: 40, loss = 824.2952\n",
      "epoch: 50, loss = 681.6865\n",
      "epoch: 60, loss = 579.1051\n",
      "epoch: 70, loss = 505.2117\n",
      "epoch: 80, loss = 451.9142\n",
      "epoch: 90, loss = 413.4258\n",
      "epoch: 100, loss = 385.6012\n"
     ]
    }
   ],
   "source": [
    "# 0) prepare data\n",
    "X_numpy, y_numpy = datasets.make_regression(n_samples = 100, n_features = 1, noise=20, random_state=42)\n",
    "\n",
    "X = torch.from_numpy(X_numpy.astype(np.float32))\n",
    "y = torch.from_numpy(y_numpy.astype(np.float32))\n",
    "y = y.view(y.shape[0],1) #reshape the y bc this only has 1 row and we want to make a column vector\n",
    "# view method is a built in method to reshape our tensor\n",
    "\n",
    "n_samples, n_features = X.shape\n",
    "# 1) model -- 1 layer linearity\n",
    "input_size = n_features\n",
    "output_size = 1\n",
    "model = nn.Linear(input_size, output_size)\n",
    "# 2) loss and optimizer\n",
    "learning_rate = 0.01\n",
    "criterion = nn.MSELoss() # loss function... MSE\n",
    "optimizer = torch.optim.SGD(model.parameters(), lr=learning_rate)\n",
    "# 3) training loop\n",
    "num_epochs = 100\n",
    "for epoch in range(num_epochs):\n",
    "    #forward pass\n",
    "    y_predicted = model(X)\n",
    "    loss = criterion(y_predicted, y)\n",
    "    # backward pass\n",
    "    loss.backward()\n",
    "    #update\n",
    "    optimizer.step()\n",
    "    #empty gradient\n",
    "    optimizer.zero_grad()\n",
    "    \n",
    "    if (epoch+1) % 10 == 0:\n",
    "        print(f'epoch: {epoch+1}, loss = {loss.item():.4f}')\n",
    "   "
   ]
  },
  {
   "cell_type": "code",
   "execution_count": 8,
   "id": "2047e478",
   "metadata": {},
   "outputs": [
    {
     "data": {
      "image/png": "[encoded data removed]",
      "text/plain": [
       "<Figure size 432x288 with 1 Axes>"
      ]
     },
     "metadata": {
      "needs_background": "light"
     },
     "output_type": "display_data"
    }
   ],
   "source": [
    "# plot..\n",
    "predicted = model(X).detach().numpy() #prevent operation from being tracked in our computational graph\n",
    "#this tensor has the req_grad 'True' and we want it to be false\n",
    "plt.plot(X_numpy, y_numpy, 'ro')\n",
    "plt.plot(X_numpy, predicted, 'b')\n",
    "plt.show()"
   ]
  }
 ],
 "metadata": {
  "kernelspec": {
   "display_name": "Python 3 (ipykernel)",
   "language": "python",
   "name": "python3"
  },
  "language_info": {
   "codemirror_mode": {
    "name": "ipython",
    "version": 3
   },
   "file_extension": ".py",
   "mimetype": "text/x-python",
   "name": "python",
   "nbconvert_exporter": "python",
   "pygments_lexer": "ipython3",
   "version": "3.10.4"
  }
 },
 "nbformat": 4,
 "nbformat_minor": 5
}
