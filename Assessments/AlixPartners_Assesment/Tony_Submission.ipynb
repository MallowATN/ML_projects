{
 "cells": [
  {
   "attachments": {},
   "cell_type": "markdown",
   "metadata": {},
   "source": [
    "# CHALLENGE #1: P>N"
   ]
  },
  {
   "attachments": {},
   "cell_type": "markdown",
   "metadata": {},
   "source": [
    "Required Depndencies:"
   ]
  },
  {
   "cell_type": "code",
   "execution_count": null,
   "metadata": {},
   "outputs": [],
   "source": [
    "# pip install numpy\n",
    "# pip install pandas\n",
    "# pip install matplotlib\n",
    "# pip install seaborn\n",
    "# pip install scikit-learn\n",
    "# pip install Jinja2\n",
    "# pip install keras\n",
    "# pip install tensorflow\n",
    "# pip install statsmodels"
   ]
  },
  {
   "cell_type": "markdown",
   "metadata": {},
   "source": [
    "## Import libraries"
   ]
  },
  {
   "cell_type": "code",
   "execution_count": 1,
   "metadata": {},
   "outputs": [],
   "source": [
    "# Import your libraries\n",
    "import numpy as np\n",
    "import pandas as pd\n",
    "import matplotlib.pyplot as plt\n",
    "import seaborn as sns"
   ]
  },
  {
   "attachments": {},
   "cell_type": "markdown",
   "metadata": {},
   "source": [
    "## Loading in the dataset"
   ]
  },
  {
   "cell_type": "code",
   "execution_count": 3,
   "metadata": {},
   "outputs": [
    {
     "data": {
      "text/html": [
       "<div>\n",
       "<style scoped>\n",
       "    .dataframe tbody tr th:only-of-type {\n",
       "        vertical-align: middle;\n",
       "    }\n",
       "\n",
       "    .dataframe tbody tr th {\n",
       "        vertical-align: top;\n",
       "    }\n",
       "\n",
       "    .dataframe thead th {\n",
       "        text-align: right;\n",
       "    }\n",
       "</style>\n",
       "<table border=\"1\" class=\"dataframe\">\n",
       "  <thead>\n",
       "    <tr style=\"text-align: right;\">\n",
       "      <th></th>\n",
       "      <th>id</th>\n",
       "      <th>train</th>\n",
       "      <th>target_eval</th>\n",
       "      <th>var_1</th>\n",
       "      <th>var_2</th>\n",
       "      <th>var_3</th>\n",
       "      <th>var_4</th>\n",
       "      <th>var_5</th>\n",
       "      <th>var_6</th>\n",
       "      <th>var_7</th>\n",
       "      <th>...</th>\n",
       "      <th>var_291</th>\n",
       "      <th>var_292</th>\n",
       "      <th>var_293</th>\n",
       "      <th>var_294</th>\n",
       "      <th>var_295</th>\n",
       "      <th>var_296</th>\n",
       "      <th>var_297</th>\n",
       "      <th>var_298</th>\n",
       "      <th>var_299</th>\n",
       "      <th>var_300</th>\n",
       "    </tr>\n",
       "  </thead>\n",
       "  <tbody>\n",
       "    <tr>\n",
       "      <th>0</th>\n",
       "      <td>1</td>\n",
       "      <td>1</td>\n",
       "      <td>1</td>\n",
       "      <td>0.422</td>\n",
       "      <td>0.521</td>\n",
       "      <td>0.493</td>\n",
       "      <td>0.206</td>\n",
       "      <td>0.144</td>\n",
       "      <td>0.203</td>\n",
       "      <td>0.709</td>\n",
       "      <td>...</td>\n",
       "      <td>0.188</td>\n",
       "      <td>0.143</td>\n",
       "      <td>0.432</td>\n",
       "      <td>0.872</td>\n",
       "      <td>0.282</td>\n",
       "      <td>0.152</td>\n",
       "      <td>0.878</td>\n",
       "      <td>0.750</td>\n",
       "      <td>0.670</td>\n",
       "      <td>0.358</td>\n",
       "    </tr>\n",
       "    <tr>\n",
       "      <th>1</th>\n",
       "      <td>2</td>\n",
       "      <td>1</td>\n",
       "      <td>0</td>\n",
       "      <td>0.345</td>\n",
       "      <td>0.974</td>\n",
       "      <td>0.330</td>\n",
       "      <td>0.643</td>\n",
       "      <td>0.931</td>\n",
       "      <td>0.664</td>\n",
       "      <td>0.146</td>\n",
       "      <td>...</td>\n",
       "      <td>0.164</td>\n",
       "      <td>0.676</td>\n",
       "      <td>0.647</td>\n",
       "      <td>0.437</td>\n",
       "      <td>0.853</td>\n",
       "      <td>0.908</td>\n",
       "      <td>0.141</td>\n",
       "      <td>0.705</td>\n",
       "      <td>0.974</td>\n",
       "      <td>0.240</td>\n",
       "    </tr>\n",
       "    <tr>\n",
       "      <th>2</th>\n",
       "      <td>3</td>\n",
       "      <td>1</td>\n",
       "      <td>1</td>\n",
       "      <td>0.590</td>\n",
       "      <td>0.135</td>\n",
       "      <td>0.046</td>\n",
       "      <td>0.852</td>\n",
       "      <td>0.655</td>\n",
       "      <td>0.765</td>\n",
       "      <td>0.261</td>\n",
       "      <td>...</td>\n",
       "      <td>0.147</td>\n",
       "      <td>0.822</td>\n",
       "      <td>0.769</td>\n",
       "      <td>0.743</td>\n",
       "      <td>0.293</td>\n",
       "      <td>0.806</td>\n",
       "      <td>0.610</td>\n",
       "      <td>0.172</td>\n",
       "      <td>0.825</td>\n",
       "      <td>0.330</td>\n",
       "    </tr>\n",
       "    <tr>\n",
       "      <th>3</th>\n",
       "      <td>4</td>\n",
       "      <td>1</td>\n",
       "      <td>1</td>\n",
       "      <td>0.226</td>\n",
       "      <td>0.952</td>\n",
       "      <td>0.773</td>\n",
       "      <td>0.070</td>\n",
       "      <td>0.800</td>\n",
       "      <td>0.320</td>\n",
       "      <td>0.081</td>\n",
       "      <td>...</td>\n",
       "      <td>0.155</td>\n",
       "      <td>0.240</td>\n",
       "      <td>0.553</td>\n",
       "      <td>0.102</td>\n",
       "      <td>0.092</td>\n",
       "      <td>0.016</td>\n",
       "      <td>0.785</td>\n",
       "      <td>0.320</td>\n",
       "      <td>0.548</td>\n",
       "      <td>0.888</td>\n",
       "    </tr>\n",
       "    <tr>\n",
       "      <th>4</th>\n",
       "      <td>5</td>\n",
       "      <td>1</td>\n",
       "      <td>0</td>\n",
       "      <td>0.250</td>\n",
       "      <td>0.698</td>\n",
       "      <td>0.781</td>\n",
       "      <td>0.060</td>\n",
       "      <td>0.427</td>\n",
       "      <td>0.096</td>\n",
       "      <td>0.176</td>\n",
       "      <td>...</td>\n",
       "      <td>0.699</td>\n",
       "      <td>0.765</td>\n",
       "      <td>0.946</td>\n",
       "      <td>0.112</td>\n",
       "      <td>0.744</td>\n",
       "      <td>0.181</td>\n",
       "      <td>0.861</td>\n",
       "      <td>0.383</td>\n",
       "      <td>0.570</td>\n",
       "      <td>0.777</td>\n",
       "    </tr>\n",
       "    <tr>\n",
       "      <th>5</th>\n",
       "      <td>6</td>\n",
       "      <td>1</td>\n",
       "      <td>1</td>\n",
       "      <td>0.446</td>\n",
       "      <td>0.065</td>\n",
       "      <td>0.008</td>\n",
       "      <td>0.224</td>\n",
       "      <td>0.448</td>\n",
       "      <td>0.976</td>\n",
       "      <td>0.629</td>\n",
       "      <td>...</td>\n",
       "      <td>0.432</td>\n",
       "      <td>0.818</td>\n",
       "      <td>0.120</td>\n",
       "      <td>0.994</td>\n",
       "      <td>0.421</td>\n",
       "      <td>0.298</td>\n",
       "      <td>0.857</td>\n",
       "      <td>0.133</td>\n",
       "      <td>0.093</td>\n",
       "      <td>0.342</td>\n",
       "    </tr>\n",
       "    <tr>\n",
       "      <th>6</th>\n",
       "      <td>7</td>\n",
       "      <td>1</td>\n",
       "      <td>0</td>\n",
       "      <td>0.729</td>\n",
       "      <td>0.904</td>\n",
       "      <td>0.545</td>\n",
       "      <td>0.137</td>\n",
       "      <td>0.516</td>\n",
       "      <td>0.862</td>\n",
       "      <td>0.386</td>\n",
       "      <td>...</td>\n",
       "      <td>0.322</td>\n",
       "      <td>0.586</td>\n",
       "      <td>0.366</td>\n",
       "      <td>0.673</td>\n",
       "      <td>0.819</td>\n",
       "      <td>0.188</td>\n",
       "      <td>0.341</td>\n",
       "      <td>0.625</td>\n",
       "      <td>0.862</td>\n",
       "      <td>0.246</td>\n",
       "    </tr>\n",
       "    <tr>\n",
       "      <th>7</th>\n",
       "      <td>8</td>\n",
       "      <td>1</td>\n",
       "      <td>0</td>\n",
       "      <td>0.169</td>\n",
       "      <td>0.427</td>\n",
       "      <td>0.296</td>\n",
       "      <td>0.765</td>\n",
       "      <td>0.131</td>\n",
       "      <td>0.002</td>\n",
       "      <td>0.643</td>\n",
       "      <td>...</td>\n",
       "      <td>0.747</td>\n",
       "      <td>0.854</td>\n",
       "      <td>0.695</td>\n",
       "      <td>0.149</td>\n",
       "      <td>0.744</td>\n",
       "      <td>0.704</td>\n",
       "      <td>0.151</td>\n",
       "      <td>0.089</td>\n",
       "      <td>0.074</td>\n",
       "      <td>0.717</td>\n",
       "    </tr>\n",
       "    <tr>\n",
       "      <th>8</th>\n",
       "      <td>9</td>\n",
       "      <td>1</td>\n",
       "      <td>0</td>\n",
       "      <td>0.197</td>\n",
       "      <td>0.979</td>\n",
       "      <td>0.061</td>\n",
       "      <td>0.505</td>\n",
       "      <td>0.665</td>\n",
       "      <td>0.279</td>\n",
       "      <td>0.595</td>\n",
       "      <td>...</td>\n",
       "      <td>0.613</td>\n",
       "      <td>0.750</td>\n",
       "      <td>0.932</td>\n",
       "      <td>0.013</td>\n",
       "      <td>0.220</td>\n",
       "      <td>0.728</td>\n",
       "      <td>0.644</td>\n",
       "      <td>0.455</td>\n",
       "      <td>0.238</td>\n",
       "      <td>0.603</td>\n",
       "    </tr>\n",
       "    <tr>\n",
       "      <th>9</th>\n",
       "      <td>10</td>\n",
       "      <td>1</td>\n",
       "      <td>0</td>\n",
       "      <td>0.465</td>\n",
       "      <td>0.981</td>\n",
       "      <td>0.983</td>\n",
       "      <td>0.685</td>\n",
       "      <td>0.678</td>\n",
       "      <td>0.553</td>\n",
       "      <td>0.552</td>\n",
       "      <td>...</td>\n",
       "      <td>0.317</td>\n",
       "      <td>0.863</td>\n",
       "      <td>0.225</td>\n",
       "      <td>0.147</td>\n",
       "      <td>0.221</td>\n",
       "      <td>0.901</td>\n",
       "      <td>0.105</td>\n",
       "      <td>0.536</td>\n",
       "      <td>0.300</td>\n",
       "      <td>0.674</td>\n",
       "    </tr>\n",
       "  </tbody>\n",
       "</table>\n",
       "<p>10 rows × 303 columns</p>\n",
       "</div>"
      ],
      "text/plain": [
       "   id  train  target_eval  var_1  var_2  var_3  var_4  var_5  var_6  var_7  \\\n",
       "0   1      1            1  0.422  0.521  0.493  0.206  0.144  0.203  0.709   \n",
       "1   2      1            0  0.345  0.974  0.330  0.643  0.931  0.664  0.146   \n",
       "2   3      1            1  0.590  0.135  0.046  0.852  0.655  0.765  0.261   \n",
       "3   4      1            1  0.226  0.952  0.773  0.070  0.800  0.320  0.081   \n",
       "4   5      1            0  0.250  0.698  0.781  0.060  0.427  0.096  0.176   \n",
       "5   6      1            1  0.446  0.065  0.008  0.224  0.448  0.976  0.629   \n",
       "6   7      1            0  0.729  0.904  0.545  0.137  0.516  0.862  0.386   \n",
       "7   8      1            0  0.169  0.427  0.296  0.765  0.131  0.002  0.643   \n",
       "8   9      1            0  0.197  0.979  0.061  0.505  0.665  0.279  0.595   \n",
       "9  10      1            0  0.465  0.981  0.983  0.685  0.678  0.553  0.552   \n",
       "\n",
       "   ...  var_291  var_292  var_293  var_294  var_295  var_296  var_297  \\\n",
       "0  ...    0.188    0.143    0.432    0.872    0.282    0.152    0.878   \n",
       "1  ...    0.164    0.676    0.647    0.437    0.853    0.908    0.141   \n",
       "2  ...    0.147    0.822    0.769    0.743    0.293    0.806    0.610   \n",
       "3  ...    0.155    0.240    0.553    0.102    0.092    0.016    0.785   \n",
       "4  ...    0.699    0.765    0.946    0.112    0.744    0.181    0.861   \n",
       "5  ...    0.432    0.818    0.120    0.994    0.421    0.298    0.857   \n",
       "6  ...    0.322    0.586    0.366    0.673    0.819    0.188    0.341   \n",
       "7  ...    0.747    0.854    0.695    0.149    0.744    0.704    0.151   \n",
       "8  ...    0.613    0.750    0.932    0.013    0.220    0.728    0.644   \n",
       "9  ...    0.317    0.863    0.225    0.147    0.221    0.901    0.105   \n",
       "\n",
       "   var_298  var_299  var_300  \n",
       "0    0.750    0.670    0.358  \n",
       "1    0.705    0.974    0.240  \n",
       "2    0.172    0.825    0.330  \n",
       "3    0.320    0.548    0.888  \n",
       "4    0.383    0.570    0.777  \n",
       "5    0.133    0.093    0.342  \n",
       "6    0.625    0.862    0.246  \n",
       "7    0.089    0.074    0.717  \n",
       "8    0.455    0.238    0.603  \n",
       "9    0.536    0.300    0.674  \n",
       "\n",
       "[10 rows x 303 columns]"
      ]
     },
     "execution_count": 3,
     "metadata": {},
     "output_type": "execute_result"
    }
   ],
   "source": [
    "df = pd.read_csv('data.csv')\n",
    "df.head(10)"
   ]
  },
  {
   "cell_type": "code",
   "execution_count": 4,
   "metadata": {},
   "outputs": [
    {
     "data": {
      "text/plain": [
       "False"
      ]
     },
     "execution_count": 4,
     "metadata": {},
     "output_type": "execute_result"
    }
   ],
   "source": [
    "# Check for any missing values. Since it's False, that means we don't have to dropna or impute any missing values. \n",
    "df.isnull().values.any()"
   ]
  },
  {
   "cell_type": "code",
   "execution_count": 5,
   "metadata": {},
   "outputs": [],
   "source": [
    "# df.info\n",
    "# df.describe"
   ]
  },
  {
   "cell_type": "code",
   "execution_count": 6,
   "metadata": {},
   "outputs": [],
   "source": [
    "# Split the dataset into train dataset and test dataset\n",
    "train_set = df[df['train']==1]\n",
    "test_set = df[df['train']==0]"
   ]
  },
  {
   "cell_type": "code",
   "execution_count": 7,
   "metadata": {},
   "outputs": [
    {
     "name": "stdout",
     "output_type": "stream",
     "text": [
      "The number of training dataset is: 250\n",
      "The number of testing dataset is: 19750\n"
     ]
    }
   ],
   "source": [
    "# Verify the number of training dataset and testing dataset\n",
    "len_train = len(train_set)\n",
    "len_test = len(test_set)\n",
    "\n",
    "print(f'The number of training dataset is: {len_train}')\n",
    "print(f'The number of testing dataset is: {len_test}')"
   ]
  },
  {
   "attachments": {},
   "cell_type": "markdown",
   "metadata": {},
   "source": [
    "For our train/test split, we can drop the train feature because all it tells us is which part of the dataset are train data vs testing dataset. Note that in the challenge stated that there are 250 training datas and 19750 testing data. Meaning, this feature won't help us in the prediction analysis part of our target variable. "
   ]
  },
  {
   "cell_type": "code",
   "execution_count": 8,
   "metadata": {},
   "outputs": [],
   "source": [
    "train_set = train_set.drop('train',axis=1)\n",
    "test_set = test_set.drop('train',axis=1)"
   ]
  },
  {
   "attachments": {},
   "cell_type": "markdown",
   "metadata": {},
   "source": [
    "It seems that no transformation like StandardScaler or MinMaxScaler seems to be needed in this assessment, since all the target attributes seems to be bound between 0 and 1. If there were overfitting that are noticed in our Machine Learning model, then we can try incorporating it. "
   ]
  },
  {
   "cell_type": "code",
   "execution_count": 9,
   "metadata": {},
   "outputs": [],
   "source": [
    "# Split our dataset into X and y\n",
    "X = train_set.drop('target_eval',axis=1)\n",
    "y = train_set['target_eval']"
   ]
  },
  {
   "cell_type": "code",
   "execution_count": 10,
   "metadata": {},
   "outputs": [
    {
     "data": {
      "text/plain": [
       "(250, 100)"
      ]
     },
     "execution_count": 10,
     "metadata": {},
     "output_type": "execute_result"
    }
   ],
   "source": [
    "from sklearn.feature_selection import SelectKBest\n",
    "from sklearn.feature_selection import f_classif\n",
    "\n",
    "X_new = SelectKBest(f_classif, k=100).fit_transform(X,y)\n",
    "X_new.shape"
   ]
  },
  {
   "attachments": {},
   "cell_type": "markdown",
   "metadata": {},
   "source": [
    "## Feature Selection"
   ]
  },
  {
   "attachments": {},
   "cell_type": "markdown",
   "metadata": {},
   "source": [
    "We'll use SelectKBest features with f_classif for our Feature Selection method."
   ]
  },
  {
   "cell_type": "code",
   "execution_count": 11,
   "metadata": {},
   "outputs": [
    {
     "data": {
      "text/html": [
       "<div>\n",
       "<style scoped>\n",
       "    .dataframe tbody tr th:only-of-type {\n",
       "        vertical-align: middle;\n",
       "    }\n",
       "\n",
       "    .dataframe tbody tr th {\n",
       "        vertical-align: top;\n",
       "    }\n",
       "\n",
       "    .dataframe thead th {\n",
       "        text-align: right;\n",
       "    }\n",
       "</style>\n",
       "<table border=\"1\" class=\"dataframe\">\n",
       "  <thead>\n",
       "    <tr style=\"text-align: right;\">\n",
       "      <th></th>\n",
       "      <th>Score</th>\n",
       "    </tr>\n",
       "    <tr>\n",
       "      <th>Specs</th>\n",
       "      <th></th>\n",
       "    </tr>\n",
       "  </thead>\n",
       "  <tbody>\n",
       "    <tr>\n",
       "      <th>var_180</th>\n",
       "      <td>13.870855</td>\n",
       "    </tr>\n",
       "    <tr>\n",
       "      <th>var_172</th>\n",
       "      <td>12.964053</td>\n",
       "    </tr>\n",
       "    <tr>\n",
       "      <th>var_219</th>\n",
       "      <td>11.137178</td>\n",
       "    </tr>\n",
       "    <tr>\n",
       "      <th>var_77</th>\n",
       "      <td>10.687868</td>\n",
       "    </tr>\n",
       "    <tr>\n",
       "      <th>var_252</th>\n",
       "      <td>9.649807</td>\n",
       "    </tr>\n",
       "    <tr>\n",
       "      <th>...</th>\n",
       "      <td>...</td>\n",
       "    </tr>\n",
       "    <tr>\n",
       "      <th>var_208</th>\n",
       "      <td>1.330205</td>\n",
       "    </tr>\n",
       "    <tr>\n",
       "      <th>var_233</th>\n",
       "      <td>1.312750</td>\n",
       "    </tr>\n",
       "    <tr>\n",
       "      <th>var_166</th>\n",
       "      <td>1.274114</td>\n",
       "    </tr>\n",
       "    <tr>\n",
       "      <th>var_255</th>\n",
       "      <td>1.252865</td>\n",
       "    </tr>\n",
       "    <tr>\n",
       "      <th>var_287</th>\n",
       "      <td>1.239691</td>\n",
       "    </tr>\n",
       "  </tbody>\n",
       "</table>\n",
       "<p>100 rows × 1 columns</p>\n",
       "</div>"
      ],
      "text/plain": [
       "             Score\n",
       "Specs             \n",
       "var_180  13.870855\n",
       "var_172  12.964053\n",
       "var_219  11.137178\n",
       "var_77   10.687868\n",
       "var_252   9.649807\n",
       "...            ...\n",
       "var_208   1.330205\n",
       "var_233   1.312750\n",
       "var_166   1.274114\n",
       "var_255   1.252865\n",
       "var_287   1.239691\n",
       "\n",
       "[100 rows x 1 columns]"
      ]
     },
     "execution_count": 11,
     "metadata": {},
     "output_type": "execute_result"
    }
   ],
   "source": [
    "bestfeatures = SelectKBest(k=100, score_func=f_classif)\n",
    "fit = bestfeatures.fit(X,y)\n",
    "df_columns = pd.DataFrame(X.columns)\n",
    "df_scores = pd.DataFrame(fit.scores_)\n",
    "\n",
    "feature_scores_df = pd.concat([df_columns, df_scores], axis=1)\n",
    "feature_scores_df = feature_scores_df.dropna()\n",
    "feature_scores_df.columns = ['Specs','Score']\n",
    "\n",
    "top100 = feature_scores_df.nlargest(100, 'Score').set_index('Specs')\n",
    "top100"
   ]
  },
  {
   "attachments": {},
   "cell_type": "markdown",
   "metadata": {},
   "source": [
    "The higher the value, the more significant the feature is to the model. If we look at the bottom features (shown below), we can see that these functions that have a score of 0, which means they don't play a major part in the model, so we can drop those features."
   ]
  },
  {
   "cell_type": "code",
   "execution_count": 12,
   "metadata": {},
   "outputs": [
    {
     "data": {
      "text/html": [
       "<div>\n",
       "<style scoped>\n",
       "    .dataframe tbody tr th:only-of-type {\n",
       "        vertical-align: middle;\n",
       "    }\n",
       "\n",
       "    .dataframe tbody tr th {\n",
       "        vertical-align: top;\n",
       "    }\n",
       "\n",
       "    .dataframe thead th {\n",
       "        text-align: right;\n",
       "    }\n",
       "</style>\n",
       "<table border=\"1\" class=\"dataframe\">\n",
       "  <thead>\n",
       "    <tr style=\"text-align: right;\">\n",
       "      <th></th>\n",
       "      <th>Score</th>\n",
       "    </tr>\n",
       "    <tr>\n",
       "      <th>Specs</th>\n",
       "      <th></th>\n",
       "    </tr>\n",
       "  </thead>\n",
       "  <tbody>\n",
       "    <tr>\n",
       "      <th>var_180</th>\n",
       "      <td>13.870855</td>\n",
       "    </tr>\n",
       "    <tr>\n",
       "      <th>var_172</th>\n",
       "      <td>12.964053</td>\n",
       "    </tr>\n",
       "    <tr>\n",
       "      <th>var_219</th>\n",
       "      <td>11.137178</td>\n",
       "    </tr>\n",
       "    <tr>\n",
       "      <th>var_77</th>\n",
       "      <td>10.687868</td>\n",
       "    </tr>\n",
       "    <tr>\n",
       "      <th>var_252</th>\n",
       "      <td>9.649807</td>\n",
       "    </tr>\n",
       "    <tr>\n",
       "      <th>...</th>\n",
       "      <td>...</td>\n",
       "    </tr>\n",
       "    <tr>\n",
       "      <th>var_85</th>\n",
       "      <td>0.000896</td>\n",
       "    </tr>\n",
       "    <tr>\n",
       "      <th>var_69</th>\n",
       "      <td>0.000235</td>\n",
       "    </tr>\n",
       "    <tr>\n",
       "      <th>var_238</th>\n",
       "      <td>0.000197</td>\n",
       "    </tr>\n",
       "    <tr>\n",
       "      <th>var_105</th>\n",
       "      <td>0.000130</td>\n",
       "    </tr>\n",
       "    <tr>\n",
       "      <th>var_130</th>\n",
       "      <td>0.000089</td>\n",
       "    </tr>\n",
       "  </tbody>\n",
       "</table>\n",
       "<p>300 rows × 1 columns</p>\n",
       "</div>"
      ],
      "text/plain": [
       "             Score\n",
       "Specs             \n",
       "var_180  13.870855\n",
       "var_172  12.964053\n",
       "var_219  11.137178\n",
       "var_77   10.687868\n",
       "var_252   9.649807\n",
       "...            ...\n",
       "var_85    0.000896\n",
       "var_69    0.000235\n",
       "var_238   0.000197\n",
       "var_105   0.000130\n",
       "var_130   0.000089\n",
       "\n",
       "[300 rows x 1 columns]"
      ]
     },
     "execution_count": 12,
     "metadata": {},
     "output_type": "execute_result"
    }
   ],
   "source": [
    "feature_scores_df.nlargest(300, 'Score').set_index('Specs')"
   ]
  },
  {
   "attachments": {},
   "cell_type": "markdown",
   "metadata": {},
   "source": [
    "There's a lot of features for our target variable. We can use PCA to compress our dataset while retaining 95% of variance to speed up our ML models."
   ]
  },
  {
   "cell_type": "code",
   "execution_count": 13,
   "metadata": {},
   "outputs": [
    {
     "data": {
      "text/plain": [
       "Index(['var_180', 'var_172', 'var_219', 'var_77', 'var_252', 'var_203',\n",
       "       'var_170', 'var_239', 'var_271', 'var_117', 'var_93', 'var_198',\n",
       "       'var_116', 'var_286', 'var_276', 'var_181', 'var_138', 'var_40',\n",
       "       'var_247', 'var_53', 'var_294', 'var_253', 'var_249', 'var_270',\n",
       "       'var_298', 'var_195', 'var_119', 'var_153', 'var_71', 'var_29',\n",
       "       'var_218', 'var_127', 'var_1', 'var_50', 'var_4', 'var_57', 'var_258',\n",
       "       'var_19', 'var_34', 'var_157', 'var_223', 'var_272', 'var_282',\n",
       "       'var_78', 'var_204', 'var_296', 'var_13', 'var_199', 'var_186',\n",
       "       'var_10', 'var_281', 'var_112', 'var_235', 'var_28', 'var_168',\n",
       "       'var_58', 'var_63', 'var_45', 'var_237', 'var_288', 'var_60', 'var_70',\n",
       "       'var_42', 'var_131', 'var_178', 'var_236', 'var_275', 'var_179',\n",
       "       'var_158', 'var_206', 'var_151', 'var_31', 'var_139', 'var_15',\n",
       "       'var_222', 'var_224', 'var_257', 'var_84', 'var_279', 'var_26',\n",
       "       'var_62', 'var_291', 'var_143', 'var_64', 'var_43', 'var_269', 'var_76',\n",
       "       'var_164', 'var_200', 'var_182', 'var_201', 'var_126', 'var_66',\n",
       "       'var_184', 'var_12', 'var_208', 'var_233', 'var_166', 'var_255',\n",
       "       'var_287'],\n",
       "      dtype='object', name='Specs')"
      ]
     },
     "execution_count": 13,
     "metadata": {},
     "output_type": "execute_result"
    }
   ],
   "source": [
    "top100.index"
   ]
  },
  {
   "cell_type": "code",
   "execution_count": 14,
   "metadata": {},
   "outputs": [
    {
     "data": {
      "text/html": [
       "<div>\n",
       "<style scoped>\n",
       "    .dataframe tbody tr th:only-of-type {\n",
       "        vertical-align: middle;\n",
       "    }\n",
       "\n",
       "    .dataframe tbody tr th {\n",
       "        vertical-align: top;\n",
       "    }\n",
       "\n",
       "    .dataframe thead th {\n",
       "        text-align: right;\n",
       "    }\n",
       "</style>\n",
       "<table border=\"1\" class=\"dataframe\">\n",
       "  <thead>\n",
       "    <tr style=\"text-align: right;\">\n",
       "      <th></th>\n",
       "      <th>var_180</th>\n",
       "      <th>var_172</th>\n",
       "      <th>var_219</th>\n",
       "      <th>var_77</th>\n",
       "      <th>var_252</th>\n",
       "      <th>var_203</th>\n",
       "      <th>var_170</th>\n",
       "      <th>var_239</th>\n",
       "      <th>var_271</th>\n",
       "      <th>var_117</th>\n",
       "      <th>...</th>\n",
       "      <th>var_201</th>\n",
       "      <th>var_126</th>\n",
       "      <th>var_66</th>\n",
       "      <th>var_184</th>\n",
       "      <th>var_12</th>\n",
       "      <th>var_208</th>\n",
       "      <th>var_233</th>\n",
       "      <th>var_166</th>\n",
       "      <th>var_255</th>\n",
       "      <th>var_287</th>\n",
       "    </tr>\n",
       "  </thead>\n",
       "  <tbody>\n",
       "    <tr>\n",
       "      <th>0</th>\n",
       "      <td>0.101</td>\n",
       "      <td>0.475</td>\n",
       "      <td>0.000</td>\n",
       "      <td>0.205</td>\n",
       "      <td>0.485</td>\n",
       "      <td>0.603</td>\n",
       "      <td>0.428</td>\n",
       "      <td>0.095</td>\n",
       "      <td>0.629</td>\n",
       "      <td>0.131</td>\n",
       "      <td>...</td>\n",
       "      <td>0.354</td>\n",
       "      <td>0.568</td>\n",
       "      <td>0.551</td>\n",
       "      <td>0.317</td>\n",
       "      <td>0.001</td>\n",
       "      <td>0.324</td>\n",
       "      <td>0.835</td>\n",
       "      <td>0.674</td>\n",
       "      <td>0.008</td>\n",
       "      <td>0.281</td>\n",
       "    </tr>\n",
       "    <tr>\n",
       "      <th>1</th>\n",
       "      <td>0.801</td>\n",
       "      <td>0.727</td>\n",
       "      <td>0.301</td>\n",
       "      <td>0.260</td>\n",
       "      <td>0.866</td>\n",
       "      <td>0.886</td>\n",
       "      <td>0.302</td>\n",
       "      <td>0.355</td>\n",
       "      <td>0.881</td>\n",
       "      <td>0.669</td>\n",
       "      <td>...</td>\n",
       "      <td>0.320</td>\n",
       "      <td>0.733</td>\n",
       "      <td>0.597</td>\n",
       "      <td>0.607</td>\n",
       "      <td>0.817</td>\n",
       "      <td>0.324</td>\n",
       "      <td>0.847</td>\n",
       "      <td>0.984</td>\n",
       "      <td>0.902</td>\n",
       "      <td>0.275</td>\n",
       "    </tr>\n",
       "    <tr>\n",
       "      <th>2</th>\n",
       "      <td>0.407</td>\n",
       "      <td>0.625</td>\n",
       "      <td>0.392</td>\n",
       "      <td>0.518</td>\n",
       "      <td>0.010</td>\n",
       "      <td>0.891</td>\n",
       "      <td>0.765</td>\n",
       "      <td>0.261</td>\n",
       "      <td>0.265</td>\n",
       "      <td>0.195</td>\n",
       "      <td>...</td>\n",
       "      <td>0.382</td>\n",
       "      <td>0.152</td>\n",
       "      <td>0.006</td>\n",
       "      <td>0.698</td>\n",
       "      <td>0.731</td>\n",
       "      <td>0.406</td>\n",
       "      <td>0.716</td>\n",
       "      <td>0.573</td>\n",
       "      <td>0.856</td>\n",
       "      <td>0.385</td>\n",
       "    </tr>\n",
       "    <tr>\n",
       "      <th>3</th>\n",
       "      <td>0.271</td>\n",
       "      <td>0.770</td>\n",
       "      <td>0.253</td>\n",
       "      <td>0.483</td>\n",
       "      <td>0.887</td>\n",
       "      <td>0.919</td>\n",
       "      <td>0.770</td>\n",
       "      <td>0.031</td>\n",
       "      <td>0.265</td>\n",
       "      <td>0.507</td>\n",
       "      <td>...</td>\n",
       "      <td>0.928</td>\n",
       "      <td>0.223</td>\n",
       "      <td>0.219</td>\n",
       "      <td>0.571</td>\n",
       "      <td>0.974</td>\n",
       "      <td>0.829</td>\n",
       "      <td>0.299</td>\n",
       "      <td>0.262</td>\n",
       "      <td>0.223</td>\n",
       "      <td>0.391</td>\n",
       "    </tr>\n",
       "    <tr>\n",
       "      <th>4</th>\n",
       "      <td>0.515</td>\n",
       "      <td>0.298</td>\n",
       "      <td>0.339</td>\n",
       "      <td>0.535</td>\n",
       "      <td>0.772</td>\n",
       "      <td>0.292</td>\n",
       "      <td>0.799</td>\n",
       "      <td>0.929</td>\n",
       "      <td>0.555</td>\n",
       "      <td>0.552</td>\n",
       "      <td>...</td>\n",
       "      <td>0.226</td>\n",
       "      <td>0.283</td>\n",
       "      <td>0.424</td>\n",
       "      <td>0.465</td>\n",
       "      <td>0.731</td>\n",
       "      <td>0.508</td>\n",
       "      <td>0.047</td>\n",
       "      <td>0.637</td>\n",
       "      <td>0.490</td>\n",
       "      <td>0.921</td>\n",
       "    </tr>\n",
       "    <tr>\n",
       "      <th>...</th>\n",
       "      <td>...</td>\n",
       "      <td>...</td>\n",
       "      <td>...</td>\n",
       "      <td>...</td>\n",
       "      <td>...</td>\n",
       "      <td>...</td>\n",
       "      <td>...</td>\n",
       "      <td>...</td>\n",
       "      <td>...</td>\n",
       "      <td>...</td>\n",
       "      <td>...</td>\n",
       "      <td>...</td>\n",
       "      <td>...</td>\n",
       "      <td>...</td>\n",
       "      <td>...</td>\n",
       "      <td>...</td>\n",
       "      <td>...</td>\n",
       "      <td>...</td>\n",
       "      <td>...</td>\n",
       "      <td>...</td>\n",
       "      <td>...</td>\n",
       "    </tr>\n",
       "    <tr>\n",
       "      <th>245</th>\n",
       "      <td>0.777</td>\n",
       "      <td>0.604</td>\n",
       "      <td>0.759</td>\n",
       "      <td>0.847</td>\n",
       "      <td>0.416</td>\n",
       "      <td>0.435</td>\n",
       "      <td>0.211</td>\n",
       "      <td>0.248</td>\n",
       "      <td>0.978</td>\n",
       "      <td>0.248</td>\n",
       "      <td>...</td>\n",
       "      <td>0.565</td>\n",
       "      <td>0.717</td>\n",
       "      <td>0.196</td>\n",
       "      <td>0.976</td>\n",
       "      <td>0.435</td>\n",
       "      <td>0.335</td>\n",
       "      <td>0.193</td>\n",
       "      <td>0.074</td>\n",
       "      <td>0.428</td>\n",
       "      <td>0.225</td>\n",
       "    </tr>\n",
       "    <tr>\n",
       "      <th>246</th>\n",
       "      <td>0.541</td>\n",
       "      <td>0.938</td>\n",
       "      <td>0.333</td>\n",
       "      <td>0.929</td>\n",
       "      <td>0.872</td>\n",
       "      <td>0.424</td>\n",
       "      <td>0.823</td>\n",
       "      <td>0.143</td>\n",
       "      <td>0.939</td>\n",
       "      <td>0.336</td>\n",
       "      <td>...</td>\n",
       "      <td>0.725</td>\n",
       "      <td>0.816</td>\n",
       "      <td>0.902</td>\n",
       "      <td>0.726</td>\n",
       "      <td>0.405</td>\n",
       "      <td>0.756</td>\n",
       "      <td>0.121</td>\n",
       "      <td>0.154</td>\n",
       "      <td>0.117</td>\n",
       "      <td>0.615</td>\n",
       "    </tr>\n",
       "    <tr>\n",
       "      <th>247</th>\n",
       "      <td>0.371</td>\n",
       "      <td>0.238</td>\n",
       "      <td>0.849</td>\n",
       "      <td>0.690</td>\n",
       "      <td>0.194</td>\n",
       "      <td>0.169</td>\n",
       "      <td>0.318</td>\n",
       "      <td>0.646</td>\n",
       "      <td>0.297</td>\n",
       "      <td>0.316</td>\n",
       "      <td>...</td>\n",
       "      <td>0.995</td>\n",
       "      <td>0.015</td>\n",
       "      <td>0.554</td>\n",
       "      <td>0.808</td>\n",
       "      <td>0.359</td>\n",
       "      <td>0.257</td>\n",
       "      <td>0.221</td>\n",
       "      <td>0.703</td>\n",
       "      <td>0.320</td>\n",
       "      <td>0.699</td>\n",
       "    </tr>\n",
       "    <tr>\n",
       "      <th>248</th>\n",
       "      <td>0.764</td>\n",
       "      <td>0.633</td>\n",
       "      <td>0.404</td>\n",
       "      <td>0.865</td>\n",
       "      <td>0.496</td>\n",
       "      <td>0.579</td>\n",
       "      <td>0.991</td>\n",
       "      <td>0.652</td>\n",
       "      <td>0.458</td>\n",
       "      <td>0.307</td>\n",
       "      <td>...</td>\n",
       "      <td>0.665</td>\n",
       "      <td>0.119</td>\n",
       "      <td>0.229</td>\n",
       "      <td>0.022</td>\n",
       "      <td>0.191</td>\n",
       "      <td>0.806</td>\n",
       "      <td>0.495</td>\n",
       "      <td>0.388</td>\n",
       "      <td>0.277</td>\n",
       "      <td>0.715</td>\n",
       "    </tr>\n",
       "    <tr>\n",
       "      <th>249</th>\n",
       "      <td>0.333</td>\n",
       "      <td>0.210</td>\n",
       "      <td>0.864</td>\n",
       "      <td>0.290</td>\n",
       "      <td>0.802</td>\n",
       "      <td>0.268</td>\n",
       "      <td>0.041</td>\n",
       "      <td>0.023</td>\n",
       "      <td>0.191</td>\n",
       "      <td>0.777</td>\n",
       "      <td>...</td>\n",
       "      <td>0.820</td>\n",
       "      <td>0.398</td>\n",
       "      <td>0.491</td>\n",
       "      <td>0.328</td>\n",
       "      <td>0.564</td>\n",
       "      <td>0.937</td>\n",
       "      <td>0.444</td>\n",
       "      <td>0.404</td>\n",
       "      <td>0.640</td>\n",
       "      <td>0.402</td>\n",
       "    </tr>\n",
       "  </tbody>\n",
       "</table>\n",
       "<p>250 rows × 100 columns</p>\n",
       "</div>"
      ],
      "text/plain": [
       "     var_180  var_172  var_219  var_77  var_252  var_203  var_170  var_239  \\\n",
       "0      0.101    0.475    0.000   0.205    0.485    0.603    0.428    0.095   \n",
       "1      0.801    0.727    0.301   0.260    0.866    0.886    0.302    0.355   \n",
       "2      0.407    0.625    0.392   0.518    0.010    0.891    0.765    0.261   \n",
       "3      0.271    0.770    0.253   0.483    0.887    0.919    0.770    0.031   \n",
       "4      0.515    0.298    0.339   0.535    0.772    0.292    0.799    0.929   \n",
       "..       ...      ...      ...     ...      ...      ...      ...      ...   \n",
       "245    0.777    0.604    0.759   0.847    0.416    0.435    0.211    0.248   \n",
       "246    0.541    0.938    0.333   0.929    0.872    0.424    0.823    0.143   \n",
       "247    0.371    0.238    0.849   0.690    0.194    0.169    0.318    0.646   \n",
       "248    0.764    0.633    0.404   0.865    0.496    0.579    0.991    0.652   \n",
       "249    0.333    0.210    0.864   0.290    0.802    0.268    0.041    0.023   \n",
       "\n",
       "     var_271  var_117  ...  var_201  var_126  var_66  var_184  var_12  \\\n",
       "0      0.629    0.131  ...    0.354    0.568   0.551    0.317   0.001   \n",
       "1      0.881    0.669  ...    0.320    0.733   0.597    0.607   0.817   \n",
       "2      0.265    0.195  ...    0.382    0.152   0.006    0.698   0.731   \n",
       "3      0.265    0.507  ...    0.928    0.223   0.219    0.571   0.974   \n",
       "4      0.555    0.552  ...    0.226    0.283   0.424    0.465   0.731   \n",
       "..       ...      ...  ...      ...      ...     ...      ...     ...   \n",
       "245    0.978    0.248  ...    0.565    0.717   0.196    0.976   0.435   \n",
       "246    0.939    0.336  ...    0.725    0.816   0.902    0.726   0.405   \n",
       "247    0.297    0.316  ...    0.995    0.015   0.554    0.808   0.359   \n",
       "248    0.458    0.307  ...    0.665    0.119   0.229    0.022   0.191   \n",
       "249    0.191    0.777  ...    0.820    0.398   0.491    0.328   0.564   \n",
       "\n",
       "     var_208  var_233  var_166  var_255  var_287  \n",
       "0      0.324    0.835    0.674    0.008    0.281  \n",
       "1      0.324    0.847    0.984    0.902    0.275  \n",
       "2      0.406    0.716    0.573    0.856    0.385  \n",
       "3      0.829    0.299    0.262    0.223    0.391  \n",
       "4      0.508    0.047    0.637    0.490    0.921  \n",
       "..       ...      ...      ...      ...      ...  \n",
       "245    0.335    0.193    0.074    0.428    0.225  \n",
       "246    0.756    0.121    0.154    0.117    0.615  \n",
       "247    0.257    0.221    0.703    0.320    0.699  \n",
       "248    0.806    0.495    0.388    0.277    0.715  \n",
       "249    0.937    0.444    0.404    0.640    0.402  \n",
       "\n",
       "[250 rows x 100 columns]"
      ]
     },
     "execution_count": 14,
     "metadata": {},
     "output_type": "execute_result"
    }
   ],
   "source": [
    "X1 = train_set[['var_180', 'var_172', 'var_219', 'var_77', 'var_252', 'var_203',\n",
    "       'var_170', 'var_239', 'var_271', 'var_117', 'var_93', 'var_198',\n",
    "       'var_116', 'var_286', 'var_276', 'var_181', 'var_138', 'var_40',\n",
    "       'var_247', 'var_53', 'var_294', 'var_253', 'var_249', 'var_270',\n",
    "       'var_298', 'var_195', 'var_119', 'var_153', 'var_71', 'var_29',\n",
    "       'var_218', 'var_127', 'var_1', 'var_50', 'var_4', 'var_57', 'var_258',\n",
    "       'var_19', 'var_34', 'var_157', 'var_223', 'var_272', 'var_282',\n",
    "       'var_78', 'var_204', 'var_296', 'var_13', 'var_199', 'var_186',\n",
    "       'var_10', 'var_281', 'var_112', 'var_235', 'var_28', 'var_168',\n",
    "       'var_58', 'var_63', 'var_45', 'var_237', 'var_288', 'var_60', 'var_70',\n",
    "       'var_42', 'var_131', 'var_178', 'var_236', 'var_275', 'var_179',\n",
    "       'var_158', 'var_206', 'var_151', 'var_31', 'var_139', 'var_15',\n",
    "       'var_222', 'var_224', 'var_257', 'var_84', 'var_279', 'var_26',\n",
    "       'var_62', 'var_291', 'var_143', 'var_64', 'var_43', 'var_269', 'var_76',\n",
    "       'var_164', 'var_200', 'var_182', 'var_201', 'var_126', 'var_66',\n",
    "       'var_184', 'var_12', 'var_208', 'var_233', 'var_166', 'var_255',\n",
    "       'var_287']]\n",
    "X1"
   ]
  },
  {
   "cell_type": "code",
   "execution_count": 15,
   "metadata": {},
   "outputs": [],
   "source": [
    "# Here, we can split both our training set using train_test_split on our feature selected dataset.\n",
    "\n",
    "from sklearn.model_selection import train_test_split\n",
    "X_train, X_test, y_train, y_test = train_test_split(X1,y,test_size=0.2, random_state=42)"
   ]
  },
  {
   "cell_type": "code",
   "execution_count": 16,
   "metadata": {},
   "outputs": [
    {
     "name": "stdout",
     "output_type": "stream",
     "text": [
      "(200, 100) (50, 100) (200,) (50,)\n"
     ]
    }
   ],
   "source": [
    "# Check if our dimension for train and test set is correct\n",
    "print(X_train.shape, X_test.shape, y_train.shape, y_test.shape)"
   ]
  },
  {
   "attachments": {},
   "cell_type": "markdown",
   "metadata": {},
   "source": [
    "## Principal Component Space (PCA)"
   ]
  },
  {
   "attachments": {},
   "cell_type": "markdown",
   "metadata": {},
   "source": [
    "Here, since our dataset has a lot of features, it would be helpful to reduce our model complexity by introducing PCA. We retain 95% explained variance."
   ]
  },
  {
   "cell_type": "code",
   "execution_count": 17,
   "metadata": {},
   "outputs": [],
   "source": [
    "from sklearn.decomposition import PCA\n",
    "\n",
    "pca = PCA(n_components=0.95)\n",
    "pcomp = pca.fit(X_train)"
   ]
  },
  {
   "cell_type": "code",
   "execution_count": 18,
   "metadata": {},
   "outputs": [
    {
     "data": {
      "text/plain": [
       "77"
      ]
     },
     "execution_count": 18,
     "metadata": {},
     "output_type": "execute_result"
    }
   ],
   "source": [
    "# number of principal components projected in the Eigen space with 95% explained variance\n",
    "len(pca.components_)"
   ]
  },
  {
   "cell_type": "code",
   "execution_count": 19,
   "metadata": {},
   "outputs": [
    {
     "data": {
      "image/png": "[encoded data removed]",
      "text/plain": [
       "<Figure size 1400x400 with 2 Axes>"
      ]
     },
     "metadata": {},
     "output_type": "display_data"
    }
   ],
   "source": [
    "num_eigenvalues = 100\n",
    "fig, axes = plt.subplots(ncols=2, figsize=(14,4))\n",
    "Series1= pd.Series(pca.explained_variance_ratio_[:num_eigenvalues]).sort_values()*100\n",
    "Series2 = pd.Series(pca.explained_variance_ratio_[:num_eigenvalues]).cumsum()*100\n",
    "\n",
    "#Series1 will be hard to see, but if there were less target attributes to work with, you would be able to visually see it properly\n",
    "Series1.plot.barh(ylim=(0,9), label='woohoo', title='Explained Variance Ratio by Top X factors', ax=axes[0]);\n",
    "Series2.plot(ylim=(0,100),xlim=(0,100),ax=axes[1], title='Cumulative Explained Variance by factor');"
   ]
  },
  {
   "attachments": {},
   "cell_type": "markdown",
   "metadata": {},
   "source": [
    "If we uncomment this, we can see that at 77 Eigen values, we can expect to see 95% explained variance retained when using PCA, which is better than having 100 features (or 300 had we not performed feature selection) to go through, which time is always a constraint to the many machine learning models to loop through."
   ]
  },
  {
   "cell_type": "code",
   "execution_count": 20,
   "metadata": {},
   "outputs": [
    {
     "data": {
      "text/html": [
       "<style type=\"text/css\">\n",
       "</style>\n",
       "<table id=\"T_779b8\">\n",
       "  <thead>\n",
       "    <tr>\n",
       "      <th class=\"blank level0\" >&nbsp;</th>\n",
       "      <th id=\"T_779b8_level0_col0\" class=\"col_heading level0 col0\" >Explained Variance</th>\n",
       "    </tr>\n",
       "  </thead>\n",
       "  <tbody>\n",
       "    <tr>\n",
       "      <th id=\"T_779b8_level0_row0\" class=\"row_heading level0 row0\" >0</th>\n",
       "      <td id=\"T_779b8_row0_col0\" class=\"data row0 col0\" >2.88%</td>\n",
       "    </tr>\n",
       "    <tr>\n",
       "      <th id=\"T_779b8_level0_row1\" class=\"row_heading level0 row1\" >1</th>\n",
       "      <td id=\"T_779b8_row1_col0\" class=\"data row1 col0\" >5.63%</td>\n",
       "    </tr>\n",
       "    <tr>\n",
       "      <th id=\"T_779b8_level0_row2\" class=\"row_heading level0 row2\" >2</th>\n",
       "      <td id=\"T_779b8_row2_col0\" class=\"data row2 col0\" >8.26%</td>\n",
       "    </tr>\n",
       "    <tr>\n",
       "      <th id=\"T_779b8_level0_row3\" class=\"row_heading level0 row3\" >3</th>\n",
       "      <td id=\"T_779b8_row3_col0\" class=\"data row3 col0\" >10.78%</td>\n",
       "    </tr>\n",
       "    <tr>\n",
       "      <th id=\"T_779b8_level0_row4\" class=\"row_heading level0 row4\" >4</th>\n",
       "      <td id=\"T_779b8_row4_col0\" class=\"data row4 col0\" >13.23%</td>\n",
       "    </tr>\n",
       "    <tr>\n",
       "      <th id=\"T_779b8_level0_row5\" class=\"row_heading level0 row5\" >5</th>\n",
       "      <td id=\"T_779b8_row5_col0\" class=\"data row5 col0\" >15.57%</td>\n",
       "    </tr>\n",
       "    <tr>\n",
       "      <th id=\"T_779b8_level0_row6\" class=\"row_heading level0 row6\" >6</th>\n",
       "      <td id=\"T_779b8_row6_col0\" class=\"data row6 col0\" >17.88%</td>\n",
       "    </tr>\n",
       "    <tr>\n",
       "      <th id=\"T_779b8_level0_row7\" class=\"row_heading level0 row7\" >7</th>\n",
       "      <td id=\"T_779b8_row7_col0\" class=\"data row7 col0\" >20.13%</td>\n",
       "    </tr>\n",
       "    <tr>\n",
       "      <th id=\"T_779b8_level0_row8\" class=\"row_heading level0 row8\" >8</th>\n",
       "      <td id=\"T_779b8_row8_col0\" class=\"data row8 col0\" >22.30%</td>\n",
       "    </tr>\n",
       "    <tr>\n",
       "      <th id=\"T_779b8_level0_row9\" class=\"row_heading level0 row9\" >9</th>\n",
       "      <td id=\"T_779b8_row9_col0\" class=\"data row9 col0\" >24.41%</td>\n",
       "    </tr>\n",
       "    <tr>\n",
       "      <th id=\"T_779b8_level0_row10\" class=\"row_heading level0 row10\" >10</th>\n",
       "      <td id=\"T_779b8_row10_col0\" class=\"data row10 col0\" >26.51%</td>\n",
       "    </tr>\n",
       "    <tr>\n",
       "      <th id=\"T_779b8_level0_row11\" class=\"row_heading level0 row11\" >11</th>\n",
       "      <td id=\"T_779b8_row11_col0\" class=\"data row11 col0\" >28.52%</td>\n",
       "    </tr>\n",
       "    <tr>\n",
       "      <th id=\"T_779b8_level0_row12\" class=\"row_heading level0 row12\" >12</th>\n",
       "      <td id=\"T_779b8_row12_col0\" class=\"data row12 col0\" >30.49%</td>\n",
       "    </tr>\n",
       "    <tr>\n",
       "      <th id=\"T_779b8_level0_row13\" class=\"row_heading level0 row13\" >13</th>\n",
       "      <td id=\"T_779b8_row13_col0\" class=\"data row13 col0\" >32.43%</td>\n",
       "    </tr>\n",
       "    <tr>\n",
       "      <th id=\"T_779b8_level0_row14\" class=\"row_heading level0 row14\" >14</th>\n",
       "      <td id=\"T_779b8_row14_col0\" class=\"data row14 col0\" >34.29%</td>\n",
       "    </tr>\n",
       "    <tr>\n",
       "      <th id=\"T_779b8_level0_row15\" class=\"row_heading level0 row15\" >15</th>\n",
       "      <td id=\"T_779b8_row15_col0\" class=\"data row15 col0\" >36.13%</td>\n",
       "    </tr>\n",
       "    <tr>\n",
       "      <th id=\"T_779b8_level0_row16\" class=\"row_heading level0 row16\" >16</th>\n",
       "      <td id=\"T_779b8_row16_col0\" class=\"data row16 col0\" >37.96%</td>\n",
       "    </tr>\n",
       "    <tr>\n",
       "      <th id=\"T_779b8_level0_row17\" class=\"row_heading level0 row17\" >17</th>\n",
       "      <td id=\"T_779b8_row17_col0\" class=\"data row17 col0\" >39.74%</td>\n",
       "    </tr>\n",
       "    <tr>\n",
       "      <th id=\"T_779b8_level0_row18\" class=\"row_heading level0 row18\" >18</th>\n",
       "      <td id=\"T_779b8_row18_col0\" class=\"data row18 col0\" >41.46%</td>\n",
       "    </tr>\n",
       "    <tr>\n",
       "      <th id=\"T_779b8_level0_row19\" class=\"row_heading level0 row19\" >19</th>\n",
       "      <td id=\"T_779b8_row19_col0\" class=\"data row19 col0\" >43.14%</td>\n",
       "    </tr>\n",
       "    <tr>\n",
       "      <th id=\"T_779b8_level0_row20\" class=\"row_heading level0 row20\" >20</th>\n",
       "      <td id=\"T_779b8_row20_col0\" class=\"data row20 col0\" >44.78%</td>\n",
       "    </tr>\n",
       "    <tr>\n",
       "      <th id=\"T_779b8_level0_row21\" class=\"row_heading level0 row21\" >21</th>\n",
       "      <td id=\"T_779b8_row21_col0\" class=\"data row21 col0\" >46.40%</td>\n",
       "    </tr>\n",
       "    <tr>\n",
       "      <th id=\"T_779b8_level0_row22\" class=\"row_heading level0 row22\" >22</th>\n",
       "      <td id=\"T_779b8_row22_col0\" class=\"data row22 col0\" >48.01%</td>\n",
       "    </tr>\n",
       "    <tr>\n",
       "      <th id=\"T_779b8_level0_row23\" class=\"row_heading level0 row23\" >23</th>\n",
       "      <td id=\"T_779b8_row23_col0\" class=\"data row23 col0\" >49.54%</td>\n",
       "    </tr>\n",
       "    <tr>\n",
       "      <th id=\"T_779b8_level0_row24\" class=\"row_heading level0 row24\" >24</th>\n",
       "      <td id=\"T_779b8_row24_col0\" class=\"data row24 col0\" >51.06%</td>\n",
       "    </tr>\n",
       "    <tr>\n",
       "      <th id=\"T_779b8_level0_row25\" class=\"row_heading level0 row25\" >25</th>\n",
       "      <td id=\"T_779b8_row25_col0\" class=\"data row25 col0\" >52.55%</td>\n",
       "    </tr>\n",
       "    <tr>\n",
       "      <th id=\"T_779b8_level0_row26\" class=\"row_heading level0 row26\" >26</th>\n",
       "      <td id=\"T_779b8_row26_col0\" class=\"data row26 col0\" >54.02%</td>\n",
       "    </tr>\n",
       "    <tr>\n",
       "      <th id=\"T_779b8_level0_row27\" class=\"row_heading level0 row27\" >27</th>\n",
       "      <td id=\"T_779b8_row27_col0\" class=\"data row27 col0\" >55.47%</td>\n",
       "    </tr>\n",
       "    <tr>\n",
       "      <th id=\"T_779b8_level0_row28\" class=\"row_heading level0 row28\" >28</th>\n",
       "      <td id=\"T_779b8_row28_col0\" class=\"data row28 col0\" >56.86%</td>\n",
       "    </tr>\n",
       "    <tr>\n",
       "      <th id=\"T_779b8_level0_row29\" class=\"row_heading level0 row29\" >29</th>\n",
       "      <td id=\"T_779b8_row29_col0\" class=\"data row29 col0\" >58.18%</td>\n",
       "    </tr>\n",
       "    <tr>\n",
       "      <th id=\"T_779b8_level0_row30\" class=\"row_heading level0 row30\" >30</th>\n",
       "      <td id=\"T_779b8_row30_col0\" class=\"data row30 col0\" >59.48%</td>\n",
       "    </tr>\n",
       "    <tr>\n",
       "      <th id=\"T_779b8_level0_row31\" class=\"row_heading level0 row31\" >31</th>\n",
       "      <td id=\"T_779b8_row31_col0\" class=\"data row31 col0\" >60.76%</td>\n",
       "    </tr>\n",
       "    <tr>\n",
       "      <th id=\"T_779b8_level0_row32\" class=\"row_heading level0 row32\" >32</th>\n",
       "      <td id=\"T_779b8_row32_col0\" class=\"data row32 col0\" >62.00%</td>\n",
       "    </tr>\n",
       "    <tr>\n",
       "      <th id=\"T_779b8_level0_row33\" class=\"row_heading level0 row33\" >33</th>\n",
       "      <td id=\"T_779b8_row33_col0\" class=\"data row33 col0\" >63.22%</td>\n",
       "    </tr>\n",
       "    <tr>\n",
       "      <th id=\"T_779b8_level0_row34\" class=\"row_heading level0 row34\" >34</th>\n",
       "      <td id=\"T_779b8_row34_col0\" class=\"data row34 col0\" >64.42%</td>\n",
       "    </tr>\n",
       "    <tr>\n",
       "      <th id=\"T_779b8_level0_row35\" class=\"row_heading level0 row35\" >35</th>\n",
       "      <td id=\"T_779b8_row35_col0\" class=\"data row35 col0\" >65.58%</td>\n",
       "    </tr>\n",
       "    <tr>\n",
       "      <th id=\"T_779b8_level0_row36\" class=\"row_heading level0 row36\" >36</th>\n",
       "      <td id=\"T_779b8_row36_col0\" class=\"data row36 col0\" >66.73%</td>\n",
       "    </tr>\n",
       "    <tr>\n",
       "      <th id=\"T_779b8_level0_row37\" class=\"row_heading level0 row37\" >37</th>\n",
       "      <td id=\"T_779b8_row37_col0\" class=\"data row37 col0\" >67.88%</td>\n",
       "    </tr>\n",
       "    <tr>\n",
       "      <th id=\"T_779b8_level0_row38\" class=\"row_heading level0 row38\" >38</th>\n",
       "      <td id=\"T_779b8_row38_col0\" class=\"data row38 col0\" >69.01%</td>\n",
       "    </tr>\n",
       "    <tr>\n",
       "      <th id=\"T_779b8_level0_row39\" class=\"row_heading level0 row39\" >39</th>\n",
       "      <td id=\"T_779b8_row39_col0\" class=\"data row39 col0\" >70.10%</td>\n",
       "    </tr>\n",
       "    <tr>\n",
       "      <th id=\"T_779b8_level0_row40\" class=\"row_heading level0 row40\" >40</th>\n",
       "      <td id=\"T_779b8_row40_col0\" class=\"data row40 col0\" >71.16%</td>\n",
       "    </tr>\n",
       "    <tr>\n",
       "      <th id=\"T_779b8_level0_row41\" class=\"row_heading level0 row41\" >41</th>\n",
       "      <td id=\"T_779b8_row41_col0\" class=\"data row41 col0\" >72.19%</td>\n",
       "    </tr>\n",
       "    <tr>\n",
       "      <th id=\"T_779b8_level0_row42\" class=\"row_heading level0 row42\" >42</th>\n",
       "      <td id=\"T_779b8_row42_col0\" class=\"data row42 col0\" >73.19%</td>\n",
       "    </tr>\n",
       "    <tr>\n",
       "      <th id=\"T_779b8_level0_row43\" class=\"row_heading level0 row43\" >43</th>\n",
       "      <td id=\"T_779b8_row43_col0\" class=\"data row43 col0\" >74.18%</td>\n",
       "    </tr>\n",
       "    <tr>\n",
       "      <th id=\"T_779b8_level0_row44\" class=\"row_heading level0 row44\" >44</th>\n",
       "      <td id=\"T_779b8_row44_col0\" class=\"data row44 col0\" >75.12%</td>\n",
       "    </tr>\n",
       "    <tr>\n",
       "      <th id=\"T_779b8_level0_row45\" class=\"row_heading level0 row45\" >45</th>\n",
       "      <td id=\"T_779b8_row45_col0\" class=\"data row45 col0\" >76.06%</td>\n",
       "    </tr>\n",
       "    <tr>\n",
       "      <th id=\"T_779b8_level0_row46\" class=\"row_heading level0 row46\" >46</th>\n",
       "      <td id=\"T_779b8_row46_col0\" class=\"data row46 col0\" >76.96%</td>\n",
       "    </tr>\n",
       "    <tr>\n",
       "      <th id=\"T_779b8_level0_row47\" class=\"row_heading level0 row47\" >47</th>\n",
       "      <td id=\"T_779b8_row47_col0\" class=\"data row47 col0\" >77.84%</td>\n",
       "    </tr>\n",
       "    <tr>\n",
       "      <th id=\"T_779b8_level0_row48\" class=\"row_heading level0 row48\" >48</th>\n",
       "      <td id=\"T_779b8_row48_col0\" class=\"data row48 col0\" >78.70%</td>\n",
       "    </tr>\n",
       "    <tr>\n",
       "      <th id=\"T_779b8_level0_row49\" class=\"row_heading level0 row49\" >49</th>\n",
       "      <td id=\"T_779b8_row49_col0\" class=\"data row49 col0\" >79.54%</td>\n",
       "    </tr>\n",
       "    <tr>\n",
       "      <th id=\"T_779b8_level0_row50\" class=\"row_heading level0 row50\" >50</th>\n",
       "      <td id=\"T_779b8_row50_col0\" class=\"data row50 col0\" >80.36%</td>\n",
       "    </tr>\n",
       "    <tr>\n",
       "      <th id=\"T_779b8_level0_row51\" class=\"row_heading level0 row51\" >51</th>\n",
       "      <td id=\"T_779b8_row51_col0\" class=\"data row51 col0\" >81.16%</td>\n",
       "    </tr>\n",
       "    <tr>\n",
       "      <th id=\"T_779b8_level0_row52\" class=\"row_heading level0 row52\" >52</th>\n",
       "      <td id=\"T_779b8_row52_col0\" class=\"data row52 col0\" >81.95%</td>\n",
       "    </tr>\n",
       "    <tr>\n",
       "      <th id=\"T_779b8_level0_row53\" class=\"row_heading level0 row53\" >53</th>\n",
       "      <td id=\"T_779b8_row53_col0\" class=\"data row53 col0\" >82.71%</td>\n",
       "    </tr>\n",
       "    <tr>\n",
       "      <th id=\"T_779b8_level0_row54\" class=\"row_heading level0 row54\" >54</th>\n",
       "      <td id=\"T_779b8_row54_col0\" class=\"data row54 col0\" >83.44%</td>\n",
       "    </tr>\n",
       "    <tr>\n",
       "      <th id=\"T_779b8_level0_row55\" class=\"row_heading level0 row55\" >55</th>\n",
       "      <td id=\"T_779b8_row55_col0\" class=\"data row55 col0\" >84.15%</td>\n",
       "    </tr>\n",
       "    <tr>\n",
       "      <th id=\"T_779b8_level0_row56\" class=\"row_heading level0 row56\" >56</th>\n",
       "      <td id=\"T_779b8_row56_col0\" class=\"data row56 col0\" >84.84%</td>\n",
       "    </tr>\n",
       "    <tr>\n",
       "      <th id=\"T_779b8_level0_row57\" class=\"row_heading level0 row57\" >57</th>\n",
       "      <td id=\"T_779b8_row57_col0\" class=\"data row57 col0\" >85.53%</td>\n",
       "    </tr>\n",
       "    <tr>\n",
       "      <th id=\"T_779b8_level0_row58\" class=\"row_heading level0 row58\" >58</th>\n",
       "      <td id=\"T_779b8_row58_col0\" class=\"data row58 col0\" >86.19%</td>\n",
       "    </tr>\n",
       "    <tr>\n",
       "      <th id=\"T_779b8_level0_row59\" class=\"row_heading level0 row59\" >59</th>\n",
       "      <td id=\"T_779b8_row59_col0\" class=\"data row59 col0\" >86.84%</td>\n",
       "    </tr>\n",
       "    <tr>\n",
       "      <th id=\"T_779b8_level0_row60\" class=\"row_heading level0 row60\" >60</th>\n",
       "      <td id=\"T_779b8_row60_col0\" class=\"data row60 col0\" >87.47%</td>\n",
       "    </tr>\n",
       "    <tr>\n",
       "      <th id=\"T_779b8_level0_row61\" class=\"row_heading level0 row61\" >61</th>\n",
       "      <td id=\"T_779b8_row61_col0\" class=\"data row61 col0\" >88.08%</td>\n",
       "    </tr>\n",
       "    <tr>\n",
       "      <th id=\"T_779b8_level0_row62\" class=\"row_heading level0 row62\" >62</th>\n",
       "      <td id=\"T_779b8_row62_col0\" class=\"data row62 col0\" >88.65%</td>\n",
       "    </tr>\n",
       "    <tr>\n",
       "      <th id=\"T_779b8_level0_row63\" class=\"row_heading level0 row63\" >63</th>\n",
       "      <td id=\"T_779b8_row63_col0\" class=\"data row63 col0\" >89.21%</td>\n",
       "    </tr>\n",
       "    <tr>\n",
       "      <th id=\"T_779b8_level0_row64\" class=\"row_heading level0 row64\" >64</th>\n",
       "      <td id=\"T_779b8_row64_col0\" class=\"data row64 col0\" >89.76%</td>\n",
       "    </tr>\n",
       "    <tr>\n",
       "      <th id=\"T_779b8_level0_row65\" class=\"row_heading level0 row65\" >65</th>\n",
       "      <td id=\"T_779b8_row65_col0\" class=\"data row65 col0\" >90.30%</td>\n",
       "    </tr>\n",
       "    <tr>\n",
       "      <th id=\"T_779b8_level0_row66\" class=\"row_heading level0 row66\" >66</th>\n",
       "      <td id=\"T_779b8_row66_col0\" class=\"data row66 col0\" >90.81%</td>\n",
       "    </tr>\n",
       "    <tr>\n",
       "      <th id=\"T_779b8_level0_row67\" class=\"row_heading level0 row67\" >67</th>\n",
       "      <td id=\"T_779b8_row67_col0\" class=\"data row67 col0\" >91.31%</td>\n",
       "    </tr>\n",
       "    <tr>\n",
       "      <th id=\"T_779b8_level0_row68\" class=\"row_heading level0 row68\" >68</th>\n",
       "      <td id=\"T_779b8_row68_col0\" class=\"data row68 col0\" >91.81%</td>\n",
       "    </tr>\n",
       "    <tr>\n",
       "      <th id=\"T_779b8_level0_row69\" class=\"row_heading level0 row69\" >69</th>\n",
       "      <td id=\"T_779b8_row69_col0\" class=\"data row69 col0\" >92.26%</td>\n",
       "    </tr>\n",
       "    <tr>\n",
       "      <th id=\"T_779b8_level0_row70\" class=\"row_heading level0 row70\" >70</th>\n",
       "      <td id=\"T_779b8_row70_col0\" class=\"data row70 col0\" >92.70%</td>\n",
       "    </tr>\n",
       "    <tr>\n",
       "      <th id=\"T_779b8_level0_row71\" class=\"row_heading level0 row71\" >71</th>\n",
       "      <td id=\"T_779b8_row71_col0\" class=\"data row71 col0\" >93.13%</td>\n",
       "    </tr>\n",
       "    <tr>\n",
       "      <th id=\"T_779b8_level0_row72\" class=\"row_heading level0 row72\" >72</th>\n",
       "      <td id=\"T_779b8_row72_col0\" class=\"data row72 col0\" >93.53%</td>\n",
       "    </tr>\n",
       "    <tr>\n",
       "      <th id=\"T_779b8_level0_row73\" class=\"row_heading level0 row73\" >73</th>\n",
       "      <td id=\"T_779b8_row73_col0\" class=\"data row73 col0\" >93.93%</td>\n",
       "    </tr>\n",
       "    <tr>\n",
       "      <th id=\"T_779b8_level0_row74\" class=\"row_heading level0 row74\" >74</th>\n",
       "      <td id=\"T_779b8_row74_col0\" class=\"data row74 col0\" >94.31%</td>\n",
       "    </tr>\n",
       "    <tr>\n",
       "      <th id=\"T_779b8_level0_row75\" class=\"row_heading level0 row75\" >75</th>\n",
       "      <td id=\"T_779b8_row75_col0\" class=\"data row75 col0\" >94.68%</td>\n",
       "    </tr>\n",
       "    <tr>\n",
       "      <th id=\"T_779b8_level0_row76\" class=\"row_heading level0 row76\" >76</th>\n",
       "      <td id=\"T_779b8_row76_col0\" class=\"data row76 col0\" >95.04%</td>\n",
       "    </tr>\n",
       "  </tbody>\n",
       "</table>\n"
      ],
      "text/plain": [
       "<pandas.io.formats.style.Styler at 0x181bd3c3c40>"
      ]
     },
     "execution_count": 20,
     "metadata": {},
     "output_type": "execute_result"
    }
   ],
   "source": [
    "pd.Series(np.cumsum(pca.explained_variance_ratio_)).to_frame('Explained Variance').head(num_eigenvalues).style.format('{:,.2%}'.format)"
   ]
  },
  {
   "cell_type": "code",
   "execution_count": 21,
   "metadata": {},
   "outputs": [],
   "source": [
    "X_train_PCA = pca.transform(X_train)\n",
    "X_test_PCA = pca.transform(X_test)"
   ]
  },
  {
   "attachments": {},
   "cell_type": "markdown",
   "metadata": {},
   "source": [
    "Now we get to the fun part with various machine learning models and later explore the neural networks or Deep Learning models."
   ]
  },
  {
   "cell_type": "code",
   "execution_count": 22,
   "metadata": {},
   "outputs": [],
   "source": [
    "from sklearn.model_selection import KFold, cross_val_score\n",
    "from sklearn.metrics import roc_auc_score\n",
    "from sklearn.linear_model import LogisticRegression\n",
    "from sklearn.tree import DecisionTreeClassifier\n",
    "from sklearn.neighbors import KNeighborsClassifier\n",
    "from sklearn.naive_bayes import GaussianNB\n",
    "from sklearn.neural_network import MLPClassifier\n",
    "from sklearn.ensemble import AdaBoostClassifier, RandomForestClassifier, ExtraTreesClassifier, GradientBoostingClassifier"
   ]
  },
  {
   "cell_type": "code",
   "execution_count": 23,
   "metadata": {},
   "outputs": [],
   "source": [
    "models = []\n",
    "models.append(('LR', LogisticRegression(n_jobs=-1)))\n",
    "models.append(('KNN',KNeighborsClassifier()))\n",
    "models.append(('CART', DecisionTreeClassifier()))\n",
    "models.append(('NB', GaussianNB()))\n",
    "models.append(('NN', MLPClassifier()))\n",
    "models.append(('AB', AdaBoostClassifier()))\n",
    "models.append(('RF', RandomForestClassifier()))\n",
    "models.append(('ETC', ExtraTreesClassifier()))\n",
    "models.append(('GBC', GradientBoostingClassifier()))"
   ]
  },
  {
   "cell_type": "code",
   "execution_count": 24,
   "metadata": {},
   "outputs": [],
   "source": [
    "# Evaluation metrics:\n",
    "num_folds = 10\n",
    "scoring = 'roc_auc'"
   ]
  },
  {
   "cell_type": "code",
   "execution_count": 25,
   "metadata": {},
   "outputs": [],
   "source": [
    "import warnings\n",
    "warnings.filterwarnings('ignore')"
   ]
  },
  {
   "attachments": {},
   "cell_type": "markdown",
   "metadata": {},
   "source": [
    "## Model Selection"
   ]
  },
  {
   "cell_type": "code",
   "execution_count": 26,
   "metadata": {},
   "outputs": [
    {
     "name": "stdout",
     "output_type": "stream",
     "text": [
      "LR, 0.923316 (0.042986) 0.989999 0.844551\n",
      "KNN, 0.777087 (0.108644) 0.876054 0.669082\n",
      "CART, 0.507413 (0.120956) 1.000000 0.557471\n",
      "NB, 0.889004 (0.071419) 0.949995 0.836538\n",
      "NN, 0.847869 (0.095834) 1.000000 0.791667\n",
      "AB, 0.751262 (0.111099) 1.000000 0.606732\n",
      "RF, 0.780786 (0.107457) 1.000000 0.711397\n",
      "ETC, 0.782378 (0.070804) 1.000000 0.676282\n",
      "GBC, 0.662250 (0.120158) 1.000000 0.564103\n"
     ]
    }
   ],
   "source": [
    "# K Fold Cross Validation WITH PCA\n",
    "names = []\n",
    "results = []\n",
    "train_results = []\n",
    "test_results = []\n",
    "\n",
    "for name, model in models:\n",
    "    kfold = KFold(n_splits=num_folds)\n",
    "    cv_results = cross_val_score(model, X_train, y_train, cv = kfold, scoring=scoring)\n",
    "    \n",
    "    res = model.fit(X_train, y_train)\n",
    "    train_result = roc_auc_score(res.predict(X_train), y_train)\n",
    "    train_results.append(train_results)\n",
    "\n",
    "    test_result = roc_auc_score(res.predict(X_test),y_test)\n",
    "    test_results.append(test_result)\n",
    "\n",
    "    names.append(name)\n",
    "    results.append(cv_results)\n",
    "    \n",
    "    msg = \"%s, %f (%f) %f %f\" % (name, cv_results.mean(), cv_results.std(), train_result, test_result)\n",
    "    print(msg)\n"
   ]
  },
  {
   "cell_type": "code",
   "execution_count": 27,
   "metadata": {},
   "outputs": [
    {
     "name": "stdout",
     "output_type": "stream",
     "text": [
      "LR, 0.925316 (0.042324) 0.989999 0.844551\n",
      "KNN, 0.773796 (0.128578) 0.846820 0.644231\n",
      "CART, 0.573508 (0.075165) 1.000000 0.613636\n",
      "NB, 0.790352 (0.118268) 0.950255 0.756410\n",
      "NN, 0.911417 (0.057789) 1.000000 0.820000\n",
      "AB, 0.873605 (0.089109) 1.000000 0.620000\n",
      "RF, 0.815684 (0.107201) 1.000000 0.764423\n",
      "ETC, 0.800874 (0.113546) 1.000000 0.773752\n",
      "GBC, 0.815762 (0.099273) 1.000000 0.695246\n"
     ]
    }
   ],
   "source": [
    "# K Fold Cross Validation WITH PCA\n",
    "names = []\n",
    "results = []\n",
    "train_results = []\n",
    "test_results = []\n",
    "\n",
    "for name, model in models:\n",
    "    kfold = KFold(n_splits=num_folds)\n",
    "    cv_results = cross_val_score(model, X_train_PCA, y_train, cv = kfold, scoring=scoring)\n",
    "    \n",
    "    res = model.fit(X_train_PCA, y_train)\n",
    "    train_result = roc_auc_score(res.predict(X_train_PCA), y_train)\n",
    "    train_results.append(train_results)\n",
    "\n",
    "    test_result = roc_auc_score(res.predict(X_test_PCA),y_test)\n",
    "    test_results.append(test_result)\n",
    "\n",
    "    names.append(name)\n",
    "    results.append(cv_results)\n",
    "    \n",
    "    msg = \"%s, %f (%f) %f %f\" % (name, cv_results.mean(), cv_results.std(), train_result, test_result)\n",
    "    print(msg)\n"
   ]
  },
  {
   "attachments": {},
   "cell_type": "markdown",
   "metadata": {},
   "source": [
    "From comparing our KFold Cross Validation, we can see that the KFold applied on our dataset from PCA had similar results.\n",
    "\n",
    "We can see that: <br>\n",
    "* Logistic Regression, Naive Bayes, and MLP had good ROC_AUC score in both training/testing set WITHOUT PCA.\n",
    "* Only Logistic Regression had a good ROC_AUC score in both training/testing set with PCA.\n",
    "* Most of the other algorithms fit our training set perfectly, but predicted poorly on our test set WITH and WITHOUT PCA, overfitted.. \n",
    "\n",
    "tldr: Our top candidates are Neural Network and Logistic Regression. We explore these ML algorithms further."
   ]
  },
  {
   "attachments": {},
   "cell_type": "markdown",
   "metadata": {},
   "source": [
    "## Neural Network"
   ]
  },
  {
   "cell_type": "code",
   "execution_count": 28,
   "metadata": {},
   "outputs": [],
   "source": [
    "from keras.callbacks import EarlyStopping\n",
    "early_stop = EarlyStopping(monitor='val_loss', mode='min', verbose=1, patience=10)\n",
    "\n",
    "from keras.models import Sequential\n",
    "from keras.layers import Dense\n",
    "from keras.metrics import AUC\n",
    "\n",
    "model0 = Sequential()\n",
    "\n",
    "# input layer\n",
    "model0.add(Dense(100, activation='relu'))\n",
    "# model0.add(Dropout(0.2))\n",
    "\n",
    "# hidden layer\n",
    "model0.add(Dense(50, activation='relu'))\n",
    "# model0.add(Dropout(0.2))\n",
    "model0.add(Dense(25, activation='relu'))\n",
    "\n",
    "# output layyer\n",
    "model0.add(Dense(1, activation='sigmoid'))\n",
    "\n",
    "# compile model\n",
    "model0.compile(loss='binary_crossentropy', optimizer='adam',metrics=[AUC()])"
   ]
  },
  {
   "cell_type": "code",
   "execution_count": 29,
   "metadata": {},
   "outputs": [
    {
     "name": "stdout",
     "output_type": "stream",
     "text": [
      "Epoch 1/100\n",
      "1/1 [==============================] - 1s 1s/step - loss: 0.7064 - auc: 0.5062 - val_loss: 0.7036 - val_auc: 0.5267\n",
      "Epoch 2/100\n",
      "1/1 [==============================] - 0s 45ms/step - loss: 0.6900 - auc: 0.5579 - val_loss: 0.6876 - val_auc: 0.5600\n",
      "Epoch 3/100\n",
      "1/1 [==============================] - 0s 44ms/step - loss: 0.6813 - auc: 0.6174 - val_loss: 0.6798 - val_auc: 0.5758\n",
      "Epoch 4/100\n",
      "1/1 [==============================] - 0s 40ms/step - loss: 0.6753 - auc: 0.6679 - val_loss: 0.6771 - val_auc: 0.5867\n",
      "Epoch 5/100\n",
      "1/1 [==============================] - 0s 45ms/step - loss: 0.6694 - auc: 0.7188 - val_loss: 0.6775 - val_auc: 0.6017\n",
      "Epoch 6/100\n",
      "1/1 [==============================] - 0s 46ms/step - loss: 0.6626 - auc: 0.7542 - val_loss: 0.6806 - val_auc: 0.6008\n",
      "Epoch 7/100\n",
      "1/1 [==============================] - 0s 42ms/step - loss: 0.6552 - auc: 0.7842 - val_loss: 0.6837 - val_auc: 0.6175\n",
      "Epoch 8/100\n",
      "1/1 [==============================] - 0s 39ms/step - loss: 0.6482 - auc: 0.8111 - val_loss: 0.6860 - val_auc: 0.6283\n",
      "Epoch 9/100\n",
      "1/1 [==============================] - 0s 35ms/step - loss: 0.6415 - auc: 0.8268 - val_loss: 0.6864 - val_auc: 0.6317\n",
      "Epoch 10/100\n",
      "1/1 [==============================] - 0s 41ms/step - loss: 0.6345 - auc: 0.8451 - val_loss: 0.6829 - val_auc: 0.6433\n",
      "Epoch 11/100\n",
      "1/1 [==============================] - 0s 46ms/step - loss: 0.6265 - auc: 0.8611 - val_loss: 0.6759 - val_auc: 0.6575\n",
      "Epoch 12/100\n",
      "1/1 [==============================] - 0s 43ms/step - loss: 0.6176 - auc: 0.8780 - val_loss: 0.6670 - val_auc: 0.6750\n",
      "Epoch 13/100\n",
      "1/1 [==============================] - 0s 42ms/step - loss: 0.6087 - auc: 0.8926 - val_loss: 0.6587 - val_auc: 0.6892\n",
      "Epoch 14/100\n",
      "1/1 [==============================] - 0s 40ms/step - loss: 0.5998 - auc: 0.9062 - val_loss: 0.6524 - val_auc: 0.7008\n",
      "Epoch 15/100\n",
      "1/1 [==============================] - 0s 38ms/step - loss: 0.5905 - auc: 0.9141 - val_loss: 0.6482 - val_auc: 0.7167\n",
      "Epoch 16/100\n",
      "1/1 [==============================] - 0s 46ms/step - loss: 0.5802 - auc: 0.9190 - val_loss: 0.6457 - val_auc: 0.7167\n",
      "Epoch 17/100\n",
      "1/1 [==============================] - 0s 42ms/step - loss: 0.5693 - auc: 0.9247 - val_loss: 0.6440 - val_auc: 0.7225\n",
      "Epoch 18/100\n",
      "1/1 [==============================] - 0s 38ms/step - loss: 0.5574 - auc: 0.9294 - val_loss: 0.6419 - val_auc: 0.7233\n",
      "Epoch 19/100\n",
      "1/1 [==============================] - 0s 39ms/step - loss: 0.5449 - auc: 0.9342 - val_loss: 0.6372 - val_auc: 0.7292\n",
      "Epoch 20/100\n",
      "1/1 [==============================] - 0s 38ms/step - loss: 0.5313 - auc: 0.9394 - val_loss: 0.6301 - val_auc: 0.7292\n",
      "Epoch 21/100\n",
      "1/1 [==============================] - 0s 41ms/step - loss: 0.5173 - auc: 0.9449 - val_loss: 0.6225 - val_auc: 0.7325\n",
      "Epoch 22/100\n",
      "1/1 [==============================] - 0s 41ms/step - loss: 0.5030 - auc: 0.9484 - val_loss: 0.6162 - val_auc: 0.7442\n",
      "Epoch 23/100\n",
      "1/1 [==============================] - 0s 42ms/step - loss: 0.4880 - auc: 0.9505 - val_loss: 0.6119 - val_auc: 0.7483\n",
      "Epoch 24/100\n",
      "1/1 [==============================] - 0s 40ms/step - loss: 0.4725 - auc: 0.9534 - val_loss: 0.6084 - val_auc: 0.7533\n",
      "Epoch 25/100\n",
      "1/1 [==============================] - 0s 51ms/step - loss: 0.4564 - auc: 0.9557 - val_loss: 0.6037 - val_auc: 0.7583\n",
      "Epoch 26/100\n",
      "1/1 [==============================] - 0s 44ms/step - loss: 0.4397 - auc: 0.9573 - val_loss: 0.5956 - val_auc: 0.7642\n",
      "Epoch 27/100\n",
      "1/1 [==============================] - 0s 46ms/step - loss: 0.4228 - auc: 0.9595 - val_loss: 0.5855 - val_auc: 0.7667\n",
      "Epoch 28/100\n",
      "1/1 [==============================] - 0s 44ms/step - loss: 0.4060 - auc: 0.9626 - val_loss: 0.5770 - val_auc: 0.7733\n",
      "Epoch 29/100\n",
      "1/1 [==============================] - 0s 40ms/step - loss: 0.3890 - auc: 0.9642 - val_loss: 0.5722 - val_auc: 0.7767\n",
      "Epoch 30/100\n",
      "1/1 [==============================] - 0s 44ms/step - loss: 0.3718 - auc: 0.9660 - val_loss: 0.5686 - val_auc: 0.7783\n",
      "Epoch 31/100\n",
      "1/1 [==============================] - 0s 49ms/step - loss: 0.3547 - auc: 0.9680 - val_loss: 0.5616 - val_auc: 0.7783\n",
      "Epoch 32/100\n",
      "1/1 [==============================] - 0s 52ms/step - loss: 0.3375 - auc: 0.9701 - val_loss: 0.5531 - val_auc: 0.7817\n",
      "Epoch 33/100\n",
      "1/1 [==============================] - 0s 50ms/step - loss: 0.3206 - auc: 0.9720 - val_loss: 0.5484 - val_auc: 0.7858\n",
      "Epoch 34/100\n",
      "1/1 [==============================] - 0s 55ms/step - loss: 0.3042 - auc: 0.9733 - val_loss: 0.5482 - val_auc: 0.7900\n",
      "Epoch 35/100\n",
      "1/1 [==============================] - 0s 46ms/step - loss: 0.2886 - auc: 0.9753 - val_loss: 0.5461 - val_auc: 0.7967\n",
      "Epoch 36/100\n",
      "1/1 [==============================] - 0s 39ms/step - loss: 0.2735 - auc: 0.9771 - val_loss: 0.5411 - val_auc: 0.8033\n",
      "Epoch 37/100\n",
      "1/1 [==============================] - 0s 56ms/step - loss: 0.2588 - auc: 0.9794 - val_loss: 0.5391 - val_auc: 0.8092\n",
      "Epoch 38/100\n",
      "1/1 [==============================] - 0s 44ms/step - loss: 0.2446 - auc: 0.9816 - val_loss: 0.5393 - val_auc: 0.8133\n",
      "Epoch 39/100\n",
      "1/1 [==============================] - 0s 38ms/step - loss: 0.2309 - auc: 0.9836 - val_loss: 0.5376 - val_auc: 0.8225\n",
      "Epoch 40/100\n",
      "1/1 [==============================] - 0s 41ms/step - loss: 0.2177 - auc: 0.9855 - val_loss: 0.5366 - val_auc: 0.8258\n",
      "Epoch 41/100\n",
      "1/1 [==============================] - 0s 37ms/step - loss: 0.2051 - auc: 0.9874 - val_loss: 0.5398 - val_auc: 0.8275\n",
      "Epoch 42/100\n",
      "1/1 [==============================] - 0s 42ms/step - loss: 0.1928 - auc: 0.9891 - val_loss: 0.5412 - val_auc: 0.8350\n",
      "Epoch 43/100\n",
      "1/1 [==============================] - 0s 41ms/step - loss: 0.1809 - auc: 0.9906 - val_loss: 0.5431 - val_auc: 0.8408\n",
      "Epoch 44/100\n",
      "1/1 [==============================] - 0s 42ms/step - loss: 0.1697 - auc: 0.9921 - val_loss: 0.5503 - val_auc: 0.8425\n",
      "Epoch 45/100\n",
      "1/1 [==============================] - 0s 46ms/step - loss: 0.1591 - auc: 0.9930 - val_loss: 0.5528 - val_auc: 0.8467\n",
      "Epoch 46/100\n",
      "1/1 [==============================] - 0s 45ms/step - loss: 0.1489 - auc: 0.9944 - val_loss: 0.5569 - val_auc: 0.8492\n",
      "Epoch 47/100\n",
      "1/1 [==============================] - 0s 41ms/step - loss: 0.1392 - auc: 0.9953 - val_loss: 0.5651 - val_auc: 0.8517\n",
      "Epoch 48/100\n",
      "1/1 [==============================] - 0s 41ms/step - loss: 0.1298 - auc: 0.9958 - val_loss: 0.5704 - val_auc: 0.8500\n",
      "Epoch 49/100\n",
      "1/1 [==============================] - 0s 44ms/step - loss: 0.1209 - auc: 0.9966 - val_loss: 0.5731 - val_auc: 0.8533\n",
      "Epoch 50/100\n",
      "1/1 [==============================] - 0s 40ms/step - loss: 0.1123 - auc: 0.9973 - val_loss: 0.5794 - val_auc: 0.8525\n",
      "Epoch 50: early stopping\n"
     ]
    },
    {
     "data": {
      "text/plain": [
       "<keras.callbacks.History at 0x181ce538f70>"
      ]
     },
     "execution_count": 29,
     "metadata": {},
     "output_type": "execute_result"
    }
   ],
   "source": [
    "model0.fit(X_train, y_train, \n",
    "           epochs=100, batch_size=256,\n",
    "           verbose=1, callbacks=[early_stop],\n",
    "           validation_data=(X_test, y_test))"
   ]
  },
  {
   "cell_type": "code",
   "execution_count": 30,
   "metadata": {},
   "outputs": [
    {
     "name": "stdout",
     "output_type": "stream",
     "text": [
      "Model: \"sequential\"\n",
      "_________________________________________________________________\n",
      " Layer (type)                Output Shape              Param #   \n",
      "=================================================================\n",
      " dense (Dense)               (None, 100)               10100     \n",
      "                                                                 \n",
      " dense_1 (Dense)             (None, 50)                5050      \n",
      "                                                                 \n",
      " dense_2 (Dense)             (None, 25)                1275      \n",
      "                                                                 \n",
      " dense_3 (Dense)             (None, 1)                 26        \n",
      "                                                                 \n",
      "=================================================================\n",
      "Total params: 16,451\n",
      "Trainable params: 16,451\n",
      "Non-trainable params: 0\n",
      "_________________________________________________________________\n"
     ]
    }
   ],
   "source": [
    "model0.summary()"
   ]
  },
  {
   "cell_type": "code",
   "execution_count": 31,
   "metadata": {},
   "outputs": [
    {
     "data": {
      "text/plain": [
       "<Axes: >"
      ]
     },
     "execution_count": 31,
     "metadata": {},
     "output_type": "execute_result"
    },
    {
     "data": {
      "image/png": "[encoded data removed]",
      "text/plain": [
       "<Figure size 640x480 with 1 Axes>"
      ]
     },
     "metadata": {},
     "output_type": "display_data"
    }
   ],
   "source": [
    "losses = pd.DataFrame(model0.history.history)\n",
    "losses[['loss','val_loss']].plot()"
   ]
  },
  {
   "cell_type": "code",
   "execution_count": 32,
   "metadata": {},
   "outputs": [
    {
     "name": "stdout",
     "output_type": "stream",
     "text": [
      "2/2 [==============================] - 0s 2ms/step\n"
     ]
    },
    {
     "data": {
      "text/plain": [
       "array([[0],\n",
       "       [1],\n",
       "       [0],\n",
       "       [1],\n",
       "       [1]])"
      ]
     },
     "execution_count": 32,
     "metadata": {},
     "output_type": "execute_result"
    }
   ],
   "source": [
    "predictions = model0.predict(X_test)\n",
    "predictions = np.where(predictions < 0.5,0,1)\n",
    "predictions[0:5]"
   ]
  },
  {
   "cell_type": "code",
   "execution_count": 33,
   "metadata": {},
   "outputs": [
    {
     "data": {
      "text/plain": [
       "142    0\n",
       "6      0\n",
       "97     0\n",
       "60     0\n",
       "112    0\n",
       "Name: target_eval, dtype: int64"
      ]
     },
     "execution_count": 33,
     "metadata": {},
     "output_type": "execute_result"
    }
   ],
   "source": [
    "y_test.head(5)"
   ]
  },
  {
   "cell_type": "code",
   "execution_count": 34,
   "metadata": {},
   "outputs": [],
   "source": [
    "from sklearn.metrics import confusion_matrix, accuracy_score, roc_curve, auc\n",
    "\n",
    "false_positive_rate, recall, threshold = roc_curve(y_test, predictions)\n",
    "roc_auc = auc(false_positive_rate, recall)"
   ]
  },
  {
   "cell_type": "code",
   "execution_count": 35,
   "metadata": {},
   "outputs": [
    {
     "data": {
      "image/png": "[encoded data removed]",
      "text/plain": [
       "<Figure size 640x480 with 1 Axes>"
      ]
     },
     "metadata": {},
     "output_type": "display_data"
    }
   ],
   "source": [
    "plt.figure()\n",
    "plt.title('Receiver Operating Characteristic (ROC)')\n",
    "plt.plot(false_positive_rate, recall, 'b', label='AUC = %0.3f' %roc_auc)\n",
    "\n",
    "plt.legend(loc='lower right')\n",
    "plt.plot([0,1], [0,1], 'r--')\n",
    "plt.xlim([0,1])\n",
    "plt.ylim([0,1])\n",
    "plt.ylabel('Recall')\n",
    "plt.xlabel('False Positive Rate')\n",
    "plt.show()"
   ]
  },
  {
   "attachments": {},
   "cell_type": "markdown",
   "metadata": {},
   "source": [
    "A score of 0.817 isn't terrible for a ROC_AUC score, however it would be considered barely good. TWe will explore"
   ]
  },
  {
   "attachments": {},
   "cell_type": "markdown",
   "metadata": {},
   "source": [
    "## Logistic Regression"
   ]
  },
  {
   "cell_type": "code",
   "execution_count": 36,
   "metadata": {},
   "outputs": [
    {
     "data": {
      "text/html": [
       "<style>#sk-container-id-1 {color: black;background-color: white;}#sk-container-id-1 pre{padding: 0;}#sk-container-id-1 div.sk-toggleable {background-color: white;}#sk-container-id-1 label.sk-toggleable__label {cursor: pointer;display: block;width: 100%;margin-bottom: 0;padding: 0.3em;box-sizing: border-box;text-align: center;}#sk-container-id-1 label.sk-toggleable__label-arrow:before {content: \"▸\";float: left;margin-right: 0.25em;color: #696969;}#sk-container-id-1 label.sk-toggleable__label-arrow:hover:before {color: black;}#sk-container-id-1 div.sk-estimator:hover label.sk-toggleable__label-arrow:before {color: black;}#sk-container-id-1 div.sk-toggleable__content {max-height: 0;max-width: 0;overflow: hidden;text-align: left;background-color: #f0f8ff;}#sk-container-id-1 div.sk-toggleable__content pre {margin: 0.2em;color: black;border-radius: 0.25em;background-color: #f0f8ff;}#sk-container-id-1 input.sk-toggleable__control:checked~div.sk-toggleable__content {max-height: 200px;max-width: 100%;overflow: auto;}#sk-container-id-1 input.sk-toggleable__control:checked~label.sk-toggleable__label-arrow:before {content: \"▾\";}#sk-container-id-1 div.sk-estimator input.sk-toggleable__control:checked~label.sk-toggleable__label {background-color: #d4ebff;}#sk-container-id-1 div.sk-label input.sk-toggleable__control:checked~label.sk-toggleable__label {background-color: #d4ebff;}#sk-container-id-1 input.sk-hidden--visually {border: 0;clip: rect(1px 1px 1px 1px);clip: rect(1px, 1px, 1px, 1px);height: 1px;margin: -1px;overflow: hidden;padding: 0;position: absolute;width: 1px;}#sk-container-id-1 div.sk-estimator {font-family: monospace;background-color: #f0f8ff;border: 1px dotted black;border-radius: 0.25em;box-sizing: border-box;margin-bottom: 0.5em;}#sk-container-id-1 div.sk-estimator:hover {background-color: #d4ebff;}#sk-container-id-1 div.sk-parallel-item::after {content: \"\";width: 100%;border-bottom: 1px solid gray;flex-grow: 1;}#sk-container-id-1 div.sk-label:hover label.sk-toggleable__label {background-color: #d4ebff;}#sk-container-id-1 div.sk-serial::before {content: \"\";position: absolute;border-left: 1px solid gray;box-sizing: border-box;top: 0;bottom: 0;left: 50%;z-index: 0;}#sk-container-id-1 div.sk-serial {display: flex;flex-direction: column;align-items: center;background-color: white;padding-right: 0.2em;padding-left: 0.2em;position: relative;}#sk-container-id-1 div.sk-item {position: relative;z-index: 1;}#sk-container-id-1 div.sk-parallel {display: flex;align-items: stretch;justify-content: center;background-color: white;position: relative;}#sk-container-id-1 div.sk-item::before, #sk-container-id-1 div.sk-parallel-item::before {content: \"\";position: absolute;border-left: 1px solid gray;box-sizing: border-box;top: 0;bottom: 0;left: 50%;z-index: -1;}#sk-container-id-1 div.sk-parallel-item {display: flex;flex-direction: column;z-index: 1;position: relative;background-color: white;}#sk-container-id-1 div.sk-parallel-item:first-child::after {align-self: flex-end;width: 50%;}#sk-container-id-1 div.sk-parallel-item:last-child::after {align-self: flex-start;width: 50%;}#sk-container-id-1 div.sk-parallel-item:only-child::after {width: 0;}#sk-container-id-1 div.sk-dashed-wrapped {border: 1px dashed gray;margin: 0 0.4em 0.5em 0.4em;box-sizing: border-box;padding-bottom: 0.4em;background-color: white;}#sk-container-id-1 div.sk-label label {font-family: monospace;font-weight: bold;display: inline-block;line-height: 1.2em;}#sk-container-id-1 div.sk-label-container {text-align: center;}#sk-container-id-1 div.sk-container {/* jupyter's `normalize.less` sets `[hidden] { display: none; }` but bootstrap.min.css set `[hidden] { display: none !important; }` so we also need the `!important` here to be able to override the default hidden behavior on the sphinx rendered scikit-learn.org. See: https://github.com/scikit-learn/scikit-learn/issues/21755 */display: inline-block !important;position: relative;}#sk-container-id-1 div.sk-text-repr-fallback {display: none;}</style><div id=\"sk-container-id-1\" class=\"sk-top-container\"><div class=\"sk-text-repr-fallback\"><pre>LogisticRegression(n_jobs=-1)</pre><b>In a Jupyter environment, please rerun this cell to show the HTML representation or trust the notebook. <br />On GitHub, the HTML representation is unable to render, please try loading this page with nbviewer.org.</b></div><div class=\"sk-container\" hidden><div class=\"sk-item\"><div class=\"sk-estimator sk-toggleable\"><input class=\"sk-toggleable__control sk-hidden--visually\" id=\"sk-estimator-id-1\" type=\"checkbox\" checked><label for=\"sk-estimator-id-1\" class=\"sk-toggleable__label sk-toggleable__label-arrow\">LogisticRegression</label><div class=\"sk-toggleable__content\"><pre>LogisticRegression(n_jobs=-1)</pre></div></div></div></div></div>"
      ],
      "text/plain": [
       "LogisticRegression(n_jobs=-1)"
      ]
     },
     "execution_count": 36,
     "metadata": {},
     "output_type": "execute_result"
    }
   ],
   "source": [
    "LR = LogisticRegression(n_jobs=-1)\n",
    "LR.fit(X_train_PCA, y_train)"
   ]
  },
  {
   "cell_type": "code",
   "execution_count": 37,
   "metadata": {},
   "outputs": [
    {
     "data": {
      "image/png": "[encoded data removed]",
      "text/plain": [
       "<Figure size 640x480 with 1 Axes>"
      ]
     },
     "metadata": {},
     "output_type": "display_data"
    }
   ],
   "source": [
    "probs = LR.predict_proba(X_test_PCA)\n",
    "preds = probs[:,1]\n",
    "\n",
    "false_positive_rate, recall, threshold = roc_curve(y_test, preds)\n",
    "roc_auc = auc(false_positive_rate, recall)\n",
    "\n",
    "plt.figure()\n",
    "plt.title('Receiver Operating Characteristic (ROC)')\n",
    "plt.plot(false_positive_rate, recall, 'b', label='AUC = %0.3f' %roc_auc)\n",
    "\n",
    "plt.legend(loc='lower right')\n",
    "plt.plot([0,1], [0,1], 'r--')\n",
    "plt.xlim([0,1])\n",
    "plt.ylim([0,1])\n",
    "plt.ylabel('Recall')\n",
    "plt.xlabel('False Positive Rate')\n",
    "plt.show()"
   ]
  },
  {
   "attachments": {},
   "cell_type": "markdown",
   "metadata": {},
   "source": [
    "With default Logistic Regression parameter, our test data with PCA had a good AUC score of 0.908. We can most likely improve this with GridSearchCV."
   ]
  },
  {
   "cell_type": "code",
   "execution_count": 38,
   "metadata": {},
   "outputs": [],
   "source": [
    "# LogisticRegression?"
   ]
  },
  {
   "cell_type": "code",
   "execution_count": 39,
   "metadata": {},
   "outputs": [],
   "source": [
    "from sklearn.model_selection import GridSearchCV\n",
    "\n",
    "penalty = ['l2', 'l1']\n",
    "solver = ['liblinear']\n",
    "C = [0.001, 0.01, 0.05, 0.1, 0.5, 1, 10, 100, 1000]\n",
    "param_grid = dict(penalty=penalty, solver=solver, C=C)\n",
    "model_0 = LogisticRegression()\n",
    "kfold = KFold(n_splits=num_folds)\n",
    "grid = GridSearchCV(estimator=model_0, param_grid=param_grid, scoring='roc_auc', return_train_score=True, n_jobs=-1)\n",
    "grid_result = grid.fit(X_train_PCA, y_train)"
   ]
  },
  {
   "cell_type": "code",
   "execution_count": 40,
   "metadata": {},
   "outputs": [
    {
     "data": {
      "text/plain": [
       "0.9339473684210526"
      ]
     },
     "execution_count": 40,
     "metadata": {},
     "output_type": "execute_result"
    }
   ],
   "source": [
    "grid_result.best_score_"
   ]
  },
  {
   "cell_type": "code",
   "execution_count": 41,
   "metadata": {},
   "outputs": [
    {
     "data": {
      "text/plain": [
       "{'C': 0.1, 'penalty': 'l2', 'solver': 'liblinear'}"
      ]
     },
     "execution_count": 41,
     "metadata": {},
     "output_type": "execute_result"
    }
   ],
   "source": [
    "grid_result.best_params_"
   ]
  },
  {
   "cell_type": "code",
   "execution_count": 42,
   "metadata": {},
   "outputs": [],
   "source": [
    "LR = LogisticRegression(penalty='l2',solver='liblinear', C=0.1)\n",
    "LR.fit(X_train_PCA, y_train)\n",
    "new_test_pred = LR.predict(X_test_PCA)"
   ]
  },
  {
   "cell_type": "code",
   "execution_count": 43,
   "metadata": {},
   "outputs": [
    {
     "data": {
      "image/png": "[encoded data removed]",
      "text/plain": [
       "<Figure size 640x480 with 1 Axes>"
      ]
     },
     "metadata": {},
     "output_type": "display_data"
    }
   ],
   "source": [
    "probs = LR.predict_proba(X_test_PCA)\n",
    "preds = probs[:,1]\n",
    "\n",
    "false_positive_rate, recall, threshold = roc_curve(y_test, preds)\n",
    "roc_auc = auc(false_positive_rate, recall)\n",
    "\n",
    "plt.figure()\n",
    "plt.title('Receiver Operating Characteristic (ROC)')\n",
    "plt.plot(false_positive_rate, recall, 'b', label='AUC = %0.3f' %roc_auc)\n",
    "\n",
    "plt.legend(loc='lower right')\n",
    "plt.plot([0,1], [0,1], 'r--')\n",
    "plt.xlim([0,1])\n",
    "plt.ylim([0,1])\n",
    "plt.ylabel('Recall')\n",
    "plt.xlabel('False Positive Rate')\n",
    "plt.show()"
   ]
  },
  {
   "attachments": {},
   "cell_type": "markdown",
   "metadata": {},
   "source": [
    "On default Logistic Regression parameter, our AUC score was 0.908. <br>\n",
    "On GridSearchCV Logistic Regression parameter, our AUC score is 0.935 (an increase of 0.027)."
   ]
  },
  {
   "attachments": {},
   "cell_type": "markdown",
   "metadata": {},
   "source": [
    "We can check out other metrics like accuracy and look at the confusion matrix."
   ]
  },
  {
   "cell_type": "code",
   "execution_count": 44,
   "metadata": {},
   "outputs": [
    {
     "name": "stdout",
     "output_type": "stream",
     "text": [
      "0.86\n"
     ]
    }
   ],
   "source": [
    "print(accuracy_score(y_test, new_test_pred))"
   ]
  },
  {
   "cell_type": "code",
   "execution_count": 45,
   "metadata": {},
   "outputs": [
    {
     "data": {
      "text/plain": [
       "<Axes: xlabel='Predicted', ylabel='Actual'>"
      ]
     },
     "execution_count": 45,
     "metadata": {},
     "output_type": "execute_result"
    },
    {
     "data": {
      "image/png": "[encoded data removed]",
      "text/plain": [
       "<Figure size 640x480 with 2 Axes>"
      ]
     },
     "metadata": {},
     "output_type": "display_data"
    }
   ],
   "source": [
    "df_cm = pd.DataFrame(confusion_matrix(y_test, new_test_pred), columns=np.unique(y_test), index=np.unique(y_test))\n",
    "df_cm.index.name = 'Actual'\n",
    "df_cm.columns.name = 'Predicted'\n",
    "sns.heatmap(df_cm, cmap='Blues', annot=True, annot_kws={\"size\":16})"
   ]
  },
  {
   "attachments": {},
   "cell_type": "markdown",
   "metadata": {},
   "source": [
    "## Finalizing our actual \"TEST\" dataset (19750 rows)"
   ]
  },
  {
   "cell_type": "code",
   "execution_count": 46,
   "metadata": {},
   "outputs": [],
   "source": [
    "X1_final = test_set[['var_180', 'var_172', 'var_219', 'var_77', 'var_252', 'var_203',\n",
    "       'var_170', 'var_239', 'var_271', 'var_117', 'var_93', 'var_198',\n",
    "       'var_116', 'var_286', 'var_276', 'var_181', 'var_138', 'var_40',\n",
    "       'var_247', 'var_53', 'var_294', 'var_253', 'var_249', 'var_270',\n",
    "       'var_298', 'var_195', 'var_119', 'var_153', 'var_71', 'var_29',\n",
    "       'var_218', 'var_127', 'var_1', 'var_50', 'var_4', 'var_57', 'var_258',\n",
    "       'var_19', 'var_34', 'var_157', 'var_223', 'var_272', 'var_282',\n",
    "       'var_78', 'var_204', 'var_296', 'var_13', 'var_199', 'var_186',\n",
    "       'var_10', 'var_281', 'var_112', 'var_235', 'var_28', 'var_168',\n",
    "       'var_58', 'var_63', 'var_45', 'var_237', 'var_288', 'var_60', 'var_70',\n",
    "       'var_42', 'var_131', 'var_178', 'var_236', 'var_275', 'var_179',\n",
    "       'var_158', 'var_206', 'var_151', 'var_31', 'var_139', 'var_15',\n",
    "       'var_222', 'var_224', 'var_257', 'var_84', 'var_279', 'var_26',\n",
    "       'var_62', 'var_291', 'var_143', 'var_64', 'var_43', 'var_269', 'var_76',\n",
    "       'var_164', 'var_200', 'var_182', 'var_201', 'var_126', 'var_66',\n",
    "       'var_184', 'var_12', 'var_208', 'var_233', 'var_166', 'var_255',\n",
    "       'var_287']]\n",
    "X_PCA = pca.transform(X1_final)\n",
    "len(pca.components_)\n",
    "final_pred = LR.predict(X_PCA)"
   ]
  },
  {
   "cell_type": "code",
   "execution_count": 47,
   "metadata": {},
   "outputs": [],
   "source": [
    "final_probs = LR.predict_proba(X_PCA)"
   ]
  },
  {
   "cell_type": "code",
   "execution_count": 48,
   "metadata": {},
   "outputs": [],
   "source": [
    "test_set['target_eval'] = final_pred\n",
    "test_set['proba_class_0'] = final_probs[:,0]\n",
    "test_set['proba_class_1'] = final_probs[:,1]"
   ]
  },
  {
   "attachments": {},
   "cell_type": "markdown",
   "metadata": {},
   "source": [
    "## Save our final csv file :)"
   ]
  },
  {
   "cell_type": "code",
   "execution_count": 54,
   "metadata": {},
   "outputs": [],
   "source": [
    "test_set[['id','target_eval','proba_class_0','proba_class_1']].to_csv('final_pred.csv',index=False)"
   ]
  }
 ],
 "metadata": {
  "kernelspec": {
   "display_name": "mytfenv",
   "language": "python",
   "name": "python3"
  },
  "language_info": {
   "codemirror_mode": {
    "name": "ipython",
    "version": 3
   },
   "file_extension": ".py",
   "mimetype": "text/x-python",
   "name": "python",
   "nbconvert_exporter": "python",
   "pygments_lexer": "ipython3",
   "version": "3.10.6"
  },
  "orig_nbformat": 4
 },
 "nbformat": 4,
 "nbformat_minor": 2
}
