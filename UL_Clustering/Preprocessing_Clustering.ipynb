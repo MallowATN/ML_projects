{
 "cells": [
  {
   "cell_type": "code",
   "execution_count": 1,
   "metadata": {},
   "outputs": [],
   "source": [
    "import numpy as np\n",
    "import pandas as pd\n",
    "import matplotlib as mpl\n",
    "import matplotlib.pyplot as plt\n",
    "import os\n",
    "import urllib"
   ]
  },
  {
   "cell_type": "code",
   "execution_count": 2,
   "metadata": {},
   "outputs": [],
   "source": [
    "mpl.rc('axes', labelsize=14)\n",
    "mpl.rc('xtick', labelsize=12)\n",
    "mpl.rc('ytick', labelsize=12)"
   ]
  },
  {
   "cell_type": "code",
   "execution_count": 3,
   "metadata": {},
   "outputs": [],
   "source": [
    "PROJECT_ROOT_DIR = \".\"\n",
    "CHAPTER_ID = \"unsupervised_learning\"\n",
    "IMAGES_PATH = os.path.join(PROJECT_ROOT_DIR, \"images\", CHAPTER_ID)\n",
    "os.makedirs(IMAGES_PATH, exist_ok=True)"
   ]
  },
  {
   "cell_type": "code",
   "execution_count": 4,
   "metadata": {},
   "outputs": [],
   "source": [
    "def save_fig(fig_id, tight_layout=True, fig_extension=\"png\", resolution=300):\n",
    "    path = os.path.join(IMAGES_PATH, fig_id + \".\" + fig_extension)\n",
    "    print(\"Saving figure\", fig_id)\n",
    "    if tight_layout:\n",
    "        plt.tight_layout()\n",
    "    plt.savefig(path, format=fig_extension, dpi=resolution)"
   ]
  },
  {
   "cell_type": "code",
   "execution_count": 14,
   "metadata": {},
   "outputs": [],
   "source": [
    "from sklearn.datasets import load_digits\n",
    "from sklearn.model_selection import train_test_split"
   ]
  },
  {
   "cell_type": "code",
   "execution_count": 6,
   "metadata": {},
   "outputs": [],
   "source": [
    "X_digits, y_digits = load_digits(return_X_y=True)"
   ]
  },
  {
   "cell_type": "code",
   "execution_count": 8,
   "metadata": {},
   "outputs": [],
   "source": [
    "X_train, X_test, y_train, y_test = train_test_split(X_digits, y_digits, random_state=42)"
   ]
  },
  {
   "cell_type": "code",
   "execution_count": 9,
   "metadata": {},
   "outputs": [],
   "source": [
    "from sklearn.linear_model import LogisticRegression"
   ]
  },
  {
   "cell_type": "code",
   "execution_count": 10,
   "metadata": {},
   "outputs": [
    {
     "data": {
      "text/html": [
       "<style>#sk-container-id-1 {color: black;background-color: white;}#sk-container-id-1 pre{padding: 0;}#sk-container-id-1 div.sk-toggleable {background-color: white;}#sk-container-id-1 label.sk-toggleable__label {cursor: pointer;display: block;width: 100%;margin-bottom: 0;padding: 0.3em;box-sizing: border-box;text-align: center;}#sk-container-id-1 label.sk-toggleable__label-arrow:before {content: \"▸\";float: left;margin-right: 0.25em;color: #696969;}#sk-container-id-1 label.sk-toggleable__label-arrow:hover:before {color: black;}#sk-container-id-1 div.sk-estimator:hover label.sk-toggleable__label-arrow:before {color: black;}#sk-container-id-1 div.sk-toggleable__content {max-height: 0;max-width: 0;overflow: hidden;text-align: left;background-color: #f0f8ff;}#sk-container-id-1 div.sk-toggleable__content pre {margin: 0.2em;color: black;border-radius: 0.25em;background-color: #f0f8ff;}#sk-container-id-1 input.sk-toggleable__control:checked~div.sk-toggleable__content {max-height: 200px;max-width: 100%;overflow: auto;}#sk-container-id-1 input.sk-toggleable__control:checked~label.sk-toggleable__label-arrow:before {content: \"▾\";}#sk-container-id-1 div.sk-estimator input.sk-toggleable__control:checked~label.sk-toggleable__label {background-color: #d4ebff;}#sk-container-id-1 div.sk-label input.sk-toggleable__control:checked~label.sk-toggleable__label {background-color: #d4ebff;}#sk-container-id-1 input.sk-hidden--visually {border: 0;clip: rect(1px 1px 1px 1px);clip: rect(1px, 1px, 1px, 1px);height: 1px;margin: -1px;overflow: hidden;padding: 0;position: absolute;width: 1px;}#sk-container-id-1 div.sk-estimator {font-family: monospace;background-color: #f0f8ff;border: 1px dotted black;border-radius: 0.25em;box-sizing: border-box;margin-bottom: 0.5em;}#sk-container-id-1 div.sk-estimator:hover {background-color: #d4ebff;}#sk-container-id-1 div.sk-parallel-item::after {content: \"\";width: 100%;border-bottom: 1px solid gray;flex-grow: 1;}#sk-container-id-1 div.sk-label:hover label.sk-toggleable__label {background-color: #d4ebff;}#sk-container-id-1 div.sk-serial::before {content: \"\";position: absolute;border-left: 1px solid gray;box-sizing: border-box;top: 0;bottom: 0;left: 50%;z-index: 0;}#sk-container-id-1 div.sk-serial {display: flex;flex-direction: column;align-items: center;background-color: white;padding-right: 0.2em;padding-left: 0.2em;position: relative;}#sk-container-id-1 div.sk-item {position: relative;z-index: 1;}#sk-container-id-1 div.sk-parallel {display: flex;align-items: stretch;justify-content: center;background-color: white;position: relative;}#sk-container-id-1 div.sk-item::before, #sk-container-id-1 div.sk-parallel-item::before {content: \"\";position: absolute;border-left: 1px solid gray;box-sizing: border-box;top: 0;bottom: 0;left: 50%;z-index: -1;}#sk-container-id-1 div.sk-parallel-item {display: flex;flex-direction: column;z-index: 1;position: relative;background-color: white;}#sk-container-id-1 div.sk-parallel-item:first-child::after {align-self: flex-end;width: 50%;}#sk-container-id-1 div.sk-parallel-item:last-child::after {align-self: flex-start;width: 50%;}#sk-container-id-1 div.sk-parallel-item:only-child::after {width: 0;}#sk-container-id-1 div.sk-dashed-wrapped {border: 1px dashed gray;margin: 0 0.4em 0.5em 0.4em;box-sizing: border-box;padding-bottom: 0.4em;background-color: white;}#sk-container-id-1 div.sk-label label {font-family: monospace;font-weight: bold;display: inline-block;line-height: 1.2em;}#sk-container-id-1 div.sk-label-container {text-align: center;}#sk-container-id-1 div.sk-container {/* jupyter's `normalize.less` sets `[hidden] { display: none; }` but bootstrap.min.css set `[hidden] { display: none !important; }` so we also need the `!important` here to be able to override the default hidden behavior on the sphinx rendered scikit-learn.org. See: https://github.com/scikit-learn/scikit-learn/issues/21755 */display: inline-block !important;position: relative;}#sk-container-id-1 div.sk-text-repr-fallback {display: none;}</style><div id=\"sk-container-id-1\" class=\"sk-top-container\"><div class=\"sk-text-repr-fallback\"><pre>LogisticRegression(max_iter=5000, multi_class=&#x27;ovr&#x27;, random_state=42)</pre><b>In a Jupyter environment, please rerun this cell to show the HTML representation or trust the notebook. <br />On GitHub, the HTML representation is unable to render, please try loading this page with nbviewer.org.</b></div><div class=\"sk-container\" hidden><div class=\"sk-item\"><div class=\"sk-estimator sk-toggleable\"><input class=\"sk-toggleable__control sk-hidden--visually\" id=\"sk-estimator-id-1\" type=\"checkbox\" checked><label for=\"sk-estimator-id-1\" class=\"sk-toggleable__label sk-toggleable__label-arrow\">LogisticRegression</label><div class=\"sk-toggleable__content\"><pre>LogisticRegression(max_iter=5000, multi_class=&#x27;ovr&#x27;, random_state=42)</pre></div></div></div></div></div>"
      ],
      "text/plain": [
       "LogisticRegression(max_iter=5000, multi_class='ovr', random_state=42)"
      ]
     },
     "execution_count": 10,
     "metadata": {},
     "output_type": "execute_result"
    }
   ],
   "source": [
    "log_reg = LogisticRegression(multi_class=\"ovr\", solver=\"lbfgs\", max_iter=5000, random_state=42)\n",
    "log_reg.fit(X_train, y_train)"
   ]
  },
  {
   "cell_type": "code",
   "execution_count": 11,
   "metadata": {},
   "outputs": [
    {
     "data": {
      "text/plain": [
       "0.9688888888888889"
      ]
     },
     "execution_count": 11,
     "metadata": {},
     "output_type": "execute_result"
    }
   ],
   "source": [
    "log_reg_score = log_reg.score(X_test, y_test)\n",
    "log_reg_score"
   ]
  },
  {
   "cell_type": "markdown",
   "metadata": {},
   "source": [
    "if the logistic regression can have 96.8% accuracy, we can probably achieve better with K-Means as a preprocessing step\n",
    "* create a pipeline that will first cluster the training set into 50 clusters and replace the images with their distances to the 50 clusters, then apply the logistic regression model"
   ]
  },
  {
   "cell_type": "code",
   "execution_count": 15,
   "metadata": {},
   "outputs": [],
   "source": [
    "from sklearn.pipeline import Pipeline\n",
    "from sklearn.cluster import KMeans"
   ]
  },
  {
   "cell_type": "code",
   "execution_count": 19,
   "metadata": {},
   "outputs": [
    {
     "data": {
      "text/html": [
       "<style>#sk-container-id-3 {color: black;background-color: white;}#sk-container-id-3 pre{padding: 0;}#sk-container-id-3 div.sk-toggleable {background-color: white;}#sk-container-id-3 label.sk-toggleable__label {cursor: pointer;display: block;width: 100%;margin-bottom: 0;padding: 0.3em;box-sizing: border-box;text-align: center;}#sk-container-id-3 label.sk-toggleable__label-arrow:before {content: \"▸\";float: left;margin-right: 0.25em;color: #696969;}#sk-container-id-3 label.sk-toggleable__label-arrow:hover:before {color: black;}#sk-container-id-3 div.sk-estimator:hover label.sk-toggleable__label-arrow:before {color: black;}#sk-container-id-3 div.sk-toggleable__content {max-height: 0;max-width: 0;overflow: hidden;text-align: left;background-color: #f0f8ff;}#sk-container-id-3 div.sk-toggleable__content pre {margin: 0.2em;color: black;border-radius: 0.25em;background-color: #f0f8ff;}#sk-container-id-3 input.sk-toggleable__control:checked~div.sk-toggleable__content {max-height: 200px;max-width: 100%;overflow: auto;}#sk-container-id-3 input.sk-toggleable__control:checked~label.sk-toggleable__label-arrow:before {content: \"▾\";}#sk-container-id-3 div.sk-estimator input.sk-toggleable__control:checked~label.sk-toggleable__label {background-color: #d4ebff;}#sk-container-id-3 div.sk-label input.sk-toggleable__control:checked~label.sk-toggleable__label {background-color: #d4ebff;}#sk-container-id-3 input.sk-hidden--visually {border: 0;clip: rect(1px 1px 1px 1px);clip: rect(1px, 1px, 1px, 1px);height: 1px;margin: -1px;overflow: hidden;padding: 0;position: absolute;width: 1px;}#sk-container-id-3 div.sk-estimator {font-family: monospace;background-color: #f0f8ff;border: 1px dotted black;border-radius: 0.25em;box-sizing: border-box;margin-bottom: 0.5em;}#sk-container-id-3 div.sk-estimator:hover {background-color: #d4ebff;}#sk-container-id-3 div.sk-parallel-item::after {content: \"\";width: 100%;border-bottom: 1px solid gray;flex-grow: 1;}#sk-container-id-3 div.sk-label:hover label.sk-toggleable__label {background-color: #d4ebff;}#sk-container-id-3 div.sk-serial::before {content: \"\";position: absolute;border-left: 1px solid gray;box-sizing: border-box;top: 0;bottom: 0;left: 50%;z-index: 0;}#sk-container-id-3 div.sk-serial {display: flex;flex-direction: column;align-items: center;background-color: white;padding-right: 0.2em;padding-left: 0.2em;position: relative;}#sk-container-id-3 div.sk-item {position: relative;z-index: 1;}#sk-container-id-3 div.sk-parallel {display: flex;align-items: stretch;justify-content: center;background-color: white;position: relative;}#sk-container-id-3 div.sk-item::before, #sk-container-id-3 div.sk-parallel-item::before {content: \"\";position: absolute;border-left: 1px solid gray;box-sizing: border-box;top: 0;bottom: 0;left: 50%;z-index: -1;}#sk-container-id-3 div.sk-parallel-item {display: flex;flex-direction: column;z-index: 1;position: relative;background-color: white;}#sk-container-id-3 div.sk-parallel-item:first-child::after {align-self: flex-end;width: 50%;}#sk-container-id-3 div.sk-parallel-item:last-child::after {align-self: flex-start;width: 50%;}#sk-container-id-3 div.sk-parallel-item:only-child::after {width: 0;}#sk-container-id-3 div.sk-dashed-wrapped {border: 1px dashed gray;margin: 0 0.4em 0.5em 0.4em;box-sizing: border-box;padding-bottom: 0.4em;background-color: white;}#sk-container-id-3 div.sk-label label {font-family: monospace;font-weight: bold;display: inline-block;line-height: 1.2em;}#sk-container-id-3 div.sk-label-container {text-align: center;}#sk-container-id-3 div.sk-container {/* jupyter's `normalize.less` sets `[hidden] { display: none; }` but bootstrap.min.css set `[hidden] { display: none !important; }` so we also need the `!important` here to be able to override the default hidden behavior on the sphinx rendered scikit-learn.org. See: https://github.com/scikit-learn/scikit-learn/issues/21755 */display: inline-block !important;position: relative;}#sk-container-id-3 div.sk-text-repr-fallback {display: none;}</style><div id=\"sk-container-id-3\" class=\"sk-top-container\"><div class=\"sk-text-repr-fallback\"><pre>Pipeline(steps=[(&#x27;kmeans&#x27;, KMeans(n_clusters=50, random_state=42)),\n",
       "                (&#x27;log_reg&#x27;,\n",
       "                 LogisticRegression(max_iter=5000, multi_class=&#x27;ovr&#x27;,\n",
       "                                    random_state=42))])</pre><b>In a Jupyter environment, please rerun this cell to show the HTML representation or trust the notebook. <br />On GitHub, the HTML representation is unable to render, please try loading this page with nbviewer.org.</b></div><div class=\"sk-container\" hidden><div class=\"sk-item sk-dashed-wrapped\"><div class=\"sk-label-container\"><div class=\"sk-label sk-toggleable\"><input class=\"sk-toggleable__control sk-hidden--visually\" id=\"sk-estimator-id-5\" type=\"checkbox\" ><label for=\"sk-estimator-id-5\" class=\"sk-toggleable__label sk-toggleable__label-arrow\">Pipeline</label><div class=\"sk-toggleable__content\"><pre>Pipeline(steps=[(&#x27;kmeans&#x27;, KMeans(n_clusters=50, random_state=42)),\n",
       "                (&#x27;log_reg&#x27;,\n",
       "                 LogisticRegression(max_iter=5000, multi_class=&#x27;ovr&#x27;,\n",
       "                                    random_state=42))])</pre></div></div></div><div class=\"sk-serial\"><div class=\"sk-item\"><div class=\"sk-estimator sk-toggleable\"><input class=\"sk-toggleable__control sk-hidden--visually\" id=\"sk-estimator-id-6\" type=\"checkbox\" ><label for=\"sk-estimator-id-6\" class=\"sk-toggleable__label sk-toggleable__label-arrow\">KMeans</label><div class=\"sk-toggleable__content\"><pre>KMeans(n_clusters=50, random_state=42)</pre></div></div></div><div class=\"sk-item\"><div class=\"sk-estimator sk-toggleable\"><input class=\"sk-toggleable__control sk-hidden--visually\" id=\"sk-estimator-id-7\" type=\"checkbox\" ><label for=\"sk-estimator-id-7\" class=\"sk-toggleable__label sk-toggleable__label-arrow\">LogisticRegression</label><div class=\"sk-toggleable__content\"><pre>LogisticRegression(max_iter=5000, multi_class=&#x27;ovr&#x27;, random_state=42)</pre></div></div></div></div></div></div></div>"
      ],
      "text/plain": [
       "Pipeline(steps=[('kmeans', KMeans(n_clusters=50, random_state=42)),\n",
       "                ('log_reg',\n",
       "                 LogisticRegression(max_iter=5000, multi_class='ovr',\n",
       "                                    random_state=42))])"
      ]
     },
     "execution_count": 19,
     "metadata": {},
     "output_type": "execute_result"
    }
   ],
   "source": [
    "pipeline = Pipeline([\n",
    "    (\"kmeans\", KMeans(n_clusters=50, random_state=42)),\n",
    "    (\"log_reg\", LogisticRegression(multi_class=\"ovr\", solver=\"lbfgs\", max_iter=5000, random_state=42)),\n",
    "])\n",
    "pipeline.fit(X_train, y_train)"
   ]
  },
  {
   "cell_type": "code",
   "execution_count": 20,
   "metadata": {},
   "outputs": [
    {
     "data": {
      "text/plain": [
       "0.9777777777777777"
      ]
     },
     "execution_count": 20,
     "metadata": {},
     "output_type": "execute_result"
    }
   ],
   "source": [
    "pipeline_score = pipeline.score(X_test, y_test)\n",
    "pipeline_score"
   ]
  },
  {
   "cell_type": "markdown",
   "metadata": {},
   "source": [
    "A whopping 1% increase on accuracy, nice. "
   ]
  },
  {
   "cell_type": "code",
   "execution_count": 21,
   "metadata": {},
   "outputs": [
    {
     "data": {
      "text/plain": [
       "0.28571428571428414"
      ]
     },
     "execution_count": 21,
     "metadata": {},
     "output_type": "execute_result"
    }
   ],
   "source": [
    "1 - (1 - pipeline_score) / (1 - log_reg_score)"
   ]
  },
  {
   "cell_type": "markdown",
   "metadata": {},
   "source": [
    "error rate seemed to drop by 28.6%, not too bad. But that's only choosing the number of clusters k arbitrarily. We can perform the silhouette analysis or minimize the inertia, but the best value of k is simply the one that results in the best classification performance"
   ]
  },
  {
   "cell_type": "code",
   "execution_count": 22,
   "metadata": {},
   "outputs": [],
   "source": [
    "from sklearn.model_selection import GridSearchCV"
   ]
  },
  {
   "cell_type": "code",
   "execution_count": 23,
   "metadata": {},
   "outputs": [
    {
     "name": "stdout",
     "output_type": "stream",
     "text": [
      "Fitting 3 folds for each of 98 candidates, totalling 294 fits\n",
      "[CV] END ...............................kmeans__n_clusters=2; total time=   0.0s\n",
      "[CV] END ...............................kmeans__n_clusters=2; total time=   0.0s\n",
      "[CV] END ...............................kmeans__n_clusters=2; total time=   0.0s\n",
      "[CV] END ...............................kmeans__n_clusters=3; total time=   0.0s\n",
      "[CV] END ...............................kmeans__n_clusters=3; total time=   0.0s\n",
      "[CV] END ...............................kmeans__n_clusters=3; total time=   0.0s\n",
      "[CV] END ...............................kmeans__n_clusters=4; total time=   0.0s\n",
      "[CV] END ...............................kmeans__n_clusters=4; total time=   0.0s\n",
      "[CV] END ...............................kmeans__n_clusters=4; total time=   0.0s\n",
      "[CV] END ...............................kmeans__n_clusters=5; total time=   0.0s\n",
      "[CV] END ...............................kmeans__n_clusters=5; total time=   0.0s\n",
      "[CV] END ...............................kmeans__n_clusters=5; total time=   0.0s\n",
      "[CV] END ...............................kmeans__n_clusters=6; total time=   0.0s\n",
      "[CV] END ...............................kmeans__n_clusters=6; total time=   0.0s\n",
      "[CV] END ...............................kmeans__n_clusters=6; total time=   0.0s\n",
      "[CV] END ...............................kmeans__n_clusters=7; total time=   0.0s\n",
      "[CV] END ...............................kmeans__n_clusters=7; total time=   0.0s\n",
      "[CV] END ...............................kmeans__n_clusters=7; total time=   0.0s\n",
      "[CV] END ...............................kmeans__n_clusters=8; total time=   0.1s\n",
      "[CV] END ...............................kmeans__n_clusters=8; total time=   0.1s\n",
      "[CV] END ...............................kmeans__n_clusters=8; total time=   0.1s\n",
      "[CV] END ...............................kmeans__n_clusters=9; total time=   0.2s\n",
      "[CV] END ...............................kmeans__n_clusters=9; total time=   0.1s\n",
      "[CV] END ...............................kmeans__n_clusters=9; total time=   0.2s\n",
      "[CV] END ..............................kmeans__n_clusters=10; total time=   0.2s\n",
      "[CV] END ..............................kmeans__n_clusters=10; total time=   0.2s\n",
      "[CV] END ..............................kmeans__n_clusters=10; total time=   0.2s\n",
      "[CV] END ..............................kmeans__n_clusters=11; total time=   0.2s\n",
      "[CV] END ..............................kmeans__n_clusters=11; total time=   0.3s\n",
      "[CV] END ..............................kmeans__n_clusters=11; total time=   0.3s\n",
      "[CV] END ..............................kmeans__n_clusters=12; total time=   0.3s\n",
      "[CV] END ..............................kmeans__n_clusters=12; total time=   0.3s\n",
      "[CV] END ..............................kmeans__n_clusters=12; total time=   0.3s\n",
      "[CV] END ..............................kmeans__n_clusters=13; total time=   0.4s\n",
      "[CV] END ..............................kmeans__n_clusters=13; total time=   0.4s\n",
      "[CV] END ..............................kmeans__n_clusters=13; total time=   0.4s\n",
      "[CV] END ..............................kmeans__n_clusters=14; total time=   0.5s\n",
      "[CV] END ..............................kmeans__n_clusters=14; total time=   0.5s\n",
      "[CV] END ..............................kmeans__n_clusters=14; total time=   0.4s\n",
      "[CV] END ..............................kmeans__n_clusters=15; total time=   0.5s\n",
      "[CV] END ..............................kmeans__n_clusters=15; total time=   0.4s\n",
      "[CV] END ..............................kmeans__n_clusters=15; total time=   0.5s\n",
      "[CV] END ..............................kmeans__n_clusters=16; total time=   0.6s\n",
      "[CV] END ..............................kmeans__n_clusters=16; total time=   0.6s\n",
      "[CV] END ..............................kmeans__n_clusters=16; total time=   0.6s\n",
      "[CV] END ..............................kmeans__n_clusters=17; total time=   0.8s\n",
      "[CV] END ..............................kmeans__n_clusters=17; total time=   0.8s\n",
      "[CV] END ..............................kmeans__n_clusters=17; total time=   0.6s\n",
      "[CV] END ..............................kmeans__n_clusters=18; total time=   0.7s\n",
      "[CV] END ..............................kmeans__n_clusters=18; total time=   0.7s\n",
      "[CV] END ..............................kmeans__n_clusters=18; total time=   0.7s\n",
      "[CV] END ..............................kmeans__n_clusters=19; total time=   0.8s\n",
      "[CV] END ..............................kmeans__n_clusters=19; total time=   0.9s\n",
      "[CV] END ..............................kmeans__n_clusters=19; total time=   0.8s\n",
      "[CV] END ..............................kmeans__n_clusters=20; total time=   0.9s\n",
      "[CV] END ..............................kmeans__n_clusters=20; total time=   1.0s\n",
      "[CV] END ..............................kmeans__n_clusters=20; total time=   0.7s\n",
      "[CV] END ..............................kmeans__n_clusters=21; total time=   0.9s\n",
      "[CV] END ..............................kmeans__n_clusters=21; total time=   0.9s\n",
      "[CV] END ..............................kmeans__n_clusters=21; total time=   0.9s\n",
      "[CV] END ..............................kmeans__n_clusters=22; total time=   1.0s\n",
      "[CV] END ..............................kmeans__n_clusters=22; total time=   1.0s\n",
      "[CV] END ..............................kmeans__n_clusters=22; total time=   1.0s\n",
      "[CV] END ..............................kmeans__n_clusters=23; total time=   1.1s\n",
      "[CV] END ..............................kmeans__n_clusters=23; total time=   1.0s\n",
      "[CV] END ..............................kmeans__n_clusters=23; total time=   1.0s\n",
      "[CV] END ..............................kmeans__n_clusters=24; total time=   1.1s\n",
      "[CV] END ..............................kmeans__n_clusters=24; total time=   1.1s\n",
      "[CV] END ..............................kmeans__n_clusters=24; total time=   1.0s\n",
      "[CV] END ..............................kmeans__n_clusters=25; total time=   1.2s\n",
      "[CV] END ..............................kmeans__n_clusters=25; total time=   1.1s\n",
      "[CV] END ..............................kmeans__n_clusters=25; total time=   1.1s\n",
      "[CV] END ..............................kmeans__n_clusters=26; total time=   1.1s\n",
      "[CV] END ..............................kmeans__n_clusters=26; total time=   1.1s\n",
      "[CV] END ..............................kmeans__n_clusters=26; total time=   1.0s\n",
      "[CV] END ..............................kmeans__n_clusters=27; total time=   1.0s\n",
      "[CV] END ..............................kmeans__n_clusters=27; total time=   1.0s\n",
      "[CV] END ..............................kmeans__n_clusters=27; total time=   1.0s\n",
      "[CV] END ..............................kmeans__n_clusters=28; total time=   1.1s\n",
      "[CV] END ..............................kmeans__n_clusters=28; total time=   1.2s\n",
      "[CV] END ..............................kmeans__n_clusters=28; total time=   1.1s\n",
      "[CV] END ..............................kmeans__n_clusters=29; total time=   1.2s\n",
      "[CV] END ..............................kmeans__n_clusters=29; total time=   1.3s\n",
      "[CV] END ..............................kmeans__n_clusters=29; total time=   1.1s\n",
      "[CV] END ..............................kmeans__n_clusters=30; total time=   1.0s\n",
      "[CV] END ..............................kmeans__n_clusters=30; total time=   1.2s\n",
      "[CV] END ..............................kmeans__n_clusters=30; total time=   1.2s\n",
      "[CV] END ..............................kmeans__n_clusters=31; total time=   1.3s\n",
      "[CV] END ..............................kmeans__n_clusters=31; total time=   1.2s\n",
      "[CV] END ..............................kmeans__n_clusters=31; total time=   1.1s\n",
      "[CV] END ..............................kmeans__n_clusters=32; total time=   1.3s\n",
      "[CV] END ..............................kmeans__n_clusters=32; total time=   1.2s\n",
      "[CV] END ..............................kmeans__n_clusters=32; total time=   1.3s\n",
      "[CV] END ..............................kmeans__n_clusters=33; total time=   1.3s\n",
      "[CV] END ..............................kmeans__n_clusters=33; total time=   1.4s\n",
      "[CV] END ..............................kmeans__n_clusters=33; total time=   1.2s\n",
      "[CV] END ..............................kmeans__n_clusters=34; total time=   1.4s\n",
      "[CV] END ..............................kmeans__n_clusters=34; total time=   1.6s\n",
      "[CV] END ..............................kmeans__n_clusters=34; total time=   1.2s\n",
      "[CV] END ..............................kmeans__n_clusters=35; total time=   1.3s\n",
      "[CV] END ..............................kmeans__n_clusters=35; total time=   1.4s\n",
      "[CV] END ..............................kmeans__n_clusters=35; total time=   1.2s\n",
      "[CV] END ..............................kmeans__n_clusters=36; total time=   1.5s\n",
      "[CV] END ..............................kmeans__n_clusters=36; total time=   1.4s\n",
      "[CV] END ..............................kmeans__n_clusters=36; total time=   1.4s\n",
      "[CV] END ..............................kmeans__n_clusters=37; total time=   1.5s\n",
      "[CV] END ..............................kmeans__n_clusters=37; total time=   1.3s\n",
      "[CV] END ..............................kmeans__n_clusters=37; total time=   1.1s\n",
      "[CV] END ..............................kmeans__n_clusters=38; total time=   1.3s\n",
      "[CV] END ..............................kmeans__n_clusters=38; total time=   1.3s\n",
      "[CV] END ..............................kmeans__n_clusters=38; total time=   1.4s\n",
      "[CV] END ..............................kmeans__n_clusters=39; total time=   1.4s\n",
      "[CV] END ..............................kmeans__n_clusters=39; total time=   1.4s\n",
      "[CV] END ..............................kmeans__n_clusters=39; total time=   1.5s\n",
      "[CV] END ..............................kmeans__n_clusters=40; total time=   1.3s\n",
      "[CV] END ..............................kmeans__n_clusters=40; total time=   1.4s\n",
      "[CV] END ..............................kmeans__n_clusters=40; total time=   1.3s\n",
      "[CV] END ..............................kmeans__n_clusters=41; total time=   1.4s\n",
      "[CV] END ..............................kmeans__n_clusters=41; total time=   1.4s\n",
      "[CV] END ..............................kmeans__n_clusters=41; total time=   1.5s\n",
      "[CV] END ..............................kmeans__n_clusters=42; total time=   1.6s\n",
      "[CV] END ..............................kmeans__n_clusters=42; total time=   1.6s\n",
      "[CV] END ..............................kmeans__n_clusters=42; total time=   1.4s\n",
      "[CV] END ..............................kmeans__n_clusters=43; total time=   1.4s\n",
      "[CV] END ..............................kmeans__n_clusters=43; total time=   1.4s\n",
      "[CV] END ..............................kmeans__n_clusters=43; total time=   1.5s\n",
      "[CV] END ..............................kmeans__n_clusters=44; total time=   1.5s\n",
      "[CV] END ..............................kmeans__n_clusters=44; total time=   1.3s\n",
      "[CV] END ..............................kmeans__n_clusters=44; total time=   1.3s\n",
      "[CV] END ..............................kmeans__n_clusters=45; total time=   1.5s\n",
      "[CV] END ..............................kmeans__n_clusters=45; total time=   1.6s\n",
      "[CV] END ..............................kmeans__n_clusters=45; total time=   1.7s\n",
      "[CV] END ..............................kmeans__n_clusters=46; total time=   1.5s\n",
      "[CV] END ..............................kmeans__n_clusters=46; total time=   1.5s\n",
      "[CV] END ..............................kmeans__n_clusters=46; total time=   1.6s\n",
      "[CV] END ..............................kmeans__n_clusters=47; total time=   1.5s\n",
      "[CV] END ..............................kmeans__n_clusters=47; total time=   1.4s\n",
      "[CV] END ..............................kmeans__n_clusters=47; total time=   1.6s\n",
      "[CV] END ..............................kmeans__n_clusters=48; total time=   1.5s\n",
      "[CV] END ..............................kmeans__n_clusters=48; total time=   1.7s\n",
      "[CV] END ..............................kmeans__n_clusters=48; total time=   1.4s\n",
      "[CV] END ..............................kmeans__n_clusters=49; total time=   1.5s\n",
      "[CV] END ..............................kmeans__n_clusters=49; total time=   1.5s\n",
      "[CV] END ..............................kmeans__n_clusters=49; total time=   1.6s\n",
      "[CV] END ..............................kmeans__n_clusters=50; total time=   1.7s\n",
      "[CV] END ..............................kmeans__n_clusters=50; total time=   1.5s\n",
      "[CV] END ..............................kmeans__n_clusters=50; total time=   1.6s\n",
      "[CV] END ..............................kmeans__n_clusters=51; total time=   1.7s\n",
      "[CV] END ..............................kmeans__n_clusters=51; total time=   1.8s\n",
      "[CV] END ..............................kmeans__n_clusters=51; total time=   1.5s\n",
      "[CV] END ..............................kmeans__n_clusters=52; total time=   1.5s\n",
      "[CV] END ..............................kmeans__n_clusters=52; total time=   1.8s\n",
      "[CV] END ..............................kmeans__n_clusters=52; total time=   1.5s\n",
      "[CV] END ..............................kmeans__n_clusters=53; total time=   1.5s\n",
      "[CV] END ..............................kmeans__n_clusters=53; total time=   1.5s\n",
      "[CV] END ..............................kmeans__n_clusters=53; total time=   1.6s\n",
      "[CV] END ..............................kmeans__n_clusters=54; total time=   1.5s\n",
      "[CV] END ..............................kmeans__n_clusters=54; total time=   1.7s\n",
      "[CV] END ..............................kmeans__n_clusters=54; total time=   1.5s\n",
      "[CV] END ..............................kmeans__n_clusters=55; total time=   1.5s\n",
      "[CV] END ..............................kmeans__n_clusters=55; total time=   1.5s\n",
      "[CV] END ..............................kmeans__n_clusters=55; total time=   1.7s\n",
      "[CV] END ..............................kmeans__n_clusters=56; total time=   1.7s\n",
      "[CV] END ..............................kmeans__n_clusters=56; total time=   1.8s\n",
      "[CV] END ..............................kmeans__n_clusters=56; total time=   1.6s\n",
      "[CV] END ..............................kmeans__n_clusters=57; total time=   1.6s\n",
      "[CV] END ..............................kmeans__n_clusters=57; total time=   1.8s\n",
      "[CV] END ..............................kmeans__n_clusters=57; total time=   1.6s\n",
      "[CV] END ..............................kmeans__n_clusters=58; total time=   1.8s\n",
      "[CV] END ..............................kmeans__n_clusters=58; total time=   1.9s\n",
      "[CV] END ..............................kmeans__n_clusters=58; total time=   1.7s\n",
      "[CV] END ..............................kmeans__n_clusters=59; total time=   1.8s\n",
      "[CV] END ..............................kmeans__n_clusters=59; total time=   1.6s\n",
      "[CV] END ..............................kmeans__n_clusters=59; total time=   1.5s\n",
      "[CV] END ..............................kmeans__n_clusters=60; total time=   1.7s\n",
      "[CV] END ..............................kmeans__n_clusters=60; total time=   1.9s\n",
      "[CV] END ..............................kmeans__n_clusters=60; total time=   1.8s\n",
      "[CV] END ..............................kmeans__n_clusters=61; total time=   1.5s\n",
      "[CV] END ..............................kmeans__n_clusters=61; total time=   1.6s\n",
      "[CV] END ..............................kmeans__n_clusters=61; total time=   1.5s\n",
      "[CV] END ..............................kmeans__n_clusters=62; total time=   1.8s\n",
      "[CV] END ..............................kmeans__n_clusters=62; total time=   1.7s\n",
      "[CV] END ..............................kmeans__n_clusters=62; total time=   1.6s\n",
      "[CV] END ..............................kmeans__n_clusters=63; total time=   1.7s\n",
      "[CV] END ..............................kmeans__n_clusters=63; total time=   1.8s\n",
      "[CV] END ..............................kmeans__n_clusters=63; total time=   1.5s\n",
      "[CV] END ..............................kmeans__n_clusters=64; total time=   1.7s\n",
      "[CV] END ..............................kmeans__n_clusters=64; total time=   1.9s\n",
      "[CV] END ..............................kmeans__n_clusters=64; total time=   1.8s\n",
      "[CV] END ..............................kmeans__n_clusters=65; total time=   1.5s\n",
      "[CV] END ..............................kmeans__n_clusters=65; total time=   1.7s\n",
      "[CV] END ..............................kmeans__n_clusters=65; total time=   1.6s\n",
      "[CV] END ..............................kmeans__n_clusters=66; total time=   1.9s\n",
      "[CV] END ..............................kmeans__n_clusters=66; total time=   2.1s\n",
      "[CV] END ..............................kmeans__n_clusters=66; total time=   2.0s\n",
      "[CV] END ..............................kmeans__n_clusters=67; total time=   1.7s\n",
      "[CV] END ..............................kmeans__n_clusters=67; total time=   1.8s\n",
      "[CV] END ..............................kmeans__n_clusters=67; total time=   1.8s\n",
      "[CV] END ..............................kmeans__n_clusters=68; total time=   2.0s\n",
      "[CV] END ..............................kmeans__n_clusters=68; total time=   1.8s\n",
      "[CV] END ..............................kmeans__n_clusters=68; total time=   1.7s\n",
      "[CV] END ..............................kmeans__n_clusters=69; total time=   1.7s\n",
      "[CV] END ..............................kmeans__n_clusters=69; total time=   1.9s\n",
      "[CV] END ..............................kmeans__n_clusters=69; total time=   1.8s\n",
      "[CV] END ..............................kmeans__n_clusters=70; total time=   1.8s\n",
      "[CV] END ..............................kmeans__n_clusters=70; total time=   1.8s\n",
      "[CV] END ..............................kmeans__n_clusters=70; total time=   1.9s\n",
      "[CV] END ..............................kmeans__n_clusters=71; total time=   1.5s\n",
      "[CV] END ..............................kmeans__n_clusters=71; total time=   1.8s\n",
      "[CV] END ..............................kmeans__n_clusters=71; total time=   1.9s\n",
      "[CV] END ..............................kmeans__n_clusters=72; total time=   2.2s\n",
      "[CV] END ..............................kmeans__n_clusters=72; total time=   1.9s\n",
      "[CV] END ..............................kmeans__n_clusters=72; total time=   1.9s\n",
      "[CV] END ..............................kmeans__n_clusters=73; total time=   1.9s\n",
      "[CV] END ..............................kmeans__n_clusters=73; total time=   1.9s\n",
      "[CV] END ..............................kmeans__n_clusters=73; total time=   1.8s\n",
      "[CV] END ..............................kmeans__n_clusters=74; total time=   1.9s\n",
      "[CV] END ..............................kmeans__n_clusters=74; total time=   2.1s\n",
      "[CV] END ..............................kmeans__n_clusters=74; total time=   2.0s\n",
      "[CV] END ..............................kmeans__n_clusters=75; total time=   1.8s\n",
      "[CV] END ..............................kmeans__n_clusters=75; total time=   1.9s\n",
      "[CV] END ..............................kmeans__n_clusters=75; total time=   1.8s\n",
      "[CV] END ..............................kmeans__n_clusters=76; total time=   1.9s\n",
      "[CV] END ..............................kmeans__n_clusters=76; total time=   1.7s\n",
      "[CV] END ..............................kmeans__n_clusters=76; total time=   1.5s\n",
      "[CV] END ..............................kmeans__n_clusters=77; total time=   1.9s\n",
      "[CV] END ..............................kmeans__n_clusters=77; total time=   2.1s\n",
      "[CV] END ..............................kmeans__n_clusters=77; total time=   1.7s\n",
      "[CV] END ..............................kmeans__n_clusters=78; total time=   2.0s\n",
      "[CV] END ..............................kmeans__n_clusters=78; total time=   2.0s\n",
      "[CV] END ..............................kmeans__n_clusters=78; total time=   2.0s\n",
      "[CV] END ..............................kmeans__n_clusters=79; total time=   2.1s\n",
      "[CV] END ..............................kmeans__n_clusters=79; total time=   1.8s\n",
      "[CV] END ..............................kmeans__n_clusters=79; total time=   1.4s\n",
      "[CV] END ..............................kmeans__n_clusters=80; total time=   1.7s\n",
      "[CV] END ..............................kmeans__n_clusters=80; total time=   2.1s\n",
      "[CV] END ..............................kmeans__n_clusters=80; total time=   2.1s\n",
      "[CV] END ..............................kmeans__n_clusters=81; total time=   1.9s\n",
      "[CV] END ..............................kmeans__n_clusters=81; total time=   1.9s\n",
      "[CV] END ..............................kmeans__n_clusters=81; total time=   1.8s\n",
      "[CV] END ..............................kmeans__n_clusters=82; total time=   1.9s\n",
      "[CV] END ..............................kmeans__n_clusters=82; total time=   2.1s\n",
      "[CV] END ..............................kmeans__n_clusters=82; total time=   1.8s\n",
      "[CV] END ..............................kmeans__n_clusters=83; total time=   2.0s\n",
      "[CV] END ..............................kmeans__n_clusters=83; total time=   1.6s\n",
      "[CV] END ..............................kmeans__n_clusters=83; total time=   1.8s\n",
      "[CV] END ..............................kmeans__n_clusters=84; total time=   1.9s\n",
      "[CV] END ..............................kmeans__n_clusters=84; total time=   2.0s\n",
      "[CV] END ..............................kmeans__n_clusters=84; total time=   1.8s\n",
      "[CV] END ..............................kmeans__n_clusters=85; total time=   2.1s\n",
      "[CV] END ..............................kmeans__n_clusters=85; total time=   2.0s\n",
      "[CV] END ..............................kmeans__n_clusters=85; total time=   1.9s\n",
      "[CV] END ..............................kmeans__n_clusters=86; total time=   2.1s\n",
      "[CV] END ..............................kmeans__n_clusters=86; total time=   2.1s\n",
      "[CV] END ..............................kmeans__n_clusters=86; total time=   1.8s\n",
      "[CV] END ..............................kmeans__n_clusters=87; total time=   1.9s\n",
      "[CV] END ..............................kmeans__n_clusters=87; total time=   2.2s\n",
      "[CV] END ..............................kmeans__n_clusters=87; total time=   1.9s\n",
      "[CV] END ..............................kmeans__n_clusters=88; total time=   1.8s\n",
      "[CV] END ..............................kmeans__n_clusters=88; total time=   2.1s\n",
      "[CV] END ..............................kmeans__n_clusters=88; total time=   1.8s\n",
      "[CV] END ..............................kmeans__n_clusters=89; total time=   1.8s\n",
      "[CV] END ..............................kmeans__n_clusters=89; total time=   1.9s\n",
      "[CV] END ..............................kmeans__n_clusters=89; total time=   1.9s\n",
      "[CV] END ..............................kmeans__n_clusters=90; total time=   2.0s\n",
      "[CV] END ..............................kmeans__n_clusters=90; total time=   2.0s\n",
      "[CV] END ..............................kmeans__n_clusters=90; total time=   1.9s\n",
      "[CV] END ..............................kmeans__n_clusters=91; total time=   2.0s\n",
      "[CV] END ..............................kmeans__n_clusters=91; total time=   2.0s\n",
      "[CV] END ..............................kmeans__n_clusters=91; total time=   1.8s\n",
      "[CV] END ..............................kmeans__n_clusters=92; total time=   1.9s\n",
      "[CV] END ..............................kmeans__n_clusters=92; total time=   2.0s\n",
      "[CV] END ..............................kmeans__n_clusters=92; total time=   1.5s\n",
      "[CV] END ..............................kmeans__n_clusters=93; total time=   1.9s\n",
      "[CV] END ..............................kmeans__n_clusters=93; total time=   2.1s\n",
      "[CV] END ..............................kmeans__n_clusters=93; total time=   1.9s\n",
      "[CV] END ..............................kmeans__n_clusters=94; total time=   1.8s\n",
      "[CV] END ..............................kmeans__n_clusters=94; total time=   2.2s\n",
      "[CV] END ..............................kmeans__n_clusters=94; total time=   1.7s\n",
      "[CV] END ..............................kmeans__n_clusters=95; total time=   1.9s\n",
      "[CV] END ..............................kmeans__n_clusters=95; total time=   1.9s\n",
      "[CV] END ..............................kmeans__n_clusters=95; total time=   1.9s\n",
      "[CV] END ..............................kmeans__n_clusters=96; total time=   2.2s\n",
      "[CV] END ..............................kmeans__n_clusters=96; total time=   1.9s\n",
      "[CV] END ..............................kmeans__n_clusters=96; total time=   1.7s\n",
      "[CV] END ..............................kmeans__n_clusters=97; total time=   1.9s\n",
      "[CV] END ..............................kmeans__n_clusters=97; total time=   2.2s\n",
      "[CV] END ..............................kmeans__n_clusters=97; total time=   2.1s\n",
      "[CV] END ..............................kmeans__n_clusters=98; total time=   1.7s\n",
      "[CV] END ..............................kmeans__n_clusters=98; total time=   2.0s\n",
      "[CV] END ..............................kmeans__n_clusters=98; total time=   1.6s\n",
      "[CV] END ..............................kmeans__n_clusters=99; total time=   1.9s\n",
      "[CV] END ..............................kmeans__n_clusters=99; total time=   2.1s\n",
      "[CV] END ..............................kmeans__n_clusters=99; total time=   2.1s\n"
     ]
    },
    {
     "data": {
      "text/html": [
       "<style>#sk-container-id-4 {color: black;background-color: white;}#sk-container-id-4 pre{padding: 0;}#sk-container-id-4 div.sk-toggleable {background-color: white;}#sk-container-id-4 label.sk-toggleable__label {cursor: pointer;display: block;width: 100%;margin-bottom: 0;padding: 0.3em;box-sizing: border-box;text-align: center;}#sk-container-id-4 label.sk-toggleable__label-arrow:before {content: \"▸\";float: left;margin-right: 0.25em;color: #696969;}#sk-container-id-4 label.sk-toggleable__label-arrow:hover:before {color: black;}#sk-container-id-4 div.sk-estimator:hover label.sk-toggleable__label-arrow:before {color: black;}#sk-container-id-4 div.sk-toggleable__content {max-height: 0;max-width: 0;overflow: hidden;text-align: left;background-color: #f0f8ff;}#sk-container-id-4 div.sk-toggleable__content pre {margin: 0.2em;color: black;border-radius: 0.25em;background-color: #f0f8ff;}#sk-container-id-4 input.sk-toggleable__control:checked~div.sk-toggleable__content {max-height: 200px;max-width: 100%;overflow: auto;}#sk-container-id-4 input.sk-toggleable__control:checked~label.sk-toggleable__label-arrow:before {content: \"▾\";}#sk-container-id-4 div.sk-estimator input.sk-toggleable__control:checked~label.sk-toggleable__label {background-color: #d4ebff;}#sk-container-id-4 div.sk-label input.sk-toggleable__control:checked~label.sk-toggleable__label {background-color: #d4ebff;}#sk-container-id-4 input.sk-hidden--visually {border: 0;clip: rect(1px 1px 1px 1px);clip: rect(1px, 1px, 1px, 1px);height: 1px;margin: -1px;overflow: hidden;padding: 0;position: absolute;width: 1px;}#sk-container-id-4 div.sk-estimator {font-family: monospace;background-color: #f0f8ff;border: 1px dotted black;border-radius: 0.25em;box-sizing: border-box;margin-bottom: 0.5em;}#sk-container-id-4 div.sk-estimator:hover {background-color: #d4ebff;}#sk-container-id-4 div.sk-parallel-item::after {content: \"\";width: 100%;border-bottom: 1px solid gray;flex-grow: 1;}#sk-container-id-4 div.sk-label:hover label.sk-toggleable__label {background-color: #d4ebff;}#sk-container-id-4 div.sk-serial::before {content: \"\";position: absolute;border-left: 1px solid gray;box-sizing: border-box;top: 0;bottom: 0;left: 50%;z-index: 0;}#sk-container-id-4 div.sk-serial {display: flex;flex-direction: column;align-items: center;background-color: white;padding-right: 0.2em;padding-left: 0.2em;position: relative;}#sk-container-id-4 div.sk-item {position: relative;z-index: 1;}#sk-container-id-4 div.sk-parallel {display: flex;align-items: stretch;justify-content: center;background-color: white;position: relative;}#sk-container-id-4 div.sk-item::before, #sk-container-id-4 div.sk-parallel-item::before {content: \"\";position: absolute;border-left: 1px solid gray;box-sizing: border-box;top: 0;bottom: 0;left: 50%;z-index: -1;}#sk-container-id-4 div.sk-parallel-item {display: flex;flex-direction: column;z-index: 1;position: relative;background-color: white;}#sk-container-id-4 div.sk-parallel-item:first-child::after {align-self: flex-end;width: 50%;}#sk-container-id-4 div.sk-parallel-item:last-child::after {align-self: flex-start;width: 50%;}#sk-container-id-4 div.sk-parallel-item:only-child::after {width: 0;}#sk-container-id-4 div.sk-dashed-wrapped {border: 1px dashed gray;margin: 0 0.4em 0.5em 0.4em;box-sizing: border-box;padding-bottom: 0.4em;background-color: white;}#sk-container-id-4 div.sk-label label {font-family: monospace;font-weight: bold;display: inline-block;line-height: 1.2em;}#sk-container-id-4 div.sk-label-container {text-align: center;}#sk-container-id-4 div.sk-container {/* jupyter's `normalize.less` sets `[hidden] { display: none; }` but bootstrap.min.css set `[hidden] { display: none !important; }` so we also need the `!important` here to be able to override the default hidden behavior on the sphinx rendered scikit-learn.org. See: https://github.com/scikit-learn/scikit-learn/issues/21755 */display: inline-block !important;position: relative;}#sk-container-id-4 div.sk-text-repr-fallback {display: none;}</style><div id=\"sk-container-id-4\" class=\"sk-top-container\"><div class=\"sk-text-repr-fallback\"><pre>GridSearchCV(cv=3,\n",
       "             estimator=Pipeline(steps=[(&#x27;kmeans&#x27;,\n",
       "                                        KMeans(n_clusters=50, random_state=42)),\n",
       "                                       (&#x27;log_reg&#x27;,\n",
       "                                        LogisticRegression(max_iter=5000,\n",
       "                                                           multi_class=&#x27;ovr&#x27;,\n",
       "                                                           random_state=42))]),\n",
       "             param_grid={&#x27;kmeans__n_clusters&#x27;: range(2, 100)}, verbose=2)</pre><b>In a Jupyter environment, please rerun this cell to show the HTML representation or trust the notebook. <br />On GitHub, the HTML representation is unable to render, please try loading this page with nbviewer.org.</b></div><div class=\"sk-container\" hidden><div class=\"sk-item sk-dashed-wrapped\"><div class=\"sk-label-container\"><div class=\"sk-label sk-toggleable\"><input class=\"sk-toggleable__control sk-hidden--visually\" id=\"sk-estimator-id-8\" type=\"checkbox\" ><label for=\"sk-estimator-id-8\" class=\"sk-toggleable__label sk-toggleable__label-arrow\">GridSearchCV</label><div class=\"sk-toggleable__content\"><pre>GridSearchCV(cv=3,\n",
       "             estimator=Pipeline(steps=[(&#x27;kmeans&#x27;,\n",
       "                                        KMeans(n_clusters=50, random_state=42)),\n",
       "                                       (&#x27;log_reg&#x27;,\n",
       "                                        LogisticRegression(max_iter=5000,\n",
       "                                                           multi_class=&#x27;ovr&#x27;,\n",
       "                                                           random_state=42))]),\n",
       "             param_grid={&#x27;kmeans__n_clusters&#x27;: range(2, 100)}, verbose=2)</pre></div></div></div><div class=\"sk-parallel\"><div class=\"sk-parallel-item\"><div class=\"sk-item\"><div class=\"sk-label-container\"><div class=\"sk-label sk-toggleable\"><input class=\"sk-toggleable__control sk-hidden--visually\" id=\"sk-estimator-id-9\" type=\"checkbox\" ><label for=\"sk-estimator-id-9\" class=\"sk-toggleable__label sk-toggleable__label-arrow\">estimator: Pipeline</label><div class=\"sk-toggleable__content\"><pre>Pipeline(steps=[(&#x27;kmeans&#x27;, KMeans(n_clusters=50, random_state=42)),\n",
       "                (&#x27;log_reg&#x27;,\n",
       "                 LogisticRegression(max_iter=5000, multi_class=&#x27;ovr&#x27;,\n",
       "                                    random_state=42))])</pre></div></div></div><div class=\"sk-serial\"><div class=\"sk-item\"><div class=\"sk-serial\"><div class=\"sk-item\"><div class=\"sk-estimator sk-toggleable\"><input class=\"sk-toggleable__control sk-hidden--visually\" id=\"sk-estimator-id-10\" type=\"checkbox\" ><label for=\"sk-estimator-id-10\" class=\"sk-toggleable__label sk-toggleable__label-arrow\">KMeans</label><div class=\"sk-toggleable__content\"><pre>KMeans(n_clusters=50, random_state=42)</pre></div></div></div><div class=\"sk-item\"><div class=\"sk-estimator sk-toggleable\"><input class=\"sk-toggleable__control sk-hidden--visually\" id=\"sk-estimator-id-11\" type=\"checkbox\" ><label for=\"sk-estimator-id-11\" class=\"sk-toggleable__label sk-toggleable__label-arrow\">LogisticRegression</label><div class=\"sk-toggleable__content\"><pre>LogisticRegression(max_iter=5000, multi_class=&#x27;ovr&#x27;, random_state=42)</pre></div></div></div></div></div></div></div></div></div></div></div></div>"
      ],
      "text/plain": [
       "GridSearchCV(cv=3,\n",
       "             estimator=Pipeline(steps=[('kmeans',\n",
       "                                        KMeans(n_clusters=50, random_state=42)),\n",
       "                                       ('log_reg',\n",
       "                                        LogisticRegression(max_iter=5000,\n",
       "                                                           multi_class='ovr',\n",
       "                                                           random_state=42))]),\n",
       "             param_grid={'kmeans__n_clusters': range(2, 100)}, verbose=2)"
      ]
     },
     "execution_count": 23,
     "metadata": {},
     "output_type": "execute_result"
    }
   ],
   "source": [
    "param_grid = dict(kmeans__n_clusters=range(2, 100))\n",
    "grid_clf = GridSearchCV(pipeline, param_grid, cv=3, verbose=2)\n",
    "grid_clf.fit(X_train, y_train)"
   ]
  },
  {
   "cell_type": "code",
   "execution_count": 24,
   "metadata": {},
   "outputs": [
    {
     "data": {
      "text/plain": [
       "{'kmeans__n_clusters': 88}"
      ]
     },
     "execution_count": 24,
     "metadata": {},
     "output_type": "execute_result"
    }
   ],
   "source": [
    "grid_clf.best_params_"
   ]
  },
  {
   "cell_type": "code",
   "execution_count": 25,
   "metadata": {},
   "outputs": [
    {
     "data": {
      "text/plain": [
       "0.9822222222222222"
      ]
     },
     "execution_count": 25,
     "metadata": {},
     "output_type": "execute_result"
    }
   ],
   "source": [
    "grid_clf.score(X_test, y_test)"
   ]
  },
  {
   "cell_type": "markdown",
   "metadata": {},
   "source": [
    "Accuracy increased to 0.5%, noice. from 96% accuracy originally without clustering to 98% accuracy using the clustering algorithm."
   ]
  },
  {
   "cell_type": "markdown",
   "metadata": {},
   "source": [
    "### Semi-Supervised Learning"
   ]
  },
  {
   "cell_type": "code",
   "execution_count": 26,
   "metadata": {},
   "outputs": [],
   "source": [
    "n_labeled = 50"
   ]
  },
  {
   "cell_type": "code",
   "execution_count": 27,
   "metadata": {},
   "outputs": [
    {
     "data": {
      "text/plain": [
       "0.8333333333333334"
      ]
     },
     "execution_count": 27,
     "metadata": {},
     "output_type": "execute_result"
    }
   ],
   "source": [
    "log_reg = LogisticRegression(multi_class=\"ovr\", solver=\"lbfgs\", random_state=42)\n",
    "log_reg.fit(X_train[:n_labeled], y_train[:n_labeled])\n",
    "log_reg.score(X_test, y_test)"
   ]
  },
  {
   "cell_type": "markdown",
   "metadata": {},
   "source": [
    "Not too terrible for only 50 labeled instances. obviously it wouldn't be high compared to our original 96% as supervised learning"
   ]
  },
  {
   "cell_type": "markdown",
   "metadata": {},
   "source": [
    "We cluster the training set into 50 clusters, then for each clusters, we find the image closest to the centroid"
   ]
  },
  {
   "cell_type": "code",
   "execution_count": 28,
   "metadata": {},
   "outputs": [],
   "source": [
    "k = 50"
   ]
  },
  {
   "cell_type": "code",
   "execution_count": 29,
   "metadata": {},
   "outputs": [],
   "source": [
    "kmeans = KMeans(n_clusters=k, random_state=42)\n",
    "X_digits_dist = kmeans.fit_transform(X_train)\n",
    "representative_digit_idx = np.argmin(X_digits_dist, axis=0)\n",
    "X_representative_digits = X_train[representative_digit_idx]"
   ]
  },
  {
   "cell_type": "code",
   "execution_count": 30,
   "metadata": {},
   "outputs": [
    {
     "name": "stdout",
     "output_type": "stream",
     "text": [
      "Saving figure representative_images_diagram\n"
     ]
    },
    {
     "data": {
      "image/png": "[encoded data removed]",
      "text/plain": [
       "<Figure size 576x144 with 50 Axes>"
      ]
     },
     "metadata": {
      "needs_background": "light"
     },
     "output_type": "display_data"
    }
   ],
   "source": [
    "plt.figure(figsize=(8, 2))\n",
    "for index, X_representative_digit in enumerate(X_representative_digits):\n",
    "    plt.subplot(k // 10, 10, index + 1)\n",
    "    plt.imshow(X_representative_digit.reshape(8, 8), cmap=\"binary\", interpolation=\"bilinear\")\n",
    "    plt.axis('off')\n",
    "\n",
    "save_fig(\"representative_images_diagram\", tight_layout=False)\n",
    "plt.show()"
   ]
  },
  {
   "cell_type": "code",
   "execution_count": 31,
   "metadata": {},
   "outputs": [
    {
     "data": {
      "text/plain": [
       "array([4, 8, 0, 6, 8, 3, 7, 7, 9, 2, 5, 5, 8, 5, 2, 1, 2, 9, 6, 1, 1, 6,\n",
       "       9, 0, 8, 3, 0, 7, 4, 1, 6, 5, 2, 4, 1, 8, 6, 3, 9, 2, 4, 2, 9, 4,\n",
       "       7, 6, 2, 3, 1, 1])"
      ]
     },
     "execution_count": 31,
     "metadata": {},
     "output_type": "execute_result"
    }
   ],
   "source": [
    "y_train[representative_digit_idx]"
   ]
  },
  {
   "cell_type": "code",
   "execution_count": 34,
   "metadata": {},
   "outputs": [],
   "source": [
    "y_representative_digits = np.array([\n",
    "    4, 8, 0, 6, 8, 3, 7, 7, 9, 2,\n",
    "    5, 5, 8, 5, 2, 1, 2, 9, 6, 1, \n",
    "    1, 6, 9, 0, 8, 3, 0, 7, 4, 1, \n",
    "    6, 5, 2, 4, 1, 8, 6, 3, 9, 2, \n",
    "    4, 2, 9, 4, 7, 6, 2, 3, 1, 1])"
   ]
  },
  {
   "cell_type": "code",
   "execution_count": 35,
   "metadata": {},
   "outputs": [
    {
     "data": {
      "text/plain": [
       "0.9177777777777778"
      ]
     },
     "execution_count": 35,
     "metadata": {},
     "output_type": "execute_result"
    }
   ],
   "source": [
    "log_reg = LogisticRegression(multi_class=\"ovr\", solver=\"lbfgs\", max_iter=5000, random_state=42)\n",
    "log_reg.fit(X_representative_digits, y_representative_digits)\n",
    "log_reg.score(X_test, y_test)"
   ]
  },
  {
   "cell_type": "markdown",
   "metadata": {},
   "source": [
    "From 83% to 91.7% isn't too bad for training the model on 50 instances. It's costly and tedious to label these instances manually, but it's a good idea to make them label representative instances rather than random instances"
   ]
  },
  {
   "cell_type": "markdown",
   "metadata": {},
   "source": [
    "we can propagate the labels to all the other instances in the same cluster"
   ]
  },
  {
   "cell_type": "code",
   "execution_count": 36,
   "metadata": {},
   "outputs": [],
   "source": [
    "y_train_propagated = np.empty(len(X_train), dtype=np.int32)\n",
    "for i in range(k):\n",
    "    y_train_propagated[kmeans.labels_==i] = y_representative_digits[i]"
   ]
  },
  {
   "cell_type": "code",
   "execution_count": 37,
   "metadata": {},
   "outputs": [
    {
     "data": {
      "text/html": [
       "<style>#sk-container-id-5 {color: black;background-color: white;}#sk-container-id-5 pre{padding: 0;}#sk-container-id-5 div.sk-toggleable {background-color: white;}#sk-container-id-5 label.sk-toggleable__label {cursor: pointer;display: block;width: 100%;margin-bottom: 0;padding: 0.3em;box-sizing: border-box;text-align: center;}#sk-container-id-5 label.sk-toggleable__label-arrow:before {content: \"▸\";float: left;margin-right: 0.25em;color: #696969;}#sk-container-id-5 label.sk-toggleable__label-arrow:hover:before {color: black;}#sk-container-id-5 div.sk-estimator:hover label.sk-toggleable__label-arrow:before {color: black;}#sk-container-id-5 div.sk-toggleable__content {max-height: 0;max-width: 0;overflow: hidden;text-align: left;background-color: #f0f8ff;}#sk-container-id-5 div.sk-toggleable__content pre {margin: 0.2em;color: black;border-radius: 0.25em;background-color: #f0f8ff;}#sk-container-id-5 input.sk-toggleable__control:checked~div.sk-toggleable__content {max-height: 200px;max-width: 100%;overflow: auto;}#sk-container-id-5 input.sk-toggleable__control:checked~label.sk-toggleable__label-arrow:before {content: \"▾\";}#sk-container-id-5 div.sk-estimator input.sk-toggleable__control:checked~label.sk-toggleable__label {background-color: #d4ebff;}#sk-container-id-5 div.sk-label input.sk-toggleable__control:checked~label.sk-toggleable__label {background-color: #d4ebff;}#sk-container-id-5 input.sk-hidden--visually {border: 0;clip: rect(1px 1px 1px 1px);clip: rect(1px, 1px, 1px, 1px);height: 1px;margin: -1px;overflow: hidden;padding: 0;position: absolute;width: 1px;}#sk-container-id-5 div.sk-estimator {font-family: monospace;background-color: #f0f8ff;border: 1px dotted black;border-radius: 0.25em;box-sizing: border-box;margin-bottom: 0.5em;}#sk-container-id-5 div.sk-estimator:hover {background-color: #d4ebff;}#sk-container-id-5 div.sk-parallel-item::after {content: \"\";width: 100%;border-bottom: 1px solid gray;flex-grow: 1;}#sk-container-id-5 div.sk-label:hover label.sk-toggleable__label {background-color: #d4ebff;}#sk-container-id-5 div.sk-serial::before {content: \"\";position: absolute;border-left: 1px solid gray;box-sizing: border-box;top: 0;bottom: 0;left: 50%;z-index: 0;}#sk-container-id-5 div.sk-serial {display: flex;flex-direction: column;align-items: center;background-color: white;padding-right: 0.2em;padding-left: 0.2em;position: relative;}#sk-container-id-5 div.sk-item {position: relative;z-index: 1;}#sk-container-id-5 div.sk-parallel {display: flex;align-items: stretch;justify-content: center;background-color: white;position: relative;}#sk-container-id-5 div.sk-item::before, #sk-container-id-5 div.sk-parallel-item::before {content: \"\";position: absolute;border-left: 1px solid gray;box-sizing: border-box;top: 0;bottom: 0;left: 50%;z-index: -1;}#sk-container-id-5 div.sk-parallel-item {display: flex;flex-direction: column;z-index: 1;position: relative;background-color: white;}#sk-container-id-5 div.sk-parallel-item:first-child::after {align-self: flex-end;width: 50%;}#sk-container-id-5 div.sk-parallel-item:last-child::after {align-self: flex-start;width: 50%;}#sk-container-id-5 div.sk-parallel-item:only-child::after {width: 0;}#sk-container-id-5 div.sk-dashed-wrapped {border: 1px dashed gray;margin: 0 0.4em 0.5em 0.4em;box-sizing: border-box;padding-bottom: 0.4em;background-color: white;}#sk-container-id-5 div.sk-label label {font-family: monospace;font-weight: bold;display: inline-block;line-height: 1.2em;}#sk-container-id-5 div.sk-label-container {text-align: center;}#sk-container-id-5 div.sk-container {/* jupyter's `normalize.less` sets `[hidden] { display: none; }` but bootstrap.min.css set `[hidden] { display: none !important; }` so we also need the `!important` here to be able to override the default hidden behavior on the sphinx rendered scikit-learn.org. See: https://github.com/scikit-learn/scikit-learn/issues/21755 */display: inline-block !important;position: relative;}#sk-container-id-5 div.sk-text-repr-fallback {display: none;}</style><div id=\"sk-container-id-5\" class=\"sk-top-container\"><div class=\"sk-text-repr-fallback\"><pre>LogisticRegression(max_iter=5000, multi_class=&#x27;ovr&#x27;, random_state=42)</pre><b>In a Jupyter environment, please rerun this cell to show the HTML representation or trust the notebook. <br />On GitHub, the HTML representation is unable to render, please try loading this page with nbviewer.org.</b></div><div class=\"sk-container\" hidden><div class=\"sk-item\"><div class=\"sk-estimator sk-toggleable\"><input class=\"sk-toggleable__control sk-hidden--visually\" id=\"sk-estimator-id-12\" type=\"checkbox\" checked><label for=\"sk-estimator-id-12\" class=\"sk-toggleable__label sk-toggleable__label-arrow\">LogisticRegression</label><div class=\"sk-toggleable__content\"><pre>LogisticRegression(max_iter=5000, multi_class=&#x27;ovr&#x27;, random_state=42)</pre></div></div></div></div></div>"
      ],
      "text/plain": [
       "LogisticRegression(max_iter=5000, multi_class='ovr', random_state=42)"
      ]
     },
     "execution_count": 37,
     "metadata": {},
     "output_type": "execute_result"
    }
   ],
   "source": [
    "log_reg = LogisticRegression(multi_class=\"ovr\", solver=\"lbfgs\", max_iter=5000, random_state=42)\n",
    "log_reg.fit(X_train, y_train_propagated)"
   ]
  },
  {
   "cell_type": "code",
   "execution_count": 38,
   "metadata": {},
   "outputs": [
    {
     "data": {
      "text/plain": [
       "0.9333333333333333"
      ]
     },
     "execution_count": 38,
     "metadata": {},
     "output_type": "execute_result"
    }
   ],
   "source": [
    "log_reg.score(X_test, y_test)"
   ]
  },
  {
   "cell_type": "markdown",
   "metadata": {},
   "source": [
    "Good 2% accuracy boost. But we can propagate the labels to the instances closest to the centroid, since we're including some outliers.\\\n",
    "We propagate the labels to the 75th percentile closest to the centroid"
   ]
  },
  {
   "cell_type": "code",
   "execution_count": 39,
   "metadata": {},
   "outputs": [],
   "source": [
    "percentile_closest = 75\n",
    "\n",
    "X_cluster_dist = X_digits_dist[np.arange(len(X_train)), kmeans.labels_]\n",
    "for i in range(k):\n",
    "    in_cluster = (kmeans.labels_ == i)\n",
    "    cluster_dist = X_cluster_dist[in_cluster]\n",
    "    cutoff_distance = np.percentile(cluster_dist, percentile_closest)\n",
    "    above_cutoff = (X_cluster_dist > cutoff_distance)\n",
    "    X_cluster_dist[in_cluster & above_cutoff] = -1"
   ]
  },
  {
   "cell_type": "code",
   "execution_count": 40,
   "metadata": {},
   "outputs": [],
   "source": [
    "partially_propagated = (X_cluster_dist != -1)\n",
    "X_train_partially_propagated = X_train[partially_propagated]\n",
    "y_train_partially_propagated = y_train_propagated[partially_propagated]"
   ]
  },
  {
   "cell_type": "code",
   "execution_count": 41,
   "metadata": {},
   "outputs": [
    {
     "data": {
      "text/html": [
       "<style>#sk-container-id-6 {color: black;background-color: white;}#sk-container-id-6 pre{padding: 0;}#sk-container-id-6 div.sk-toggleable {background-color: white;}#sk-container-id-6 label.sk-toggleable__label {cursor: pointer;display: block;width: 100%;margin-bottom: 0;padding: 0.3em;box-sizing: border-box;text-align: center;}#sk-container-id-6 label.sk-toggleable__label-arrow:before {content: \"▸\";float: left;margin-right: 0.25em;color: #696969;}#sk-container-id-6 label.sk-toggleable__label-arrow:hover:before {color: black;}#sk-container-id-6 div.sk-estimator:hover label.sk-toggleable__label-arrow:before {color: black;}#sk-container-id-6 div.sk-toggleable__content {max-height: 0;max-width: 0;overflow: hidden;text-align: left;background-color: #f0f8ff;}#sk-container-id-6 div.sk-toggleable__content pre {margin: 0.2em;color: black;border-radius: 0.25em;background-color: #f0f8ff;}#sk-container-id-6 input.sk-toggleable__control:checked~div.sk-toggleable__content {max-height: 200px;max-width: 100%;overflow: auto;}#sk-container-id-6 input.sk-toggleable__control:checked~label.sk-toggleable__label-arrow:before {content: \"▾\";}#sk-container-id-6 div.sk-estimator input.sk-toggleable__control:checked~label.sk-toggleable__label {background-color: #d4ebff;}#sk-container-id-6 div.sk-label input.sk-toggleable__control:checked~label.sk-toggleable__label {background-color: #d4ebff;}#sk-container-id-6 input.sk-hidden--visually {border: 0;clip: rect(1px 1px 1px 1px);clip: rect(1px, 1px, 1px, 1px);height: 1px;margin: -1px;overflow: hidden;padding: 0;position: absolute;width: 1px;}#sk-container-id-6 div.sk-estimator {font-family: monospace;background-color: #f0f8ff;border: 1px dotted black;border-radius: 0.25em;box-sizing: border-box;margin-bottom: 0.5em;}#sk-container-id-6 div.sk-estimator:hover {background-color: #d4ebff;}#sk-container-id-6 div.sk-parallel-item::after {content: \"\";width: 100%;border-bottom: 1px solid gray;flex-grow: 1;}#sk-container-id-6 div.sk-label:hover label.sk-toggleable__label {background-color: #d4ebff;}#sk-container-id-6 div.sk-serial::before {content: \"\";position: absolute;border-left: 1px solid gray;box-sizing: border-box;top: 0;bottom: 0;left: 50%;z-index: 0;}#sk-container-id-6 div.sk-serial {display: flex;flex-direction: column;align-items: center;background-color: white;padding-right: 0.2em;padding-left: 0.2em;position: relative;}#sk-container-id-6 div.sk-item {position: relative;z-index: 1;}#sk-container-id-6 div.sk-parallel {display: flex;align-items: stretch;justify-content: center;background-color: white;position: relative;}#sk-container-id-6 div.sk-item::before, #sk-container-id-6 div.sk-parallel-item::before {content: \"\";position: absolute;border-left: 1px solid gray;box-sizing: border-box;top: 0;bottom: 0;left: 50%;z-index: -1;}#sk-container-id-6 div.sk-parallel-item {display: flex;flex-direction: column;z-index: 1;position: relative;background-color: white;}#sk-container-id-6 div.sk-parallel-item:first-child::after {align-self: flex-end;width: 50%;}#sk-container-id-6 div.sk-parallel-item:last-child::after {align-self: flex-start;width: 50%;}#sk-container-id-6 div.sk-parallel-item:only-child::after {width: 0;}#sk-container-id-6 div.sk-dashed-wrapped {border: 1px dashed gray;margin: 0 0.4em 0.5em 0.4em;box-sizing: border-box;padding-bottom: 0.4em;background-color: white;}#sk-container-id-6 div.sk-label label {font-family: monospace;font-weight: bold;display: inline-block;line-height: 1.2em;}#sk-container-id-6 div.sk-label-container {text-align: center;}#sk-container-id-6 div.sk-container {/* jupyter's `normalize.less` sets `[hidden] { display: none; }` but bootstrap.min.css set `[hidden] { display: none !important; }` so we also need the `!important` here to be able to override the default hidden behavior on the sphinx rendered scikit-learn.org. See: https://github.com/scikit-learn/scikit-learn/issues/21755 */display: inline-block !important;position: relative;}#sk-container-id-6 div.sk-text-repr-fallback {display: none;}</style><div id=\"sk-container-id-6\" class=\"sk-top-container\"><div class=\"sk-text-repr-fallback\"><pre>LogisticRegression(max_iter=5000, multi_class=&#x27;ovr&#x27;, random_state=42)</pre><b>In a Jupyter environment, please rerun this cell to show the HTML representation or trust the notebook. <br />On GitHub, the HTML representation is unable to render, please try loading this page with nbviewer.org.</b></div><div class=\"sk-container\" hidden><div class=\"sk-item\"><div class=\"sk-estimator sk-toggleable\"><input class=\"sk-toggleable__control sk-hidden--visually\" id=\"sk-estimator-id-13\" type=\"checkbox\" checked><label for=\"sk-estimator-id-13\" class=\"sk-toggleable__label sk-toggleable__label-arrow\">LogisticRegression</label><div class=\"sk-toggleable__content\"><pre>LogisticRegression(max_iter=5000, multi_class=&#x27;ovr&#x27;, random_state=42)</pre></div></div></div></div></div>"
      ],
      "text/plain": [
       "LogisticRegression(max_iter=5000, multi_class='ovr', random_state=42)"
      ]
     },
     "execution_count": 41,
     "metadata": {},
     "output_type": "execute_result"
    }
   ],
   "source": [
    "log_reg = LogisticRegression(multi_class=\"ovr\", solver=\"lbfgs\", max_iter=5000, random_state=42)\n",
    "log_reg.fit(X_train_partially_propagated, y_train_partially_propagated)"
   ]
  },
  {
   "cell_type": "code",
   "execution_count": 42,
   "metadata": {},
   "outputs": [
    {
     "data": {
      "text/plain": [
       "0.9333333333333333"
      ]
     },
     "execution_count": 42,
     "metadata": {},
     "output_type": "execute_result"
    }
   ],
   "source": [
    "log_reg.score(X_test, y_test)"
   ]
  },
  {
   "cell_type": "markdown",
   "metadata": {},
   "source": [
    "Nothing changed, but that's only because we have a small subset of datas to work with. When working with many datasets, we can hope to achieve even a stronger accuracy score"
   ]
  },
  {
   "cell_type": "code",
   "execution_count": 43,
   "metadata": {},
   "outputs": [
    {
     "data": {
      "text/plain": [
       "0.9741035856573705"
      ]
     },
     "execution_count": 43,
     "metadata": {},
     "output_type": "execute_result"
    }
   ],
   "source": [
    "np.mean(y_train_partially_propagated == y_train[partially_propagated])"
   ]
  }
 ],
 "metadata": {
  "kernelspec": {
   "display_name": "Python 3.10.4 ('mytfenv')",
   "language": "python",
   "name": "python3"
  },
  "language_info": {
   "codemirror_mode": {
    "name": "ipython",
    "version": 3
   },
   "file_extension": ".py",
   "mimetype": "text/x-python",
   "name": "python",
   "nbconvert_exporter": "python",
   "pygments_lexer": "ipython3",
   "version": "3.10.4"
  },
  "orig_nbformat": 4,
  "vscode": {
   "interpreter": {
    "hash": "7a6141bb765aa3bbac06bf2c44817d253d74b01a0fc0a193c6da1ab26e07cb0a"
   }
  }
 },
 "nbformat": 4,
 "nbformat_minor": 2
}
