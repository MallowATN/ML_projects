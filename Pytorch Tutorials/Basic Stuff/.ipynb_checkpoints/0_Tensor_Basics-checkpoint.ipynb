{
 "cells": [
  {
   "cell_type": "code",
   "execution_count": 2,
   "id": "942b1c1c",
   "metadata": {},
   "outputs": [],
   "source": [
    "import torch"
   ]
  },
  {
   "cell_type": "code",
   "execution_count": 5,
   "id": "d161e4cd",
   "metadata": {},
   "outputs": [
    {
     "data": {
      "text/plain": [
       "'NVIDIA GeForce RTX 3080 Ti'"
      ]
     },
     "execution_count": 5,
     "metadata": {},
     "output_type": "execute_result"
    }
   ],
   "source": [
    "torch.cuda.get_device_name(0)"
   ]
  },
  {
   "cell_type": "code",
   "execution_count": 9,
   "id": "e2cdeca6",
   "metadata": {},
   "outputs": [],
   "source": [
    "x = torch.rand(2,2)\n",
    "y = torch.rand(2,2)"
   ]
  },
  {
   "cell_type": "markdown",
   "id": "2afc0202",
   "metadata": {},
   "source": [
    "Choose dimensions and creating an empty tensor"
   ]
  },
  {
   "cell_type": "code",
   "execution_count": 19,
   "id": "c2865f79",
   "metadata": {},
   "outputs": [],
   "source": [
    "x = torch.empty(3,3,2,2)\n",
    "print(x)"
   ]
  },
  {
   "cell_type": "markdown",
   "id": "bb504b69",
   "metadata": {},
   "source": [
    "Assigning dtype parameter"
   ]
  },
  {
   "cell_type": "code",
   "execution_count": null,
   "id": "a6962504",
   "metadata": {},
   "outputs": [],
   "source": [
    "x = torch.ones(2,2,dtype=torch.float16)\n",
    "print(x.size())"
   ]
  },
  {
   "cell_type": "markdown",
   "id": "d406cd82",
   "metadata": {},
   "source": [
    "Construct tensor from data like python list"
   ]
  },
  {
   "cell_type": "code",
   "execution_count": 20,
   "id": "d4fa5ac0",
   "metadata": {},
   "outputs": [
    {
     "name": "stdout",
     "output_type": "stream",
     "text": [
      "tensor([2.5000, 0.1000])\n"
     ]
    }
   ],
   "source": [
    "x = torch.tensor([2.5,0.1])\n",
    "print(x)"
   ]
  },
  {
   "cell_type": "markdown",
   "id": "f7d702a8",
   "metadata": {},
   "source": [
    "Create two tensors of random value of 2x2... basic computations..."
   ]
  },
  {
   "cell_type": "code",
   "execution_count": 21,
   "id": "b30a1966",
   "metadata": {},
   "outputs": [],
   "source": [
    "x = torch.rand(2,2)\n",
    "y = torch.rand(2,2)"
   ]
  },
  {
   "cell_type": "code",
   "execution_count": null,
   "id": "17f63caa",
   "metadata": {},
   "outputs": [],
   "source": [
    "print(x)\n",
    "print(y)"
   ]
  },
  {
   "cell_type": "code",
   "execution_count": null,
   "id": "b445d41a",
   "metadata": {},
   "outputs": [],
   "source": [
    "z = x + y"
   ]
  },
  {
   "cell_type": "code",
   "execution_count": null,
   "id": "2b37665c",
   "metadata": {},
   "outputs": [],
   "source": [
    "y.add_(x)"
   ]
  },
  {
   "cell_type": "code",
   "execution_count": null,
   "id": "9d5d5eea",
   "metadata": {},
   "outputs": [],
   "source": [
    "# Note that in pytorch, everytime you see a pytorch with a trailing underscore, it will modify the variable\n",
    "# that is being performed on... add_ will add x onto y and replace that y"
   ]
  },
  {
   "cell_type": "markdown",
   "id": "5e512193",
   "metadata": {},
   "source": [
    "Slicing"
   ]
  },
  {
   "cell_type": "code",
   "execution_count": 22,
   "id": "2d818609",
   "metadata": {},
   "outputs": [],
   "source": [
    "x = torch.rand(5,3)"
   ]
  },
  {
   "cell_type": "code",
   "execution_count": 25,
   "id": "5c1095a8",
   "metadata": {},
   "outputs": [
    {
     "name": "stdout",
     "output_type": "stream",
     "text": [
      "tensor([[0.2925, 0.0706, 0.0541],\n",
      "        [0.3997, 0.7160, 0.8722],\n",
      "        [0.3140, 0.7389, 0.6067],\n",
      "        [0.7669, 0.3807, 0.5435],\n",
      "        [0.7764, 0.4209, 0.3351]])\n"
     ]
    }
   ],
   "source": [
    "print(x)"
   ]
  },
  {
   "cell_type": "code",
   "execution_count": 24,
   "id": "f2dd8005",
   "metadata": {},
   "outputs": [
    {
     "name": "stdout",
     "output_type": "stream",
     "text": [
      "tensor([0.2925, 0.3997, 0.3140, 0.7669, 0.7764])\n"
     ]
    }
   ],
   "source": [
    "print(x[:,0]) #All rows, first column value"
   ]
  },
  {
   "cell_type": "code",
   "execution_count": 23,
   "id": "34a11cf7",
   "metadata": {},
   "outputs": [
    {
     "name": "stdout",
     "output_type": "stream",
     "text": [
      "tensor([0.3997, 0.7160, 0.8722])\n"
     ]
    }
   ],
   "source": [
    "print(x[1,:]) #First row, all columns"
   ]
  },
  {
   "cell_type": "code",
   "execution_count": 27,
   "id": "2b6a037e",
   "metadata": {},
   "outputs": [
    {
     "name": "stdout",
     "output_type": "stream",
     "text": [
      "0.7160389423370361\n"
     ]
    }
   ],
   "source": [
    "print(x[1,1].item()) #Gets you exact value. CAN ONLY CONTAIN 1 ELEMENT "
   ]
  },
  {
   "cell_type": "markdown",
   "id": "dafef7c3",
   "metadata": {},
   "source": [
    "Reshape method"
   ]
  },
  {
   "cell_type": "code",
   "execution_count": 28,
   "id": "1edd8d0a",
   "metadata": {},
   "outputs": [
    {
     "name": "stdout",
     "output_type": "stream",
     "text": [
      "tensor([[0.1410, 0.0907, 0.6594, 0.8524],\n",
      "        [0.0625, 0.2548, 0.0055, 0.5065],\n",
      "        [0.4943, 0.1326, 0.4994, 0.5511],\n",
      "        [0.4036, 0.3087, 0.0110, 0.5630]])\n",
      "tensor([0.1410, 0.0907, 0.6594, 0.8524, 0.0625, 0.2548, 0.0055, 0.5065, 0.4943,\n",
      "        0.1326, 0.4994, 0.5511, 0.4036, 0.3087, 0.0110, 0.5630])\n"
     ]
    }
   ],
   "source": [
    "x = torch.rand(4,4)\n",
    "print(x)\n",
    "y = x.view(16) #for single dimensions 4x4=16\n",
    "print(y)"
   ]
  },
  {
   "cell_type": "code",
   "execution_count": 36,
   "id": "b797c30d",
   "metadata": {},
   "outputs": [
    {
     "name": "stdout",
     "output_type": "stream",
     "text": [
      "tensor([[0.1410, 0.0907, 0.6594, 0.8524, 0.0625, 0.2548, 0.0055, 0.5065],\n",
      "        [0.4943, 0.1326, 0.4994, 0.5511, 0.4036, 0.3087, 0.0110, 0.5630]])\n",
      "torch.Size([2, 8])\n"
     ]
    }
   ],
   "source": [
    "y = x.view(-1,8) #for two dimensions... split into halves\n",
    "print(y)\n",
    "print(y.size())"
   ]
  },
  {
   "cell_type": "code",
   "execution_count": 37,
   "id": "7642c659",
   "metadata": {},
   "outputs": [],
   "source": [
    "import numpy as np"
   ]
  },
  {
   "cell_type": "markdown",
   "id": "5e70988a",
   "metadata": {},
   "source": [
    "Conversion between tensors and numpy arrays"
   ]
  },
  {
   "cell_type": "code",
   "execution_count": 38,
   "id": "7d806969",
   "metadata": {},
   "outputs": [
    {
     "name": "stdout",
     "output_type": "stream",
     "text": [
      "tensor([1., 1., 1., 1., 1.])\n"
     ]
    }
   ],
   "source": [
    "a = torch.ones(5)\n",
    "print(a)"
   ]
  },
  {
   "cell_type": "code",
   "execution_count": 39,
   "id": "bf1029b2",
   "metadata": {},
   "outputs": [
    {
     "name": "stdout",
     "output_type": "stream",
     "text": [
      "[1. 1. 1. 1. 1.]\n"
     ]
    }
   ],
   "source": [
    "b = a.numpy()\n",
    "print(b)"
   ]
  },
  {
   "cell_type": "code",
   "execution_count": 42,
   "id": "d5d93fda",
   "metadata": {},
   "outputs": [
    {
     "name": "stdout",
     "output_type": "stream",
     "text": [
      "<class 'numpy.ndarray'>\n"
     ]
    }
   ],
   "source": [
    "print(type(b))"
   ]
  },
  {
   "cell_type": "code",
   "execution_count": 45,
   "id": "76e3d465",
   "metadata": {},
   "outputs": [],
   "source": [
    "# Note: Be careful! If the tensor is on the CPU and not GPU, then both object will share the same memory \n",
    "# location.\n",
    "# If we change one, we will change the other"
   ]
  },
  {
   "cell_type": "code",
   "execution_count": 43,
   "id": "ff26fa76",
   "metadata": {},
   "outputs": [
    {
     "name": "stdout",
     "output_type": "stream",
     "text": [
      "tensor([2., 2., 2., 2., 2.])\n"
     ]
    }
   ],
   "source": [
    "a.add_(1)\n",
    "print(a)\n",
    "print(b)"
   ]
  },
  {
   "cell_type": "code",
   "execution_count": null,
   "id": "33c2a275",
   "metadata": {},
   "outputs": [],
   "source": []
  },
  {
   "cell_type": "code",
   "execution_count": 48,
   "id": "5948ce6e",
   "metadata": {},
   "outputs": [
    {
     "name": "stdout",
     "output_type": "stream",
     "text": [
      "[1. 1. 1. 1. 1.]\n",
      "tensor([1., 1., 1., 1., 1.], dtype=torch.float64)\n"
     ]
    }
   ],
   "source": [
    "a = np.ones(5)\n",
    "print(a)\n",
    "b = torch.from_numpy(a)\n",
    "print(b)"
   ]
  },
  {
   "cell_type": "code",
   "execution_count": 52,
   "id": "f602e01a",
   "metadata": {},
   "outputs": [
    {
     "name": "stdout",
     "output_type": "stream",
     "text": [
      "[2. 2. 2. 2. 2.]\n",
      "tensor([2., 2., 2., 2., 2.], dtype=torch.float64)\n"
     ]
    }
   ],
   "source": [
    "a += 1\n",
    "print(a)\n",
    "print(b)"
   ]
  },
  {
   "cell_type": "code",
   "execution_count": null,
   "id": "06568243",
   "metadata": {},
   "outputs": [],
   "source": [
    "# To have it on the GPU..."
   ]
  },
  {
   "cell_type": "code",
   "execution_count": 51,
   "id": "ac1a5c50",
   "metadata": {},
   "outputs": [
    {
     "name": "stdout",
     "output_type": "stream",
     "text": [
      "tensor([2., 2., 2., 2., 2.], device='cuda:0')\n"
     ]
    }
   ],
   "source": [
    "if torch.cuda.is_available():\n",
    "    device = torch.device('cuda')\n",
    "    x = torch.ones(5, device=device)\n",
    "    y = torch.ones(5)\n",
    "    y = y.to(device)\n",
    "    z = x + y\n",
    "#     z.numpy() #Numpy can only handle CPU tensors, not GPU tensors, so this will cause an error\n",
    "    print(z) #On the GPU\n",
    "#     z = z.to('cpu') #Will bring the computation to the CPU"
   ]
  },
  {
   "cell_type": "markdown",
   "id": "d667d6ff",
   "metadata": {},
   "source": [
    "Lot of times, when a tensor is created, you'll see the argument: requires_grad. it's defaulted as\n",
    "false. So when it's true, it tells pytorch that it will need to calculate the gradients for this tensor later in the optimization steps."
   ]
  },
  {
   "cell_type": "code",
   "execution_count": 53,
   "id": "4532897e",
   "metadata": {},
   "outputs": [
    {
     "name": "stdout",
     "output_type": "stream",
     "text": [
      "tensor([1., 1., 1., 1., 1.], requires_grad=True)\n"
     ]
    }
   ],
   "source": [
    "x = torch.ones(5,requires_grad=True)\n",
    "print(x)"
   ]
  }
 ],
 "metadata": {
  "kernelspec": {
   "display_name": "Python 3 (ipykernel)",
   "language": "python",
   "name": "python3"
  },
  "language_info": {
   "codemirror_mode": {
    "name": "ipython",
    "version": 3
   },
   "file_extension": ".py",
   "mimetype": "text/x-python",
   "name": "python",
   "nbconvert_exporter": "python",
   "pygments_lexer": "ipython3",
   "version": "3.10.4"
  }
 },
 "nbformat": 4,
 "nbformat_minor": 5
}
