{
 "cells": [
  {
   "cell_type": "markdown",
   "id": "29ef288a",
   "metadata": {},
   "source": [
    "1) Design model (input, output size,forward pass)\\\n",
    "2) Construct loss and optimizer\\\n",
    "3) Training loop\\\n",
    "   ----forward pass: compute prediction\\\n",
    "   ----backward pass: gradients\\\n",
    "   ----update weights... iterate this a couple of times\\\n",
    "4) We replace our forward method with a pytorch module, and we don't need our weights. pytorch knows our parameter"
   ]
  },
  {
   "cell_type": "code",
   "execution_count": 2,
   "id": "c537ebd4",
   "metadata": {},
   "outputs": [],
   "source": [
    "import torch\n",
    "import torch.nn as nn\n",
    "import numpy as np\n",
    "from sklearn import datasets\n",
    "from sklearn.preprocessing import StandardScaler\n",
    "from sklearn.model_selection import train_test_split"
   ]
  },
  {
   "cell_type": "code",
   "execution_count": 7,
   "id": "5ce720ee",
   "metadata": {},
   "outputs": [
    {
     "name": "stdout",
     "output_type": "stream",
     "text": [
      "epoch: 10, loss = 0.6659\n",
      "epoch: 20, loss = 0.5377\n",
      "epoch: 30, loss = 0.4590\n",
      "epoch: 40, loss = 0.4063\n",
      "epoch: 50, loss = 0.3684\n",
      "epoch: 60, loss = 0.3398\n",
      "epoch: 70, loss = 0.3173\n",
      "epoch: 80, loss = 0.2990\n",
      "epoch: 90, loss = 0.2839\n",
      "epoch: 100, loss = 0.2710\n",
      "accuracy = 0.9737\n"
     ]
    }
   ],
   "source": [
    "# 0) prepare the data\n",
    "bc = datasets.load_breast_cancer()\n",
    "X,y = bc.data, bc.target\n",
    "\n",
    "n_samples, n_features = X.shape\n",
    "\n",
    "X_train, X_test, y_train, y_test = train_test_split(X,y,test_size=0.2, random_state = 42)\n",
    "scaler = StandardScaler()\n",
    "X_train = scaler.fit_transform(X_train)\n",
    "X_test = scaler.transform(X_test)\n",
    "\n",
    "X_train = torch.from_numpy(X_train.astype(np.float32))\n",
    "X_test = torch.from_numpy(X_test.astype(np.float32))\n",
    "y_train = torch.from_numpy(y_train.astype(np.float32))\n",
    "y_test = torch.from_numpy(y_test.astype(np.float32))\n",
    "\n",
    "y_train = y_train.view(y_train.shape[0],1) #we want to have only 1 column vector\n",
    "y_test = y_test.view(y_test.shape[0],1) #we want to have only 1 column vector\n",
    "\n",
    "# 1) model\n",
    "# f = wx + b, sigmoid at the end\n",
    "\n",
    "class LogisticRegression(nn.Module):\n",
    "    def __init__(self, n_input_features):\n",
    "        super(LogisticRegression, self).__init__()\n",
    "        self.linear = nn.Linear(n_input_features, 1)\n",
    "    def forward(self, x):\n",
    "        y_predicted = torch.sigmoid(self.linear(x))\n",
    "        return y_predicted\n",
    "    \n",
    "model = LogisticRegression(n_features)\n",
    "\n",
    "# 2) loss and optimizer\n",
    "learning_rate = 0.01\n",
    "criterion = nn.BCELoss()\n",
    "optimizer = torch.optim.SGD(model.parameters(), lr = learning_rate)\n",
    "\n",
    "# 3) training loop\n",
    "num_epochs = 100\n",
    "for epoch in range(num_epochs):\n",
    "    #forward pass and loss\n",
    "    y_predicted = model(X_train)\n",
    "    loss = criterion(y_predicted, y_train)\n",
    "    \n",
    "    #backward pass\n",
    "    loss.backward()\n",
    "    \n",
    "    #updates\n",
    "    optimizer.step()\n",
    "    #empty gradient\n",
    "    optimizer.zero_grad() #backward function will always add up all the gradients into the the grad att.\n",
    "    \n",
    "    if (epoch+1) % 10 == 0:\n",
    "        print(f'epoch: {epoch+1}, loss = {loss.item():.4f}')\n",
    "with torch.no_grad(): #evaluation should not be part of computational graph where we track history\n",
    "    y_predicted = model(X_test) #get all predicted class from our test sample\n",
    "    y_predicted_class = y_predicted.round() #convert to class label, sigmoid returns value between 0 and 1\n",
    "    acc = y_predicted_class.eq(y_test).sum()/float(y_test.shape[0])\n",
    "    print(f'accuracy = {acc:.4f}')\n",
    "    "
   ]
  }
 ],
 "metadata": {
  "kernelspec": {
   "display_name": "Python 3 (ipykernel)",
   "language": "python",
   "name": "python3"
  },
  "language_info": {
   "codemirror_mode": {
    "name": "ipython",
    "version": 3
   },
   "file_extension": ".py",
   "mimetype": "text/x-python",
   "name": "python",
   "nbconvert_exporter": "python",
   "pygments_lexer": "ipython3",
   "version": "3.10.4"
  }
 },
 "nbformat": 4,
 "nbformat_minor": 5
}
